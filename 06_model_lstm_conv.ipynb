{
 "cells": [
  {
   "cell_type": "code",
   "execution_count": 1,
   "metadata": {
    "execution": {
     "iopub.execute_input": "2020-07-28T09:59:07.495799Z",
     "iopub.status.busy": "2020-07-28T09:59:07.495799Z",
     "iopub.status.idle": "2020-07-28T09:59:10.800019Z",
     "shell.execute_reply": "2020-07-28T09:59:10.800019Z",
     "shell.execute_reply.started": "2020-07-28T09:59:07.495799Z"
    }
   },
   "outputs": [],
   "source": [
    "import numpy as np\n",
    "import pandas as pd\n",
    "import seaborn as sns\n",
    "import matplotlib.pyplot as plt\n",
    "import datetime as dt\n",
    "\n",
    "sns.set(context=\"paper\", style=\"whitegrid\", \n",
    "       rc={\n",
    "           \"figure.figsize\": (8, 5),\n",
    "           \"figure.dpi\": 100\n",
    "       })\n",
    "google = [\"#4285F4\", \"#DB4437\", \"#F4B400\", \"#0F9D58\"]\n",
    "\n",
    "sns.set_palette(google)\n",
    "\n",
    "from preprocess_lib import preprocess_df, preprocess_timeseries\n",
    "\n",
    "seed_ = 20200218\n",
    "np.random.seed(seed_)\n",
    "\n",
    "import tensorflow as tf\n",
    "import keras\n",
    "from keras.models import Sequential\n",
    "from keras.layers import Dense, LSTM, Lambda, Conv1D\n",
    "from keras.optimizers import *\n",
    "tf.random.set_seed(seed_)\n",
    "# physical_devices = tf.config.list_physical_devices('GPU')\n",
    "# tf.config.experimental.set_memory_growth(physical_devices[0], enable=True)"
   ]
  },
  {
   "cell_type": "markdown",
   "metadata": {},
   "source": [
    "## Idea\n",
    "\n",
    "- forecast main meter `active power` from previous data"
   ]
  },
  {
   "cell_type": "markdown",
   "metadata": {},
   "source": [
    "## Problem\n",
    "\n",
    "- เหมือนมันทำ regression\n",
    "- คาดว่าเพราะข้อมูลไม่ได้มี period ที่แน่นอน?\n",
    "- หรือเพราะข้อมูลที่เป็น step? อยู่ๆก็พุ่งขึ้น?"
   ]
  },
  {
   "cell_type": "markdown",
   "metadata": {},
   "source": [
    "#### constant\n",
    "\n",
    "number of minute in one day and one week"
   ]
  },
  {
   "cell_type": "code",
   "execution_count": 2,
   "metadata": {
    "execution": {
     "iopub.execute_input": "2020-07-28T09:59:10.802020Z",
     "iopub.status.busy": "2020-07-28T09:59:10.802020Z",
     "iopub.status.idle": "2020-07-28T09:59:10.805021Z",
     "shell.execute_reply": "2020-07-28T09:59:10.805021Z",
     "shell.execute_reply.started": "2020-07-28T09:59:10.802020Z"
    }
   },
   "outputs": [],
   "source": [
    "ONEDAY_MIN = 24*60\n",
    "ONEWEEK_MIN = ONEDAY_MIN*7"
   ]
  },
  {
   "cell_type": "code",
   "execution_count": 3,
   "metadata": {
    "execution": {
     "iopub.execute_input": "2020-07-28T09:59:10.806607Z",
     "iopub.status.busy": "2020-07-28T09:59:10.806607Z",
     "iopub.status.idle": "2020-07-28T09:59:10.820597Z",
     "shell.execute_reply": "2020-07-28T09:59:10.820597Z",
     "shell.execute_reply.started": "2020-07-28T09:59:10.806607Z"
    }
   },
   "outputs": [
    {
     "data": {
      "text/plain": [
       "(1440, 10080)"
      ]
     },
     "execution_count": 3,
     "metadata": {},
     "output_type": "execute_result"
    }
   ],
   "source": [
    "ONEDAY_MIN, ONEWEEK_MIN"
   ]
  },
  {
   "cell_type": "markdown",
   "metadata": {},
   "source": [
    "## Load Meter Data\n",
    "\n",
    "### explore the dataframe"
   ]
  },
  {
   "cell_type": "code",
   "execution_count": 4,
   "metadata": {
    "execution": {
     "iopub.execute_input": "2020-07-28T09:59:10.822600Z",
     "iopub.status.busy": "2020-07-28T09:59:10.821598Z",
     "iopub.status.idle": "2020-07-28T09:59:11.883838Z",
     "shell.execute_reply": "2020-07-28T09:59:11.883838Z",
     "shell.execute_reply.started": "2020-07-28T09:59:10.822600Z"
    }
   },
   "outputs": [],
   "source": [
    "df = pd.read_csv(\"./data/raw_appliances/main_1.csv\")"
   ]
  },
  {
   "cell_type": "code",
   "execution_count": 5,
   "metadata": {
    "execution": {
     "iopub.execute_input": "2020-07-28T09:59:11.884837Z",
     "iopub.status.busy": "2020-07-28T09:59:11.884837Z",
     "iopub.status.idle": "2020-07-28T09:59:12.036880Z",
     "shell.execute_reply": "2020-07-28T09:59:12.036880Z",
     "shell.execute_reply.started": "2020-07-28T09:59:11.884837Z"
    }
   },
   "outputs": [
    {
     "name": "stdout",
     "output_type": "stream",
     "text": [
      "<class 'pandas.core.frame.DataFrame'>\n",
      "RangeIndex: 1051200 entries, 0 to 1051199\n",
      "Data columns (total 8 columns):\n",
      " #   Column                 Non-Null Count    Dtype  \n",
      "---  ------                 --------------    -----  \n",
      " 0   TIMESTAMP              1051200 non-null  object \n",
      " 1   power factor_apparent  1051200 non-null  float64\n",
      " 2   power_reactive         1051200 non-null  float64\n",
      " 3   power_active           1051200 non-null  float64\n",
      " 4   power_apparent         1051200 non-null  float64\n",
      " 5   appliances_type        1051200 non-null  object \n",
      " 6   appliances_id          1051200 non-null  int64  \n",
      " 7   appliances_name        1051200 non-null  object \n",
      "dtypes: float64(4), int64(1), object(3)\n",
      "memory usage: 64.2+ MB\n"
     ]
    }
   ],
   "source": [
    "df.info()"
   ]
  },
  {
   "cell_type": "code",
   "execution_count": 6,
   "metadata": {
    "execution": {
     "iopub.execute_input": "2020-07-28T09:59:12.037872Z",
     "iopub.status.busy": "2020-07-28T09:59:12.037872Z",
     "iopub.status.idle": "2020-07-28T09:59:12.050884Z",
     "shell.execute_reply": "2020-07-28T09:59:12.050884Z",
     "shell.execute_reply.started": "2020-07-28T09:59:12.037872Z"
    }
   },
   "outputs": [
    {
     "data": {
      "text/html": [
       "<div>\n",
       "<style scoped>\n",
       "    .dataframe tbody tr th:only-of-type {\n",
       "        vertical-align: middle;\n",
       "    }\n",
       "\n",
       "    .dataframe tbody tr th {\n",
       "        vertical-align: top;\n",
       "    }\n",
       "\n",
       "    .dataframe thead th {\n",
       "        text-align: right;\n",
       "    }\n",
       "</style>\n",
       "<table border=\"1\" class=\"dataframe\">\n",
       "  <thead>\n",
       "    <tr style=\"text-align: right;\">\n",
       "      <th></th>\n",
       "      <th>TIMESTAMP</th>\n",
       "      <th>power factor_apparent</th>\n",
       "      <th>power_reactive</th>\n",
       "      <th>power_active</th>\n",
       "      <th>power_apparent</th>\n",
       "      <th>appliances_type</th>\n",
       "      <th>appliances_id</th>\n",
       "      <th>appliances_name</th>\n",
       "    </tr>\n",
       "  </thead>\n",
       "  <tbody>\n",
       "    <tr>\n",
       "      <th>0</th>\n",
       "      <td>2012-04-01 00:00:00</td>\n",
       "      <td>0.93</td>\n",
       "      <td>141.0</td>\n",
       "      <td>918.0</td>\n",
       "      <td>1066.0</td>\n",
       "      <td>main</td>\n",
       "      <td>1</td>\n",
       "      <td>main 1</td>\n",
       "    </tr>\n",
       "    <tr>\n",
       "      <th>1</th>\n",
       "      <td>2012-04-01 00:01:00</td>\n",
       "      <td>0.93</td>\n",
       "      <td>141.0</td>\n",
       "      <td>913.0</td>\n",
       "      <td>1056.0</td>\n",
       "      <td>main</td>\n",
       "      <td>1</td>\n",
       "      <td>main 1</td>\n",
       "    </tr>\n",
       "    <tr>\n",
       "      <th>2</th>\n",
       "      <td>2012-04-01 00:02:00</td>\n",
       "      <td>0.93</td>\n",
       "      <td>139.0</td>\n",
       "      <td>872.0</td>\n",
       "      <td>1021.0</td>\n",
       "      <td>main</td>\n",
       "      <td>1</td>\n",
       "      <td>main 1</td>\n",
       "    </tr>\n",
       "    <tr>\n",
       "      <th>3</th>\n",
       "      <td>2012-04-01 00:03:00</td>\n",
       "      <td>0.93</td>\n",
       "      <td>141.0</td>\n",
       "      <td>872.0</td>\n",
       "      <td>1018.0</td>\n",
       "      <td>main</td>\n",
       "      <td>1</td>\n",
       "      <td>main 1</td>\n",
       "    </tr>\n",
       "    <tr>\n",
       "      <th>4</th>\n",
       "      <td>2012-04-01 00:04:00</td>\n",
       "      <td>0.89</td>\n",
       "      <td>140.0</td>\n",
       "      <td>772.0</td>\n",
       "      <td>1018.0</td>\n",
       "      <td>main</td>\n",
       "      <td>1</td>\n",
       "      <td>main 1</td>\n",
       "    </tr>\n",
       "  </tbody>\n",
       "</table>\n",
       "</div>"
      ],
      "text/plain": [
       "             TIMESTAMP  power factor_apparent  power_reactive  power_active  \\\n",
       "0  2012-04-01 00:00:00                   0.93           141.0         918.0   \n",
       "1  2012-04-01 00:01:00                   0.93           141.0         913.0   \n",
       "2  2012-04-01 00:02:00                   0.93           139.0         872.0   \n",
       "3  2012-04-01 00:03:00                   0.93           141.0         872.0   \n",
       "4  2012-04-01 00:04:00                   0.89           140.0         772.0   \n",
       "\n",
       "   power_apparent appliances_type  appliances_id appliances_name  \n",
       "0          1066.0            main              1          main 1  \n",
       "1          1056.0            main              1          main 1  \n",
       "2          1021.0            main              1          main 1  \n",
       "3          1018.0            main              1          main 1  \n",
       "4          1018.0            main              1          main 1  "
      ]
     },
     "execution_count": 6,
     "metadata": {},
     "output_type": "execute_result"
    }
   ],
   "source": [
    "df.head()"
   ]
  },
  {
   "cell_type": "markdown",
   "metadata": {},
   "source": [
    "#### column variable"
   ]
  },
  {
   "cell_type": "code",
   "execution_count": 7,
   "metadata": {
    "execution": {
     "iopub.execute_input": "2020-07-28T09:59:12.051874Z",
     "iopub.status.busy": "2020-07-28T09:59:12.051874Z",
     "iopub.status.idle": "2020-07-28T09:59:12.056876Z",
     "shell.execute_reply": "2020-07-28T09:59:12.056876Z",
     "shell.execute_reply.started": "2020-07-28T09:59:12.051874Z"
    }
   },
   "outputs": [],
   "source": [
    "timestamp_col = \"TIMESTAMP\""
   ]
  },
  {
   "cell_type": "markdown",
   "metadata": {},
   "source": [
    "### Preprocess data frame\n",
    "\n",
    "#### convert timestamp to datetime obj"
   ]
  },
  {
   "cell_type": "code",
   "execution_count": 8,
   "metadata": {
    "execution": {
     "iopub.execute_input": "2020-07-28T09:59:12.059877Z",
     "iopub.status.busy": "2020-07-28T09:59:12.058877Z",
     "iopub.status.idle": "2020-07-28T09:59:12.786041Z",
     "shell.execute_reply": "2020-07-28T09:59:12.786041Z",
     "shell.execute_reply.started": "2020-07-28T09:59:12.059877Z"
    }
   },
   "outputs": [],
   "source": [
    "preprocess_df.col_to_datetime(df, timestamp_col)"
   ]
  },
  {
   "cell_type": "code",
   "execution_count": 9,
   "metadata": {
    "execution": {
     "iopub.execute_input": "2020-07-28T09:59:12.788041Z",
     "iopub.status.busy": "2020-07-28T09:59:12.787041Z",
     "iopub.status.idle": "2020-07-28T09:59:12.887064Z",
     "shell.execute_reply": "2020-07-28T09:59:12.887064Z",
     "shell.execute_reply.started": "2020-07-28T09:59:12.788041Z"
    }
   },
   "outputs": [
    {
     "name": "stdout",
     "output_type": "stream",
     "text": [
      "<class 'pandas.core.frame.DataFrame'>\n",
      "RangeIndex: 1051200 entries, 0 to 1051199\n",
      "Data columns (total 8 columns):\n",
      " #   Column                 Non-Null Count    Dtype         \n",
      "---  ------                 --------------    -----         \n",
      " 0   TIMESTAMP              1051200 non-null  datetime64[ns]\n",
      " 1   power factor_apparent  1051200 non-null  float64       \n",
      " 2   power_reactive         1051200 non-null  float64       \n",
      " 3   power_active           1051200 non-null  float64       \n",
      " 4   power_apparent         1051200 non-null  float64       \n",
      " 5   appliances_type        1051200 non-null  object        \n",
      " 6   appliances_id          1051200 non-null  int64         \n",
      " 7   appliances_name        1051200 non-null  object        \n",
      "dtypes: datetime64[ns](1), float64(4), int64(1), object(2)\n",
      "memory usage: 64.2+ MB\n"
     ]
    }
   ],
   "source": [
    "df.info()"
   ]
  },
  {
   "cell_type": "markdown",
   "metadata": {},
   "source": [
    "#### add some new columns"
   ]
  },
  {
   "cell_type": "code",
   "execution_count": 10,
   "metadata": {
    "execution": {
     "iopub.execute_input": "2020-07-28T09:59:12.888065Z",
     "iopub.status.busy": "2020-07-28T09:59:12.888065Z",
     "iopub.status.idle": "2020-07-28T09:59:12.937075Z",
     "shell.execute_reply": "2020-07-28T09:59:12.937075Z",
     "shell.execute_reply.started": "2020-07-28T09:59:12.888065Z"
    }
   },
   "outputs": [],
   "source": [
    "preprocess_df.add_weekday_col(df, timestamp_col)"
   ]
  },
  {
   "cell_type": "code",
   "execution_count": 11,
   "metadata": {
    "execution": {
     "iopub.execute_input": "2020-07-28T09:59:12.938075Z",
     "iopub.status.busy": "2020-07-28T09:59:12.938075Z",
     "iopub.status.idle": "2020-07-28T09:59:13.059102Z",
     "shell.execute_reply": "2020-07-28T09:59:13.059102Z",
     "shell.execute_reply.started": "2020-07-28T09:59:12.938075Z"
    }
   },
   "outputs": [
    {
     "name": "stdout",
     "output_type": "stream",
     "text": [
      "<class 'pandas.core.frame.DataFrame'>\n",
      "RangeIndex: 1051200 entries, 0 to 1051199\n",
      "Data columns (total 9 columns):\n",
      " #   Column                 Non-Null Count    Dtype         \n",
      "---  ------                 --------------    -----         \n",
      " 0   TIMESTAMP              1051200 non-null  datetime64[ns]\n",
      " 1   power factor_apparent  1051200 non-null  float64       \n",
      " 2   power_reactive         1051200 non-null  float64       \n",
      " 3   power_active           1051200 non-null  float64       \n",
      " 4   power_apparent         1051200 non-null  float64       \n",
      " 5   appliances_type        1051200 non-null  object        \n",
      " 6   appliances_id          1051200 non-null  int64         \n",
      " 7   appliances_name        1051200 non-null  object        \n",
      " 8   weekday                1051200 non-null  int64         \n",
      "dtypes: datetime64[ns](1), float64(4), int64(2), object(2)\n",
      "memory usage: 72.2+ MB\n"
     ]
    }
   ],
   "source": [
    "df.info()"
   ]
  },
  {
   "cell_type": "markdown",
   "metadata": {},
   "source": [
    "### Dataset info"
   ]
  },
  {
   "cell_type": "code",
   "execution_count": 12,
   "metadata": {
    "execution": {
     "iopub.execute_input": "2020-07-28T09:59:13.061103Z",
     "iopub.status.busy": "2020-07-28T09:59:13.060103Z",
     "iopub.status.idle": "2020-07-28T09:59:13.170126Z",
     "shell.execute_reply": "2020-07-28T09:59:13.170126Z",
     "shell.execute_reply.started": "2020-07-28T09:59:13.061103Z"
    }
   },
   "outputs": [
    {
     "name": "stdout",
     "output_type": "stream",
     "text": [
      "<class 'pandas.core.frame.DataFrame'>\n",
      "RangeIndex: 1051200 entries, 0 to 1051199\n",
      "Data columns (total 9 columns):\n",
      " #   Column                 Non-Null Count    Dtype         \n",
      "---  ------                 --------------    -----         \n",
      " 0   TIMESTAMP              1051200 non-null  datetime64[ns]\n",
      " 1   power factor_apparent  1051200 non-null  float64       \n",
      " 2   power_reactive         1051200 non-null  float64       \n",
      " 3   power_active           1051200 non-null  float64       \n",
      " 4   power_apparent         1051200 non-null  float64       \n",
      " 5   appliances_type        1051200 non-null  object        \n",
      " 6   appliances_id          1051200 non-null  int64         \n",
      " 7   appliances_name        1051200 non-null  object        \n",
      " 8   weekday                1051200 non-null  int64         \n",
      "dtypes: datetime64[ns](1), float64(4), int64(2), object(2)\n",
      "memory usage: 72.2+ MB\n"
     ]
    }
   ],
   "source": [
    "df.info()"
   ]
  },
  {
   "cell_type": "code",
   "execution_count": 13,
   "metadata": {
    "execution": {
     "iopub.execute_input": "2020-07-28T09:59:13.171127Z",
     "iopub.status.busy": "2020-07-28T09:59:13.171127Z",
     "iopub.status.idle": "2020-07-28T09:59:13.174127Z",
     "shell.execute_reply": "2020-07-28T09:59:13.174127Z",
     "shell.execute_reply.started": "2020-07-28T09:59:13.171127Z"
    }
   },
   "outputs": [
    {
     "data": {
      "text/plain": [
       "(1051200, 9)"
      ]
     },
     "execution_count": 13,
     "metadata": {},
     "output_type": "execute_result"
    }
   ],
   "source": [
    "df.shape"
   ]
  },
  {
   "cell_type": "code",
   "execution_count": 14,
   "metadata": {
    "execution": {
     "iopub.execute_input": "2020-07-28T09:59:13.175128Z",
     "iopub.status.busy": "2020-07-28T09:59:13.175128Z",
     "iopub.status.idle": "2020-07-28T09:59:13.186139Z",
     "shell.execute_reply": "2020-07-28T09:59:13.186139Z",
     "shell.execute_reply.started": "2020-07-28T09:59:13.175128Z"
    }
   },
   "outputs": [
    {
     "name": "stdout",
     "output_type": "stream",
     "text": [
      "sampling period: 0 days 00:01:00\n",
      "sampling period: 60.0 sec\n"
     ]
    },
    {
     "data": {
      "text/plain": [
       "60.0"
      ]
     },
     "execution_count": 14,
     "metadata": {},
     "output_type": "execute_result"
    }
   ],
   "source": [
    "sampling_preriod = preprocess_df.get_sampling_period(df[timestamp_col])\n",
    "sampling_preriod"
   ]
  },
  {
   "cell_type": "markdown",
   "metadata": {},
   "source": [
    "### resample data"
   ]
  },
  {
   "cell_type": "code",
   "execution_count": 15,
   "metadata": {
    "execution": {
     "iopub.execute_input": "2020-07-28T09:59:13.187131Z",
     "iopub.status.busy": "2020-07-28T09:59:13.187131Z",
     "iopub.status.idle": "2020-07-28T09:59:13.396178Z",
     "shell.execute_reply": "2020-07-28T09:59:13.396178Z",
     "shell.execute_reply.started": "2020-07-28T09:59:13.187131Z"
    }
   },
   "outputs": [],
   "source": [
    "resampling_period = int(sampling_preriod*2)\n",
    "\n",
    "df.index = df[timestamp_col]\n",
    "df = df.resample(f\"{resampling_period}s\").mean()\n",
    "df = df.reset_index()"
   ]
  },
  {
   "cell_type": "code",
   "execution_count": 16,
   "metadata": {
    "execution": {
     "iopub.execute_input": "2020-07-28T09:59:13.397178Z",
     "iopub.status.busy": "2020-07-28T09:59:13.397178Z",
     "iopub.status.idle": "2020-07-28T09:59:13.414183Z",
     "shell.execute_reply": "2020-07-28T09:59:13.414183Z",
     "shell.execute_reply.started": "2020-07-28T09:59:13.397178Z"
    }
   },
   "outputs": [
    {
     "data": {
      "text/html": [
       "<div>\n",
       "<style scoped>\n",
       "    .dataframe tbody tr th:only-of-type {\n",
       "        vertical-align: middle;\n",
       "    }\n",
       "\n",
       "    .dataframe tbody tr th {\n",
       "        vertical-align: top;\n",
       "    }\n",
       "\n",
       "    .dataframe thead th {\n",
       "        text-align: right;\n",
       "    }\n",
       "</style>\n",
       "<table border=\"1\" class=\"dataframe\">\n",
       "  <thead>\n",
       "    <tr style=\"text-align: right;\">\n",
       "      <th></th>\n",
       "      <th>TIMESTAMP</th>\n",
       "      <th>power factor_apparent</th>\n",
       "      <th>power_reactive</th>\n",
       "      <th>power_active</th>\n",
       "      <th>power_apparent</th>\n",
       "      <th>appliances_id</th>\n",
       "      <th>weekday</th>\n",
       "    </tr>\n",
       "  </thead>\n",
       "  <tbody>\n",
       "    <tr>\n",
       "      <th>0</th>\n",
       "      <td>2012-04-01 00:00:00</td>\n",
       "      <td>0.930</td>\n",
       "      <td>141.0</td>\n",
       "      <td>915.5</td>\n",
       "      <td>1061.0</td>\n",
       "      <td>1</td>\n",
       "      <td>6</td>\n",
       "    </tr>\n",
       "    <tr>\n",
       "      <th>1</th>\n",
       "      <td>2012-04-01 00:02:00</td>\n",
       "      <td>0.930</td>\n",
       "      <td>140.0</td>\n",
       "      <td>872.0</td>\n",
       "      <td>1019.5</td>\n",
       "      <td>1</td>\n",
       "      <td>6</td>\n",
       "    </tr>\n",
       "    <tr>\n",
       "      <th>2</th>\n",
       "      <td>2012-04-01 00:04:00</td>\n",
       "      <td>0.895</td>\n",
       "      <td>140.5</td>\n",
       "      <td>826.5</td>\n",
       "      <td>1073.5</td>\n",
       "      <td>1</td>\n",
       "      <td>6</td>\n",
       "    </tr>\n",
       "    <tr>\n",
       "      <th>3</th>\n",
       "      <td>2012-04-01 00:06:00</td>\n",
       "      <td>0.930</td>\n",
       "      <td>195.5</td>\n",
       "      <td>1064.5</td>\n",
       "      <td>1269.5</td>\n",
       "      <td>1</td>\n",
       "      <td>6</td>\n",
       "    </tr>\n",
       "    <tr>\n",
       "      <th>4</th>\n",
       "      <td>2012-04-01 00:08:00</td>\n",
       "      <td>0.930</td>\n",
       "      <td>187.0</td>\n",
       "      <td>1071.0</td>\n",
       "      <td>1238.5</td>\n",
       "      <td>1</td>\n",
       "      <td>6</td>\n",
       "    </tr>\n",
       "    <tr>\n",
       "      <th>...</th>\n",
       "      <td>...</td>\n",
       "      <td>...</td>\n",
       "      <td>...</td>\n",
       "      <td>...</td>\n",
       "      <td>...</td>\n",
       "      <td>...</td>\n",
       "      <td>...</td>\n",
       "    </tr>\n",
       "    <tr>\n",
       "      <th>525595</th>\n",
       "      <td>2014-03-31 23:50:00</td>\n",
       "      <td>0.745</td>\n",
       "      <td>107.0</td>\n",
       "      <td>399.5</td>\n",
       "      <td>616.5</td>\n",
       "      <td>1</td>\n",
       "      <td>0</td>\n",
       "    </tr>\n",
       "    <tr>\n",
       "      <th>525596</th>\n",
       "      <td>2014-03-31 23:52:00</td>\n",
       "      <td>0.795</td>\n",
       "      <td>136.0</td>\n",
       "      <td>470.0</td>\n",
       "      <td>698.0</td>\n",
       "      <td>1</td>\n",
       "      <td>0</td>\n",
       "    </tr>\n",
       "    <tr>\n",
       "      <th>525597</th>\n",
       "      <td>2014-03-31 23:54:00</td>\n",
       "      <td>0.840</td>\n",
       "      <td>165.0</td>\n",
       "      <td>532.0</td>\n",
       "      <td>768.5</td>\n",
       "      <td>1</td>\n",
       "      <td>0</td>\n",
       "    </tr>\n",
       "    <tr>\n",
       "      <th>525598</th>\n",
       "      <td>2014-03-31 23:56:00</td>\n",
       "      <td>0.835</td>\n",
       "      <td>168.0</td>\n",
       "      <td>522.5</td>\n",
       "      <td>761.5</td>\n",
       "      <td>1</td>\n",
       "      <td>0</td>\n",
       "    </tr>\n",
       "    <tr>\n",
       "      <th>525599</th>\n",
       "      <td>2014-03-31 23:58:00</td>\n",
       "      <td>0.835</td>\n",
       "      <td>162.0</td>\n",
       "      <td>530.0</td>\n",
       "      <td>771.0</td>\n",
       "      <td>1</td>\n",
       "      <td>0</td>\n",
       "    </tr>\n",
       "  </tbody>\n",
       "</table>\n",
       "<p>525600 rows × 7 columns</p>\n",
       "</div>"
      ],
      "text/plain": [
       "                 TIMESTAMP  power factor_apparent  power_reactive  \\\n",
       "0      2012-04-01 00:00:00                  0.930           141.0   \n",
       "1      2012-04-01 00:02:00                  0.930           140.0   \n",
       "2      2012-04-01 00:04:00                  0.895           140.5   \n",
       "3      2012-04-01 00:06:00                  0.930           195.5   \n",
       "4      2012-04-01 00:08:00                  0.930           187.0   \n",
       "...                    ...                    ...             ...   \n",
       "525595 2014-03-31 23:50:00                  0.745           107.0   \n",
       "525596 2014-03-31 23:52:00                  0.795           136.0   \n",
       "525597 2014-03-31 23:54:00                  0.840           165.0   \n",
       "525598 2014-03-31 23:56:00                  0.835           168.0   \n",
       "525599 2014-03-31 23:58:00                  0.835           162.0   \n",
       "\n",
       "        power_active  power_apparent  appliances_id  weekday  \n",
       "0              915.5          1061.0              1        6  \n",
       "1              872.0          1019.5              1        6  \n",
       "2              826.5          1073.5              1        6  \n",
       "3             1064.5          1269.5              1        6  \n",
       "4             1071.0          1238.5              1        6  \n",
       "...              ...             ...            ...      ...  \n",
       "525595         399.5           616.5              1        0  \n",
       "525596         470.0           698.0              1        0  \n",
       "525597         532.0           768.5              1        0  \n",
       "525598         522.5           761.5              1        0  \n",
       "525599         530.0           771.0              1        0  \n",
       "\n",
       "[525600 rows x 7 columns]"
      ]
     },
     "execution_count": 16,
     "metadata": {},
     "output_type": "execute_result"
    }
   ],
   "source": [
    "df"
   ]
  },
  {
   "cell_type": "markdown",
   "metadata": {},
   "source": [
    "### visualize data"
   ]
  },
  {
   "cell_type": "code",
   "execution_count": 17,
   "metadata": {
    "execution": {
     "iopub.execute_input": "2020-07-28T09:59:13.416184Z",
     "iopub.status.busy": "2020-07-28T09:59:13.415183Z",
     "iopub.status.idle": "2020-07-28T09:59:13.424186Z",
     "shell.execute_reply": "2020-07-28T09:59:13.424186Z",
     "shell.execute_reply.started": "2020-07-28T09:59:13.415183Z"
    }
   },
   "outputs": [],
   "source": [
    "power_variable = \"power_active\""
   ]
  },
  {
   "cell_type": "code",
   "execution_count": 18,
   "metadata": {
    "execution": {
     "iopub.execute_input": "2020-07-28T09:59:13.426186Z",
     "iopub.status.busy": "2020-07-28T09:59:13.425184Z",
     "iopub.status.idle": "2020-07-28T09:59:13.847281Z",
     "shell.execute_reply": "2020-07-28T09:59:13.847281Z",
     "shell.execute_reply.started": "2020-07-28T09:59:13.426186Z"
    }
   },
   "outputs": [
    {
     "data": {
      "text/plain": [
       "<matplotlib.axes._subplots.AxesSubplot at 0x1f469231d90>"
      ]
     },
     "execution_count": 18,
     "metadata": {},
     "output_type": "execute_result"
    },
    {
     "data": {
      "image/png": "[encoded data removed]",
      "text/plain": [
       "<Figure size 800x500 with 1 Axes>"
      ]
     },
     "metadata": {},
     "output_type": "display_data"
    }
   ],
   "source": [
    "n = ((ONEDAY_MIN*60)//resampling_period)*3\n",
    "\n",
    "sns.lineplot(x=np.arange(len(df[power_variable][:n])), \n",
    "             y=df[power_variable][:n])"
   ]
  },
  {
   "cell_type": "markdown",
   "metadata": {},
   "source": [
    "## \n",
    "# Model\n",
    "\n",
    "## Preprocess"
   ]
  },
  {
   "cell_type": "markdown",
   "metadata": {},
   "source": [
    "### split train/validation"
   ]
  },
  {
   "cell_type": "code",
   "execution_count": 19,
   "metadata": {
    "execution": {
     "iopub.execute_input": "2020-07-28T09:59:13.848283Z",
     "iopub.status.busy": "2020-07-28T09:59:13.848283Z",
     "iopub.status.idle": "2020-07-28T09:59:13.852281Z",
     "shell.execute_reply": "2020-07-28T09:59:13.852281Z",
     "shell.execute_reply.started": "2020-07-28T09:59:13.848283Z"
    }
   },
   "outputs": [],
   "source": [
    "val_day = 24\n",
    "oneday_sample = (ONEDAY_MIN*60)//resampling_period\n",
    "\n",
    "split_index = df.shape[0] - (oneday_sample*val_day)"
   ]
  },
  {
   "cell_type": "code",
   "execution_count": 20,
   "metadata": {
    "execution": {
     "iopub.execute_input": "2020-07-28T09:59:13.853281Z",
     "iopub.status.busy": "2020-07-28T09:59:13.853281Z",
     "iopub.status.idle": "2020-07-28T09:59:13.863284Z",
     "shell.execute_reply": "2020-07-28T09:59:13.863284Z",
     "shell.execute_reply.started": "2020-07-28T09:59:13.853281Z"
    }
   },
   "outputs": [],
   "source": [
    "train = df[:split_index]\n",
    "val = df[split_index:]"
   ]
  },
  {
   "cell_type": "code",
   "execution_count": 21,
   "metadata": {
    "execution": {
     "iopub.execute_input": "2020-07-28T09:59:13.864283Z",
     "iopub.status.busy": "2020-07-28T09:59:13.864283Z",
     "iopub.status.idle": "2020-07-28T09:59:13.882288Z",
     "shell.execute_reply": "2020-07-28T09:59:13.882288Z",
     "shell.execute_reply.started": "2020-07-28T09:59:13.864283Z"
    }
   },
   "outputs": [
    {
     "data": {
      "text/html": [
       "<div>\n",
       "<style scoped>\n",
       "    .dataframe tbody tr th:only-of-type {\n",
       "        vertical-align: middle;\n",
       "    }\n",
       "\n",
       "    .dataframe tbody tr th {\n",
       "        vertical-align: top;\n",
       "    }\n",
       "\n",
       "    .dataframe thead th {\n",
       "        text-align: right;\n",
       "    }\n",
       "</style>\n",
       "<table border=\"1\" class=\"dataframe\">\n",
       "  <thead>\n",
       "    <tr style=\"text-align: right;\">\n",
       "      <th></th>\n",
       "      <th>TIMESTAMP</th>\n",
       "      <th>power factor_apparent</th>\n",
       "      <th>power_reactive</th>\n",
       "      <th>power_active</th>\n",
       "      <th>power_apparent</th>\n",
       "      <th>appliances_id</th>\n",
       "      <th>weekday</th>\n",
       "    </tr>\n",
       "  </thead>\n",
       "  <tbody>\n",
       "    <tr>\n",
       "      <th>0</th>\n",
       "      <td>2012-04-01 00:00:00</td>\n",
       "      <td>0.930</td>\n",
       "      <td>141.0</td>\n",
       "      <td>915.5</td>\n",
       "      <td>1061.0</td>\n",
       "      <td>1</td>\n",
       "      <td>6</td>\n",
       "    </tr>\n",
       "    <tr>\n",
       "      <th>1</th>\n",
       "      <td>2012-04-01 00:02:00</td>\n",
       "      <td>0.930</td>\n",
       "      <td>140.0</td>\n",
       "      <td>872.0</td>\n",
       "      <td>1019.5</td>\n",
       "      <td>1</td>\n",
       "      <td>6</td>\n",
       "    </tr>\n",
       "    <tr>\n",
       "      <th>2</th>\n",
       "      <td>2012-04-01 00:04:00</td>\n",
       "      <td>0.895</td>\n",
       "      <td>140.5</td>\n",
       "      <td>826.5</td>\n",
       "      <td>1073.5</td>\n",
       "      <td>1</td>\n",
       "      <td>6</td>\n",
       "    </tr>\n",
       "    <tr>\n",
       "      <th>3</th>\n",
       "      <td>2012-04-01 00:06:00</td>\n",
       "      <td>0.930</td>\n",
       "      <td>195.5</td>\n",
       "      <td>1064.5</td>\n",
       "      <td>1269.5</td>\n",
       "      <td>1</td>\n",
       "      <td>6</td>\n",
       "    </tr>\n",
       "    <tr>\n",
       "      <th>4</th>\n",
       "      <td>2012-04-01 00:08:00</td>\n",
       "      <td>0.930</td>\n",
       "      <td>187.0</td>\n",
       "      <td>1071.0</td>\n",
       "      <td>1238.5</td>\n",
       "      <td>1</td>\n",
       "      <td>6</td>\n",
       "    </tr>\n",
       "  </tbody>\n",
       "</table>\n",
       "</div>"
      ],
      "text/plain": [
       "            TIMESTAMP  power factor_apparent  power_reactive  power_active  \\\n",
       "0 2012-04-01 00:00:00                  0.930           141.0         915.5   \n",
       "1 2012-04-01 00:02:00                  0.930           140.0         872.0   \n",
       "2 2012-04-01 00:04:00                  0.895           140.5         826.5   \n",
       "3 2012-04-01 00:06:00                  0.930           195.5        1064.5   \n",
       "4 2012-04-01 00:08:00                  0.930           187.0        1071.0   \n",
       "\n",
       "   power_apparent  appliances_id  weekday  \n",
       "0          1061.0              1        6  \n",
       "1          1019.5              1        6  \n",
       "2          1073.5              1        6  \n",
       "3          1269.5              1        6  \n",
       "4          1238.5              1        6  "
      ]
     },
     "execution_count": 21,
     "metadata": {},
     "output_type": "execute_result"
    }
   ],
   "source": [
    "train.head()"
   ]
  },
  {
   "cell_type": "code",
   "execution_count": 22,
   "metadata": {
    "execution": {
     "iopub.execute_input": "2020-07-28T09:59:13.883288Z",
     "iopub.status.busy": "2020-07-28T09:59:13.883288Z",
     "iopub.status.idle": "2020-07-28T09:59:13.900293Z",
     "shell.execute_reply": "2020-07-28T09:59:13.900293Z",
     "shell.execute_reply.started": "2020-07-28T09:59:13.883288Z"
    }
   },
   "outputs": [
    {
     "data": {
      "text/html": [
       "<div>\n",
       "<style scoped>\n",
       "    .dataframe tbody tr th:only-of-type {\n",
       "        vertical-align: middle;\n",
       "    }\n",
       "\n",
       "    .dataframe tbody tr th {\n",
       "        vertical-align: top;\n",
       "    }\n",
       "\n",
       "    .dataframe thead th {\n",
       "        text-align: right;\n",
       "    }\n",
       "</style>\n",
       "<table border=\"1\" class=\"dataframe\">\n",
       "  <thead>\n",
       "    <tr style=\"text-align: right;\">\n",
       "      <th></th>\n",
       "      <th>TIMESTAMP</th>\n",
       "      <th>power factor_apparent</th>\n",
       "      <th>power_reactive</th>\n",
       "      <th>power_active</th>\n",
       "      <th>power_apparent</th>\n",
       "      <th>appliances_id</th>\n",
       "      <th>weekday</th>\n",
       "    </tr>\n",
       "  </thead>\n",
       "  <tbody>\n",
       "    <tr>\n",
       "      <th>508320</th>\n",
       "      <td>2014-03-08 00:00:00</td>\n",
       "      <td>0.990</td>\n",
       "      <td>153.0</td>\n",
       "      <td>2839.5</td>\n",
       "      <td>2867.0</td>\n",
       "      <td>1</td>\n",
       "      <td>5</td>\n",
       "    </tr>\n",
       "    <tr>\n",
       "      <th>508321</th>\n",
       "      <td>2014-03-08 00:02:00</td>\n",
       "      <td>0.990</td>\n",
       "      <td>145.0</td>\n",
       "      <td>2897.0</td>\n",
       "      <td>2919.5</td>\n",
       "      <td>1</td>\n",
       "      <td>5</td>\n",
       "    </tr>\n",
       "    <tr>\n",
       "      <th>508322</th>\n",
       "      <td>2014-03-08 00:04:00</td>\n",
       "      <td>0.995</td>\n",
       "      <td>151.0</td>\n",
       "      <td>3301.5</td>\n",
       "      <td>3318.5</td>\n",
       "      <td>1</td>\n",
       "      <td>5</td>\n",
       "    </tr>\n",
       "    <tr>\n",
       "      <th>508323</th>\n",
       "      <td>2014-03-08 00:06:00</td>\n",
       "      <td>0.930</td>\n",
       "      <td>113.0</td>\n",
       "      <td>840.5</td>\n",
       "      <td>1021.5</td>\n",
       "      <td>1</td>\n",
       "      <td>5</td>\n",
       "    </tr>\n",
       "    <tr>\n",
       "      <th>508324</th>\n",
       "      <td>2014-03-08 00:08:00</td>\n",
       "      <td>0.920</td>\n",
       "      <td>118.0</td>\n",
       "      <td>792.5</td>\n",
       "      <td>984.5</td>\n",
       "      <td>1</td>\n",
       "      <td>5</td>\n",
       "    </tr>\n",
       "  </tbody>\n",
       "</table>\n",
       "</div>"
      ],
      "text/plain": [
       "                 TIMESTAMP  power factor_apparent  power_reactive  \\\n",
       "508320 2014-03-08 00:00:00                  0.990           153.0   \n",
       "508321 2014-03-08 00:02:00                  0.990           145.0   \n",
       "508322 2014-03-08 00:04:00                  0.995           151.0   \n",
       "508323 2014-03-08 00:06:00                  0.930           113.0   \n",
       "508324 2014-03-08 00:08:00                  0.920           118.0   \n",
       "\n",
       "        power_active  power_apparent  appliances_id  weekday  \n",
       "508320        2839.5          2867.0              1        5  \n",
       "508321        2897.0          2919.5              1        5  \n",
       "508322        3301.5          3318.5              1        5  \n",
       "508323         840.5          1021.5              1        5  \n",
       "508324         792.5           984.5              1        5  "
      ]
     },
     "execution_count": 22,
     "metadata": {},
     "output_type": "execute_result"
    }
   ],
   "source": [
    "val.head()"
   ]
  },
  {
   "cell_type": "code",
   "execution_count": 23,
   "metadata": {
    "execution": {
     "iopub.execute_input": "2020-07-28T09:59:13.901292Z",
     "iopub.status.busy": "2020-07-28T09:59:13.901292Z",
     "iopub.status.idle": "2020-07-28T09:59:13.912295Z",
     "shell.execute_reply": "2020-07-28T09:59:13.912295Z",
     "shell.execute_reply.started": "2020-07-28T09:59:13.901292Z"
    }
   },
   "outputs": [
    {
     "data": {
      "text/plain": [
       "((508320, 7), (17280, 7))"
      ]
     },
     "execution_count": 23,
     "metadata": {},
     "output_type": "execute_result"
    }
   ],
   "source": [
    "train.shape, val.shape"
   ]
  },
  {
   "cell_type": "markdown",
   "metadata": {},
   "source": [
    "### preprocess time series data"
   ]
  },
  {
   "cell_type": "code",
   "execution_count": 24,
   "metadata": {
    "execution": {
     "iopub.execute_input": "2020-07-28T09:59:13.914296Z",
     "iopub.status.busy": "2020-07-28T09:59:13.914296Z",
     "iopub.status.idle": "2020-07-28T09:59:13.924306Z",
     "shell.execute_reply": "2020-07-28T09:59:13.924306Z",
     "shell.execute_reply.started": "2020-07-28T09:59:13.914296Z"
    }
   },
   "outputs": [],
   "source": [
    "power_variable = \"power_active\"\n",
    "\n",
    "window_size = oneday_sample//24\n",
    "output_size = 1"
   ]
  },
  {
   "cell_type": "code",
   "execution_count": 25,
   "metadata": {
    "execution": {
     "iopub.execute_input": "2020-07-28T09:59:13.926298Z",
     "iopub.status.busy": "2020-07-28T09:59:13.925299Z",
     "iopub.status.idle": "2020-07-28T09:59:13.939300Z",
     "shell.execute_reply": "2020-07-28T09:59:13.939300Z",
     "shell.execute_reply.started": "2020-07-28T09:59:13.926298Z"
    }
   },
   "outputs": [
    {
     "data": {
      "text/plain": [
       "30"
      ]
     },
     "execution_count": 25,
     "metadata": {},
     "output_type": "execute_result"
    }
   ],
   "source": [
    "window_size"
   ]
  },
  {
   "cell_type": "code",
   "execution_count": 26,
   "metadata": {
    "execution": {
     "iopub.execute_input": "2020-07-28T09:59:13.943310Z",
     "iopub.status.busy": "2020-07-28T09:59:13.943310Z",
     "iopub.status.idle": "2020-07-28T10:01:14.161789Z",
     "shell.execute_reply": "2020-07-28T10:01:14.161789Z",
     "shell.execute_reply.started": "2020-07-28T09:59:13.943310Z"
    }
   },
   "outputs": [],
   "source": [
    "X_train, Y_train = preprocess_timeseries.windowing_arr_X_Y(train[power_variable], \n",
    "                                                           window_size, output_size)"
   ]
  },
  {
   "cell_type": "code",
   "execution_count": 27,
   "metadata": {
    "execution": {
     "iopub.execute_input": "2020-07-28T10:01:14.163789Z",
     "iopub.status.busy": "2020-07-28T10:01:14.163789Z",
     "iopub.status.idle": "2020-07-28T10:01:18.305648Z",
     "shell.execute_reply": "2020-07-28T10:01:18.305648Z",
     "shell.execute_reply.started": "2020-07-28T10:01:14.163789Z"
    }
   },
   "outputs": [],
   "source": [
    "X_val, Y_val = preprocess_timeseries.windowing_arr_X_Y(val[power_variable], \n",
    "                                                           window_size, output_size)"
   ]
  },
  {
   "cell_type": "code",
   "execution_count": 28,
   "metadata": {
    "execution": {
     "iopub.execute_input": "2020-07-28T10:01:18.306640Z",
     "iopub.status.busy": "2020-07-28T10:01:18.306640Z",
     "iopub.status.idle": "2020-07-28T10:01:18.311641Z",
     "shell.execute_reply": "2020-07-28T10:01:18.310641Z",
     "shell.execute_reply.started": "2020-07-28T10:01:18.306640Z"
    }
   },
   "outputs": [
    {
     "data": {
      "text/plain": [
       "((508290, 30), (508290, 1))"
      ]
     },
     "execution_count": 28,
     "metadata": {},
     "output_type": "execute_result"
    }
   ],
   "source": [
    "X_train.shape, Y_train.shape"
   ]
  },
  {
   "cell_type": "code",
   "execution_count": 29,
   "metadata": {
    "execution": {
     "iopub.execute_input": "2020-07-28T10:01:18.312641Z",
     "iopub.status.busy": "2020-07-28T10:01:18.311641Z",
     "iopub.status.idle": "2020-07-28T10:01:18.324644Z",
     "shell.execute_reply": "2020-07-28T10:01:18.324644Z",
     "shell.execute_reply.started": "2020-07-28T10:01:18.312641Z"
    }
   },
   "outputs": [
    {
     "data": {
      "text/plain": [
       "((17250, 30), (17250, 1))"
      ]
     },
     "execution_count": 29,
     "metadata": {},
     "output_type": "execute_result"
    }
   ],
   "source": [
    "X_val.shape, Y_val.shape"
   ]
  },
  {
   "cell_type": "code",
   "execution_count": 30,
   "metadata": {
    "execution": {
     "iopub.execute_input": "2020-07-28T10:01:18.325645Z",
     "iopub.status.busy": "2020-07-28T10:01:18.325645Z",
     "iopub.status.idle": "2020-07-28T10:01:18.335647Z",
     "shell.execute_reply": "2020-07-28T10:01:18.335647Z",
     "shell.execute_reply.started": "2020-07-28T10:01:18.325645Z"
    }
   },
   "outputs": [],
   "source": [
    "X_train = np.expand_dims(X_train, axis=-1)\n",
    "X_val = np.expand_dims(X_val, axis=-1)"
   ]
  },
  {
   "cell_type": "code",
   "execution_count": 31,
   "metadata": {
    "execution": {
     "iopub.execute_input": "2020-07-28T10:01:18.336648Z",
     "iopub.status.busy": "2020-07-28T10:01:18.336648Z",
     "iopub.status.idle": "2020-07-28T10:01:18.348650Z",
     "shell.execute_reply": "2020-07-28T10:01:18.347651Z",
     "shell.execute_reply.started": "2020-07-28T10:01:18.336648Z"
    }
   },
   "outputs": [
    {
     "data": {
      "text/plain": [
       "((508290, 30, 1), (17250, 30, 1))"
      ]
     },
     "execution_count": 31,
     "metadata": {},
     "output_type": "execute_result"
    }
   ],
   "source": [
    "X_train.shape, X_val.shape"
   ]
  },
  {
   "cell_type": "markdown",
   "metadata": {},
   "source": [
    "## create model"
   ]
  },
  {
   "cell_type": "code",
   "execution_count": 32,
   "metadata": {
    "execution": {
     "iopub.execute_input": "2020-07-28T10:01:18.349650Z",
     "iopub.status.busy": "2020-07-28T10:01:18.348650Z",
     "iopub.status.idle": "2020-07-28T10:01:18.361653Z",
     "shell.execute_reply": "2020-07-28T10:01:18.361653Z",
     "shell.execute_reply.started": "2020-07-28T10:01:18.349650Z"
    }
   },
   "outputs": [],
   "source": [
    "class CustomCallback(keras.callbacks.Callback):\n",
    "    def __init__(self, n_epoch):\n",
    "        self.n_epoch = n_epoch\n",
    "    def on_epoch_end(self, epoch, logs=None):\n",
    "        \n",
    "        if epoch == 0 or (epoch+1)%self.n_epoch == 0:\n",
    "            print(f\"Epoch: {epoch+1}\")\n",
    "            for key, value in logs.items():\n",
    "                print(f\"{key}: {value:.4f}\", end=\" \\t \")\n",
    "            print()"
   ]
  },
  {
   "cell_type": "code",
   "execution_count": 33,
   "metadata": {
    "execution": {
     "iopub.execute_input": "2020-07-28T10:01:18.362662Z",
     "iopub.status.busy": "2020-07-28T10:01:18.362662Z",
     "iopub.status.idle": "2020-07-28T10:01:18.671723Z",
     "shell.execute_reply": "2020-07-28T10:01:18.671723Z",
     "shell.execute_reply.started": "2020-07-28T10:01:18.362662Z"
    }
   },
   "outputs": [],
   "source": [
    "model = Sequential()\n",
    "model.add(Conv1D(24, kernel_size=5, input_shape=[None, 1], \n",
    "                 strides=1, padding=\"causal\",\n",
    "                 activation=\"relu\"))\n",
    "model.add(LSTM(window_size//2, return_sequences=False))\n",
    "model.add(Dense(output_size))"
   ]
  },
  {
   "cell_type": "code",
   "execution_count": 34,
   "metadata": {
    "execution": {
     "iopub.execute_input": "2020-07-28T10:01:18.672723Z",
     "iopub.status.busy": "2020-07-28T10:01:18.672723Z",
     "iopub.status.idle": "2020-07-28T10:01:18.692727Z",
     "shell.execute_reply": "2020-07-28T10:01:18.692727Z",
     "shell.execute_reply.started": "2020-07-28T10:01:18.672723Z"
    }
   },
   "outputs": [],
   "source": [
    "optimizer = Adam(learning_rate=5e-3)\n",
    "model.compile(optimizer=optimizer, loss='mean_absolute_error')"
   ]
  },
  {
   "cell_type": "code",
   "execution_count": null,
   "metadata": {
    "execution": {
     "iopub.execute_input": "2020-07-28T10:01:18.694729Z",
     "iopub.status.busy": "2020-07-28T10:01:18.693727Z"
    }
   },
   "outputs": [
    {
     "name": "stdout",
     "output_type": "stream",
     "text": [
      "Epoch 1/3\n",
      "31769/31769 [==============================] - 125s 4ms/step - loss: 653.3845 - val_loss: 654.9799\n",
      "Epoch 2/3\n",
      "31769/31769 [==============================] - 123s 4ms/step - loss: 548.6052 - val_loss: 654.9855\n",
      "Epoch 3/3\n",
      "18907/31769 [================>.............] - ETA: 48s - loss: 547.9012"
     ]
    }
   ],
   "source": [
    "num_epochs = 3\n",
    "batch_size = 16\n",
    "hist = model.fit(X_train, Y_train, \n",
    "                 epochs=num_epochs, batch_size=batch_size, \n",
    "                 validation_data=(X_val, Y_val), verbose=1)"
   ]
  },
  {
   "cell_type": "code",
   "execution_count": null,
   "metadata": {},
   "outputs": [],
   "source": [
    "epochs = np.arange(1, num_epochs+1)\n",
    "\n",
    "sns.lineplot(epochs, hist.history['loss'], label=\"loss\")\n",
    "sns.lineplot(epochs, hist.history['val_loss'], label=\"validation loss\")"
   ]
  },
  {
   "cell_type": "markdown",
   "metadata": {},
   "source": [
    "## Predict Validation set"
   ]
  },
  {
   "cell_type": "code",
   "execution_count": null,
   "metadata": {},
   "outputs": [],
   "source": [
    "predicted = model.predict(X_val)"
   ]
  },
  {
   "cell_type": "code",
   "execution_count": null,
   "metadata": {},
   "outputs": [],
   "source": [
    "time_x = np.arange(len(Y_val))"
   ]
  },
  {
   "cell_type": "code",
   "execution_count": null,
   "metadata": {},
   "outputs": [],
   "source": [
    "sns.lineplot(time_x, Y_val.squeeze(), label=\"y val\")\n",
    "sns.lineplot(time_x, predicted.squeeze(), label=\"predicted y val\")\n",
    "\n",
    "\n",
    "plt.xlim([-5, oneday_sample*3])\n",
    "plt.show()"
   ]
  },
  {
   "cell_type": "code",
   "execution_count": null,
   "metadata": {},
   "outputs": [],
   "source": [
    "sns.lineplot(time_x, Y_val.squeeze(), label=\"y val\")\n",
    "sns.lineplot(time_x, predicted.squeeze(), label=\"predicted y val\")\n",
    "\n",
    "\n",
    "plt.xlim([-5, oneday_sample*1])\n",
    "plt.show()"
   ]
  },
  {
   "cell_type": "code",
   "execution_count": null,
   "metadata": {},
   "outputs": [],
   "source": []
  }
 ],
 "metadata": {
  "kernelspec": {
   "display_name": "Python 3",
   "language": "python",
   "name": "python3"
  },
  "language_info": {
   "codemirror_mode": {
    "name": "ipython",
    "version": 3
   },
   "file_extension": ".py",
   "mimetype": "text/x-python",
   "name": "python",
   "nbconvert_exporter": "python",
   "pygments_lexer": "ipython3",
   "version": "3.8.3"
  }
 },
 "nbformat": 4,
 "nbformat_minor": 4
}
