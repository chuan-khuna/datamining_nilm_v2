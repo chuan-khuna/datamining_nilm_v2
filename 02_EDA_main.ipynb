{
 "cells": [
  {
   "cell_type": "code",
   "execution_count": 6,
   "metadata": {},
   "outputs": [],
   "source": [
    "import numpy as np\n",
    "import pandas as pd\n",
    "import seaborn as sns\n",
    "import matplotlib.pyplot as plt\n",
    "import datetime as dt\n",
    "\n",
    "sns.set(context=\"paper\", style=\"whitegrid\", \n",
    "       rc={\n",
    "           \"figure.figsize\": (9, 5),\n",
    "           \"figure.dpi\": 100\n",
    "       })\n",
    "google = [\"#4285F4\", \"#DB4437\", \"#F4B400\", \"#0F9D58\"]\n",
    "sns.set_palette(google)"
   ]
  },
  {
   "cell_type": "code",
   "execution_count": 7,
   "metadata": {},
   "outputs": [],
   "source": [
    "df = pd.read_csv(\"./data/raw_appliances/main_1.csv\")\n",
    "df['TIMESTAMP'] = pd.to_datetime(df['TIMESTAMP'])"
   ]
  },
  {
   "cell_type": "code",
   "execution_count": 8,
   "metadata": {},
   "outputs": [
    {
     "data": {
      "text/html": [
       "<div>\n",
       "<style scoped>\n",
       "    .dataframe tbody tr th:only-of-type {\n",
       "        vertical-align: middle;\n",
       "    }\n",
       "\n",
       "    .dataframe tbody tr th {\n",
       "        vertical-align: top;\n",
       "    }\n",
       "\n",
       "    .dataframe thead th {\n",
       "        text-align: right;\n",
       "    }\n",
       "</style>\n",
       "<table border=\"1\" class=\"dataframe\">\n",
       "  <thead>\n",
       "    <tr style=\"text-align: right;\">\n",
       "      <th></th>\n",
       "      <th>TIMESTAMP</th>\n",
       "      <th>power factor_apparent</th>\n",
       "      <th>power_reactive</th>\n",
       "      <th>power_active</th>\n",
       "      <th>power_apparent</th>\n",
       "      <th>appliances_type</th>\n",
       "      <th>appliances_id</th>\n",
       "      <th>appliances_name</th>\n",
       "    </tr>\n",
       "  </thead>\n",
       "  <tbody>\n",
       "    <tr>\n",
       "      <th>0</th>\n",
       "      <td>2012-04-01 00:00:00</td>\n",
       "      <td>0.93</td>\n",
       "      <td>141.0</td>\n",
       "      <td>918.0</td>\n",
       "      <td>1066.0</td>\n",
       "      <td>main</td>\n",
       "      <td>1</td>\n",
       "      <td>main 1</td>\n",
       "    </tr>\n",
       "    <tr>\n",
       "      <th>1</th>\n",
       "      <td>2012-04-01 00:01:00</td>\n",
       "      <td>0.93</td>\n",
       "      <td>141.0</td>\n",
       "      <td>913.0</td>\n",
       "      <td>1056.0</td>\n",
       "      <td>main</td>\n",
       "      <td>1</td>\n",
       "      <td>main 1</td>\n",
       "    </tr>\n",
       "    <tr>\n",
       "      <th>2</th>\n",
       "      <td>2012-04-01 00:02:00</td>\n",
       "      <td>0.93</td>\n",
       "      <td>139.0</td>\n",
       "      <td>872.0</td>\n",
       "      <td>1021.0</td>\n",
       "      <td>main</td>\n",
       "      <td>1</td>\n",
       "      <td>main 1</td>\n",
       "    </tr>\n",
       "    <tr>\n",
       "      <th>3</th>\n",
       "      <td>2012-04-01 00:03:00</td>\n",
       "      <td>0.93</td>\n",
       "      <td>141.0</td>\n",
       "      <td>872.0</td>\n",
       "      <td>1018.0</td>\n",
       "      <td>main</td>\n",
       "      <td>1</td>\n",
       "      <td>main 1</td>\n",
       "    </tr>\n",
       "    <tr>\n",
       "      <th>4</th>\n",
       "      <td>2012-04-01 00:04:00</td>\n",
       "      <td>0.89</td>\n",
       "      <td>140.0</td>\n",
       "      <td>772.0</td>\n",
       "      <td>1018.0</td>\n",
       "      <td>main</td>\n",
       "      <td>1</td>\n",
       "      <td>main 1</td>\n",
       "    </tr>\n",
       "  </tbody>\n",
       "</table>\n",
       "</div>"
      ],
      "text/plain": [
       "            TIMESTAMP  power factor_apparent  power_reactive  power_active  \\\n",
       "0 2012-04-01 00:00:00                   0.93           141.0         918.0   \n",
       "1 2012-04-01 00:01:00                   0.93           141.0         913.0   \n",
       "2 2012-04-01 00:02:00                   0.93           139.0         872.0   \n",
       "3 2012-04-01 00:03:00                   0.93           141.0         872.0   \n",
       "4 2012-04-01 00:04:00                   0.89           140.0         772.0   \n",
       "\n",
       "   power_apparent appliances_type  appliances_id appliances_name  \n",
       "0          1066.0            main              1          main 1  \n",
       "1          1056.0            main              1          main 1  \n",
       "2          1021.0            main              1          main 1  \n",
       "3          1018.0            main              1          main 1  \n",
       "4          1018.0            main              1          main 1  "
      ]
     },
     "execution_count": 8,
     "metadata": {},
     "output_type": "execute_result"
    }
   ],
   "source": [
    "df.head()"
   ]
  },
  {
   "cell_type": "code",
   "execution_count": null,
   "metadata": {},
   "outputs": [],
   "source": []
  }
 ],
 "metadata": {
  "kernelspec": {
   "display_name": "Python 3",
   "language": "python",
   "name": "python3"
  },
  "language_info": {
   "codemirror_mode": {
    "name": "ipython",
    "version": 3
   },
   "file_extension": ".py",
   "mimetype": "text/x-python",
   "name": "python",
   "nbconvert_exporter": "python",
   "pygments_lexer": "ipython3",
   "version": "3.8.3"
  }
 },
 "nbformat": 4,
 "nbformat_minor": 4
}
