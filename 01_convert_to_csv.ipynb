{
 "cells": [
  {
   "cell_type": "code",
   "execution_count": 1,
   "metadata": {},
   "outputs": [],
   "source": [
    "from nilmtk import DataSet\n",
    "from nilmtk.utils import print_dict\n",
    "\n",
    "import pandas as pd\n",
    "import numpy as np\n",
    "\n",
    "import datetime as dt"
   ]
  },
  {
   "cell_type": "code",
   "execution_count": 2,
   "metadata": {},
   "outputs": [],
   "source": [
    "ds = DataSet(\"./AMPds2.h5\")"
   ]
  },
  {
   "cell_type": "code",
   "execution_count": 3,
   "metadata": {},
   "outputs": [
    {
     "data": {
      "text/plain": [
       "OrderedDict([(1, Building(instance=1, dataset='AMPds'))])"
      ]
     },
     "execution_count": 3,
     "metadata": {},
     "output_type": "execute_result"
    }
   ],
   "source": [
    "ds.buildings"
   ]
  },
  {
   "cell_type": "code",
   "execution_count": 4,
   "metadata": {},
   "outputs": [
    {
     "data": {
      "text/plain": [
       "Building(instance=1, dataset='AMPds')"
      ]
     },
     "execution_count": 4,
     "metadata": {},
     "output_type": "execute_result"
    }
   ],
   "source": [
    "bld = ds.buildings[1]\n",
    "bld"
   ]
  },
  {
   "cell_type": "code",
   "execution_count": 5,
   "metadata": {},
   "outputs": [
    {
     "data": {
      "text/plain": [
       "MeterGroup(meters=\n",
       "  ElecMeter(instance=1, building=1, dataset='AMPds', site_meter, appliances=[])\n",
       "  ElecMeter(instance=2, building=1, dataset='AMPds', appliances=[Appliance(type='light', instance=1)])\n",
       "  ElecMeter(instance=3, building=1, dataset='AMPds', appliances=[Appliance(type='light', instance=2)])\n",
       "  ElecMeter(instance=4, building=1, dataset='AMPds', appliances=[Appliance(type='light', instance=3)])\n",
       "  ElecMeter(instance=5, building=1, dataset='AMPds', appliances=[Appliance(type='unknown', instance=1)])\n",
       "  ElecMeter(instance=6, building=1, dataset='AMPds', appliances=[Appliance(type='unknown', instance=2)])\n",
       "  ElecMeter(instance=7, building=1, dataset='AMPds', appliances=[Appliance(type='sockets', instance=1)])\n",
       "  ElecMeter(instance=8, building=1, dataset='AMPds', appliances=[Appliance(type='unknown', instance=3)])\n",
       "  ElecMeter(instance=9, building=1, dataset='AMPds', appliances=[Appliance(type='unknown', instance=4)])\n",
       "  ElecMeter(instance=10, building=1, dataset='AMPds', appliances=[Appliance(type='unknown', instance=5)])\n",
       "  ElecMeter(instance=11, building=1, dataset='AMPds', appliances=[Appliance(type='fridge', instance=1)])\n",
       "  ElecMeter(instance=12, building=1, dataset='AMPds', appliances=[Appliance(type='unknown', instance=6)])\n",
       "  ElecMeter(instance=13, building=1, dataset='AMPds', appliances=[Appliance(type='unknown', instance=7)])\n",
       "  ElecMeter(instance=14, building=1, dataset='AMPds', appliances=[Appliance(type='heat pump', instance=1)])\n",
       "  ElecMeter(instance=15, building=1, dataset='AMPds', appliances=[Appliance(type='unknown', instance=8)])\n",
       "  ElecMeter(instance=16, building=1, dataset='AMPds', appliances=[Appliance(type='light', instance=4)])\n",
       "  ElecMeter(instance=17, building=1, dataset='AMPds', appliances=[Appliance(type='sockets', instance=2)])\n",
       "  ElecMeter(instance=18, building=1, dataset='AMPds', appliances=[Appliance(type='unknown', instance=9)])\n",
       "  ElecMeter(instance=19, building=1, dataset='AMPds', appliances=[Appliance(type='television', instance=1)])\n",
       "  ElecMeter(instance=20, building=1, dataset='AMPds', appliances=[Appliance(type='sockets', instance=3)])\n",
       "  ElecMeter(instance=21, building=1, dataset='AMPds', appliances=[Appliance(type='electric oven', instance=1)])\n",
       ")"
      ]
     },
     "execution_count": 5,
     "metadata": {},
     "output_type": "execute_result"
    }
   ],
   "source": [
    "elecs = bld.elec\n",
    "elecs"
   ]
  },
  {
   "cell_type": "code",
   "execution_count": 6,
   "metadata": {},
   "outputs": [
    {
     "data": {
      "text/plain": [
       "[ElecMeter(instance=1, building=1, dataset='AMPds', site_meter, appliances=[]),\n",
       " ElecMeter(instance=2, building=1, dataset='AMPds', appliances=[Appliance(type='light', instance=1)]),\n",
       " ElecMeter(instance=3, building=1, dataset='AMPds', appliances=[Appliance(type='light', instance=2)]),\n",
       " ElecMeter(instance=4, building=1, dataset='AMPds', appliances=[Appliance(type='light', instance=3)]),\n",
       " ElecMeter(instance=5, building=1, dataset='AMPds', appliances=[Appliance(type='unknown', instance=1)]),\n",
       " ElecMeter(instance=6, building=1, dataset='AMPds', appliances=[Appliance(type='unknown', instance=2)]),\n",
       " ElecMeter(instance=7, building=1, dataset='AMPds', appliances=[Appliance(type='sockets', instance=1)]),\n",
       " ElecMeter(instance=8, building=1, dataset='AMPds', appliances=[Appliance(type='unknown', instance=3)]),\n",
       " ElecMeter(instance=9, building=1, dataset='AMPds', appliances=[Appliance(type='unknown', instance=4)]),\n",
       " ElecMeter(instance=10, building=1, dataset='AMPds', appliances=[Appliance(type='unknown', instance=5)]),\n",
       " ElecMeter(instance=11, building=1, dataset='AMPds', appliances=[Appliance(type='fridge', instance=1)]),\n",
       " ElecMeter(instance=12, building=1, dataset='AMPds', appliances=[Appliance(type='unknown', instance=6)]),\n",
       " ElecMeter(instance=13, building=1, dataset='AMPds', appliances=[Appliance(type='unknown', instance=7)]),\n",
       " ElecMeter(instance=14, building=1, dataset='AMPds', appliances=[Appliance(type='heat pump', instance=1)]),\n",
       " ElecMeter(instance=15, building=1, dataset='AMPds', appliances=[Appliance(type='unknown', instance=8)]),\n",
       " ElecMeter(instance=16, building=1, dataset='AMPds', appliances=[Appliance(type='light', instance=4)]),\n",
       " ElecMeter(instance=17, building=1, dataset='AMPds', appliances=[Appliance(type='sockets', instance=2)]),\n",
       " ElecMeter(instance=18, building=1, dataset='AMPds', appliances=[Appliance(type='unknown', instance=9)]),\n",
       " ElecMeter(instance=19, building=1, dataset='AMPds', appliances=[Appliance(type='television', instance=1)]),\n",
       " ElecMeter(instance=20, building=1, dataset='AMPds', appliances=[Appliance(type='sockets', instance=3)]),\n",
       " ElecMeter(instance=21, building=1, dataset='AMPds', appliances=[Appliance(type='electric oven', instance=1)])]"
      ]
     },
     "execution_count": 6,
     "metadata": {},
     "output_type": "execute_result"
    }
   ],
   "source": [
    "meters = elecs.meters\n",
    "meters"
   ]
  },
  {
   "cell_type": "code",
   "execution_count": 7,
   "metadata": {},
   "outputs": [
    {
     "name": "stdout",
     "output_type": "stream",
     "text": [
      "main 1 \n",
      " 1051200\n",
      "light 1 \n",
      " 1051200\n",
      "light 2 \n",
      " 1051200\n",
      "light 3 \n",
      " 1051200\n",
      "unknown 1 \n",
      " 1051200\n",
      "unknown 2 \n",
      " 1051200\n",
      "sockets 1 \n",
      " 1051200\n",
      "unknown 3 \n",
      " 1051200\n",
      "unknown 4 \n",
      " 1051200\n",
      "unknown 5 \n",
      " 1051200\n",
      "fridge 1 \n",
      " 1051200\n",
      "unknown 6 \n",
      " 1051200\n",
      "unknown 7 \n",
      " 1051200\n",
      "heat pump 1 \n",
      " 1051200\n",
      "unknown 8 \n",
      " 1051200\n",
      "light 4 \n",
      " 1051200\n",
      "sockets 2 \n",
      " 1051200\n",
      "unknown 9 \n",
      " 1051200\n",
      "television 1 \n",
      " 1051200\n",
      "sockets 3 \n",
      " 1051200\n",
      "electric oven 1 \n",
      " 1051200\n"
     ]
    }
   ],
   "source": [
    "df_list = []\n",
    "\n",
    "for meter in meters:\n",
    "    \n",
    "    # get appliance name/id\n",
    "    # handle main error\n",
    "    main_id = 1\n",
    "    try:\n",
    "        appliance_name = meter.appliances[0].identifier.type\n",
    "        appliance_id = meter.appliances[0].identifier.instance\n",
    "    except:\n",
    "        appliance_name = \"main\"\n",
    "        appliance_id = main_id\n",
    "        main_id += 1\n",
    "    \n",
    "    # load data frame\n",
    "    df = next(meter.load())\n",
    "    \n",
    "    # flatten multi-level column\n",
    "    df.columns = ['_'.join(col).strip() for col in df.columns.values]\n",
    "    df = df.reset_index()\n",
    "    \n",
    "    df['appliances_type'] = appliance_name\n",
    "    df['appliances_id'] = appliance_id\n",
    "    df['appliances_name'] = f\"{appliance_name} {appliance_id}\"\n",
    "    \n",
    "    # datetime\n",
    "    df['TIMESTAMP'] = pd.to_datetime(df['TIMESTAMP'], utc=True)\n",
    "    df['TIMESTAMP'] = df['TIMESTAMP'].dt.tz_convert(None)\n",
    "    df['TIMESTAMP'] = df['TIMESTAMP'] + dt.timedelta(hours=-7)\n",
    "    \n",
    "    df_list.append(df)\n",
    "    \n",
    "    df.to_csv(f\"./data/raw_appliances/{appliance_name}_{appliance_id}.csv\", index=False)\n",
    "    \n",
    "    print(f\"{appliance_name} {appliance_id} \\n {len(df)}\")"
   ]
  },
  {
   "cell_type": "code",
   "execution_count": 8,
   "metadata": {},
   "outputs": [],
   "source": [
    "pd.concat(df_list).to_csv(\"./data/AMPDs2.csv\", index=False)"
   ]
  },
  {
   "cell_type": "code",
   "execution_count": null,
   "metadata": {},
   "outputs": [],
   "source": []
  }
 ],
 "metadata": {
  "kernelspec": {
   "display_name": "Python 3",
   "language": "python",
   "name": "python3"
  },
  "language_info": {
   "codemirror_mode": {
    "name": "ipython",
    "version": 3
   },
   "file_extension": ".py",
   "mimetype": "text/x-python",
   "name": "python",
   "nbconvert_exporter": "python",
   "pygments_lexer": "ipython3",
   "version": "3.8.3"
  }
 },
 "nbformat": 4,
 "nbformat_minor": 4
}
