{
 "cells": [
  {
   "cell_type": "code",
   "execution_count": 1,
   "metadata": {},
   "outputs": [],
   "source": [
    "import numpy as np\n",
    "import pandas as pd\n",
    "import seaborn as sns\n",
    "import matplotlib.pyplot as plt\n",
    "import datetime as dt\n",
    "\n",
    "sns.set(context=\"paper\", style=\"whitegrid\", \n",
    "       rc={\n",
    "           \"figure.figsize\": (21, 9),\n",
    "           \"figure.dpi\": 100\n",
    "       })\n",
    "google = [\"#4285F4\", \"#DB4437\", \"#F4B400\", \"#0F9D58\"]\n",
    "\n",
    "sns.set_palette(google)"
   ]
  },
  {
   "cell_type": "markdown",
   "metadata": {},
   "source": [
    "## Load Data"
   ]
  },
  {
   "cell_type": "code",
   "execution_count": 2,
   "metadata": {},
   "outputs": [],
   "source": [
    "df = pd.read_csv(\"./data/AMPDs2.csv\")\n",
    "df['TIMESTAMP'] = pd.to_datetime(df['TIMESTAMP'])"
   ]
  },
  {
   "cell_type": "code",
   "execution_count": 3,
   "metadata": {},
   "outputs": [
    {
     "name": "stdout",
     "output_type": "stream",
     "text": [
      "<class 'pandas.core.frame.DataFrame'>\n",
      "RangeIndex: 22075200 entries, 0 to 22075199\n",
      "Data columns (total 8 columns):\n",
      " #   Column                 Dtype         \n",
      "---  ------                 -----         \n",
      " 0   TIMESTAMP              datetime64[ns]\n",
      " 1   power factor_apparent  float64       \n",
      " 2   power_reactive         float64       \n",
      " 3   power_active           float64       \n",
      " 4   power_apparent         float64       \n",
      " 5   appliances_type        object        \n",
      " 6   appliances_id          int64         \n",
      " 7   appliances_name        object        \n",
      "dtypes: datetime64[ns](1), float64(4), int64(1), object(2)\n",
      "memory usage: 1.3+ GB\n"
     ]
    }
   ],
   "source": [
    "df.info()"
   ]
  },
  {
   "cell_type": "code",
   "execution_count": 4,
   "metadata": {},
   "outputs": [
    {
     "data": {
      "text/html": [
       "<div>\n",
       "<style scoped>\n",
       "    .dataframe tbody tr th:only-of-type {\n",
       "        vertical-align: middle;\n",
       "    }\n",
       "\n",
       "    .dataframe tbody tr th {\n",
       "        vertical-align: top;\n",
       "    }\n",
       "\n",
       "    .dataframe thead th {\n",
       "        text-align: right;\n",
       "    }\n",
       "</style>\n",
       "<table border=\"1\" class=\"dataframe\">\n",
       "  <thead>\n",
       "    <tr style=\"text-align: right;\">\n",
       "      <th></th>\n",
       "      <th>TIMESTAMP</th>\n",
       "      <th>power factor_apparent</th>\n",
       "      <th>power_reactive</th>\n",
       "      <th>power_active</th>\n",
       "      <th>power_apparent</th>\n",
       "      <th>appliances_type</th>\n",
       "      <th>appliances_id</th>\n",
       "      <th>appliances_name</th>\n",
       "    </tr>\n",
       "  </thead>\n",
       "  <tbody>\n",
       "    <tr>\n",
       "      <th>0</th>\n",
       "      <td>2012-04-01 00:00:00</td>\n",
       "      <td>0.93</td>\n",
       "      <td>141.0</td>\n",
       "      <td>918.0</td>\n",
       "      <td>1066.0</td>\n",
       "      <td>main</td>\n",
       "      <td>1</td>\n",
       "      <td>main 1</td>\n",
       "    </tr>\n",
       "    <tr>\n",
       "      <th>1</th>\n",
       "      <td>2012-04-01 00:01:00</td>\n",
       "      <td>0.93</td>\n",
       "      <td>141.0</td>\n",
       "      <td>913.0</td>\n",
       "      <td>1056.0</td>\n",
       "      <td>main</td>\n",
       "      <td>1</td>\n",
       "      <td>main 1</td>\n",
       "    </tr>\n",
       "    <tr>\n",
       "      <th>2</th>\n",
       "      <td>2012-04-01 00:02:00</td>\n",
       "      <td>0.93</td>\n",
       "      <td>139.0</td>\n",
       "      <td>872.0</td>\n",
       "      <td>1021.0</td>\n",
       "      <td>main</td>\n",
       "      <td>1</td>\n",
       "      <td>main 1</td>\n",
       "    </tr>\n",
       "    <tr>\n",
       "      <th>3</th>\n",
       "      <td>2012-04-01 00:03:00</td>\n",
       "      <td>0.93</td>\n",
       "      <td>141.0</td>\n",
       "      <td>872.0</td>\n",
       "      <td>1018.0</td>\n",
       "      <td>main</td>\n",
       "      <td>1</td>\n",
       "      <td>main 1</td>\n",
       "    </tr>\n",
       "    <tr>\n",
       "      <th>4</th>\n",
       "      <td>2012-04-01 00:04:00</td>\n",
       "      <td>0.89</td>\n",
       "      <td>140.0</td>\n",
       "      <td>772.0</td>\n",
       "      <td>1018.0</td>\n",
       "      <td>main</td>\n",
       "      <td>1</td>\n",
       "      <td>main 1</td>\n",
       "    </tr>\n",
       "  </tbody>\n",
       "</table>\n",
       "</div>"
      ],
      "text/plain": [
       "            TIMESTAMP  power factor_apparent  power_reactive  power_active  \\\n",
       "0 2012-04-01 00:00:00                   0.93           141.0         918.0   \n",
       "1 2012-04-01 00:01:00                   0.93           141.0         913.0   \n",
       "2 2012-04-01 00:02:00                   0.93           139.0         872.0   \n",
       "3 2012-04-01 00:03:00                   0.93           141.0         872.0   \n",
       "4 2012-04-01 00:04:00                   0.89           140.0         772.0   \n",
       "\n",
       "   power_apparent appliances_type  appliances_id appliances_name  \n",
       "0          1066.0            main              1          main 1  \n",
       "1          1056.0            main              1          main 1  \n",
       "2          1021.0            main              1          main 1  \n",
       "3          1018.0            main              1          main 1  \n",
       "4          1018.0            main              1          main 1  "
      ]
     },
     "execution_count": 4,
     "metadata": {},
     "output_type": "execute_result"
    }
   ],
   "source": [
    "df.head()"
   ]
  },
  {
   "cell_type": "code",
   "execution_count": 5,
   "metadata": {},
   "outputs": [],
   "source": [
    "main_df = df[df['appliances_type'] == 'main']"
   ]
  },
  {
   "cell_type": "code",
   "execution_count": 6,
   "metadata": {},
   "outputs": [
    {
     "name": "stdout",
     "output_type": "stream",
     "text": [
      "<class 'pandas.core.frame.DataFrame'>\n",
      "Int64Index: 1051200 entries, 0 to 1051199\n",
      "Data columns (total 8 columns):\n",
      " #   Column                 Non-Null Count    Dtype         \n",
      "---  ------                 --------------    -----         \n",
      " 0   TIMESTAMP              1051200 non-null  datetime64[ns]\n",
      " 1   power factor_apparent  1051200 non-null  float64       \n",
      " 2   power_reactive         1051200 non-null  float64       \n",
      " 3   power_active           1051200 non-null  float64       \n",
      " 4   power_apparent         1051200 non-null  float64       \n",
      " 5   appliances_type        1051200 non-null  object        \n",
      " 6   appliances_id          1051200 non-null  int64         \n",
      " 7   appliances_name        1051200 non-null  object        \n",
      "dtypes: datetime64[ns](1), float64(4), int64(1), object(2)\n",
      "memory usage: 72.2+ MB\n"
     ]
    }
   ],
   "source": [
    "main_df.info()"
   ]
  },
  {
   "cell_type": "code",
   "execution_count": 7,
   "metadata": {},
   "outputs": [],
   "source": [
    "df = df.drop(index=main_df.index)"
   ]
  },
  {
   "cell_type": "code",
   "execution_count": 8,
   "metadata": {},
   "outputs": [
    {
     "data": {
      "text/html": [
       "<div>\n",
       "<style scoped>\n",
       "    .dataframe tbody tr th:only-of-type {\n",
       "        vertical-align: middle;\n",
       "    }\n",
       "\n",
       "    .dataframe tbody tr th {\n",
       "        vertical-align: top;\n",
       "    }\n",
       "\n",
       "    .dataframe thead th {\n",
       "        text-align: right;\n",
       "    }\n",
       "</style>\n",
       "<table border=\"1\" class=\"dataframe\">\n",
       "  <thead>\n",
       "    <tr style=\"text-align: right;\">\n",
       "      <th></th>\n",
       "      <th>TIMESTAMP</th>\n",
       "      <th>power factor_apparent</th>\n",
       "      <th>power_reactive</th>\n",
       "      <th>power_active</th>\n",
       "      <th>power_apparent</th>\n",
       "      <th>appliances_type</th>\n",
       "      <th>appliances_id</th>\n",
       "      <th>appliances_name</th>\n",
       "    </tr>\n",
       "  </thead>\n",
       "  <tbody>\n",
       "    <tr>\n",
       "      <th>0</th>\n",
       "      <td>2012-04-01 00:00:00</td>\n",
       "      <td>0.0</td>\n",
       "      <td>0.0</td>\n",
       "      <td>0.0</td>\n",
       "      <td>9.0</td>\n",
       "      <td>light</td>\n",
       "      <td>1</td>\n",
       "      <td>light 1</td>\n",
       "    </tr>\n",
       "    <tr>\n",
       "      <th>1</th>\n",
       "      <td>2012-04-01 00:01:00</td>\n",
       "      <td>0.0</td>\n",
       "      <td>0.0</td>\n",
       "      <td>0.0</td>\n",
       "      <td>9.0</td>\n",
       "      <td>light</td>\n",
       "      <td>1</td>\n",
       "      <td>light 1</td>\n",
       "    </tr>\n",
       "    <tr>\n",
       "      <th>2</th>\n",
       "      <td>2012-04-01 00:02:00</td>\n",
       "      <td>0.0</td>\n",
       "      <td>0.0</td>\n",
       "      <td>0.0</td>\n",
       "      <td>9.0</td>\n",
       "      <td>light</td>\n",
       "      <td>1</td>\n",
       "      <td>light 1</td>\n",
       "    </tr>\n",
       "    <tr>\n",
       "      <th>3</th>\n",
       "      <td>2012-04-01 00:03:00</td>\n",
       "      <td>0.0</td>\n",
       "      <td>0.0</td>\n",
       "      <td>0.0</td>\n",
       "      <td>9.0</td>\n",
       "      <td>light</td>\n",
       "      <td>1</td>\n",
       "      <td>light 1</td>\n",
       "    </tr>\n",
       "    <tr>\n",
       "      <th>4</th>\n",
       "      <td>2012-04-01 00:04:00</td>\n",
       "      <td>0.0</td>\n",
       "      <td>0.0</td>\n",
       "      <td>0.0</td>\n",
       "      <td>9.0</td>\n",
       "      <td>light</td>\n",
       "      <td>1</td>\n",
       "      <td>light 1</td>\n",
       "    </tr>\n",
       "  </tbody>\n",
       "</table>\n",
       "</div>"
      ],
      "text/plain": [
       "            TIMESTAMP  power factor_apparent  power_reactive  power_active  \\\n",
       "0 2012-04-01 00:00:00                    0.0             0.0           0.0   \n",
       "1 2012-04-01 00:01:00                    0.0             0.0           0.0   \n",
       "2 2012-04-01 00:02:00                    0.0             0.0           0.0   \n",
       "3 2012-04-01 00:03:00                    0.0             0.0           0.0   \n",
       "4 2012-04-01 00:04:00                    0.0             0.0           0.0   \n",
       "\n",
       "   power_apparent appliances_type  appliances_id appliances_name  \n",
       "0             9.0           light              1         light 1  \n",
       "1             9.0           light              1         light 1  \n",
       "2             9.0           light              1         light 1  \n",
       "3             9.0           light              1         light 1  \n",
       "4             9.0           light              1         light 1  "
      ]
     },
     "execution_count": 8,
     "metadata": {},
     "output_type": "execute_result"
    }
   ],
   "source": [
    "df = df.reset_index().drop(columns=['index'], axis=1)\n",
    "df.head()"
   ]
  },
  {
   "cell_type": "markdown",
   "metadata": {},
   "source": [
    "### Data sampling period"
   ]
  },
  {
   "cell_type": "code",
   "execution_count": 9,
   "metadata": {},
   "outputs": [
    {
     "data": {
      "text/plain": [
       "1"
      ]
     },
     "execution_count": 9,
     "metadata": {},
     "output_type": "execute_result"
    }
   ],
   "source": [
    "sampling_period = int((df['TIMESTAMP'][1] - df['TIMESTAMP'][0]).total_seconds()/60)\n",
    "sampling_period"
   ]
  },
  {
   "cell_type": "code",
   "execution_count": 10,
   "metadata": {},
   "outputs": [
    {
     "data": {
      "text/plain": [
       "1440"
      ]
     },
     "execution_count": 10,
     "metadata": {},
     "output_type": "execute_result"
    }
   ],
   "source": [
    "oneday_n = 24*60//sampling_period\n",
    "oneday_n"
   ]
  },
  {
   "cell_type": "code",
   "execution_count": 11,
   "metadata": {},
   "outputs": [
    {
     "data": {
      "text/plain": [
       "10080"
      ]
     },
     "execution_count": 11,
     "metadata": {},
     "output_type": "execute_result"
    }
   ],
   "source": [
    "oneweek_n = oneday_n*7\n",
    "oneweek_n"
   ]
  },
  {
   "cell_type": "markdown",
   "metadata": {},
   "source": [
    "### Add new column\n",
    "\n",
    "`weekday`: monday = 0, sunday = 6"
   ]
  },
  {
   "cell_type": "code",
   "execution_count": 12,
   "metadata": {},
   "outputs": [],
   "source": [
    "df['weekday'] = df['TIMESTAMP'].dt.weekday\n",
    "df['month'] = df['TIMESTAMP'].dt.month\n",
    "\n",
    "df['day_minute'] = (df['TIMESTAMP'].dt.hour*60) + (df['TIMESTAMP'].dt.minute)\n",
    "df['week_minute'] = (df['weekday']*oneday_n) + df['day_minute']"
   ]
  },
  {
   "cell_type": "code",
   "execution_count": 13,
   "metadata": {},
   "outputs": [
    {
     "data": {
      "text/html": [
       "<div>\n",
       "<style scoped>\n",
       "    .dataframe tbody tr th:only-of-type {\n",
       "        vertical-align: middle;\n",
       "    }\n",
       "\n",
       "    .dataframe tbody tr th {\n",
       "        vertical-align: top;\n",
       "    }\n",
       "\n",
       "    .dataframe thead th {\n",
       "        text-align: right;\n",
       "    }\n",
       "</style>\n",
       "<table border=\"1\" class=\"dataframe\">\n",
       "  <thead>\n",
       "    <tr style=\"text-align: right;\">\n",
       "      <th></th>\n",
       "      <th>TIMESTAMP</th>\n",
       "      <th>power factor_apparent</th>\n",
       "      <th>power_reactive</th>\n",
       "      <th>power_active</th>\n",
       "      <th>power_apparent</th>\n",
       "      <th>appliances_type</th>\n",
       "      <th>appliances_id</th>\n",
       "      <th>appliances_name</th>\n",
       "      <th>weekday</th>\n",
       "      <th>month</th>\n",
       "      <th>day_minute</th>\n",
       "      <th>week_minute</th>\n",
       "    </tr>\n",
       "  </thead>\n",
       "  <tbody>\n",
       "    <tr>\n",
       "      <th>0</th>\n",
       "      <td>2012-04-01 00:00:00</td>\n",
       "      <td>0.0</td>\n",
       "      <td>0.0</td>\n",
       "      <td>0.0</td>\n",
       "      <td>9.0</td>\n",
       "      <td>light</td>\n",
       "      <td>1</td>\n",
       "      <td>light 1</td>\n",
       "      <td>6</td>\n",
       "      <td>4</td>\n",
       "      <td>0</td>\n",
       "      <td>8640</td>\n",
       "    </tr>\n",
       "    <tr>\n",
       "      <th>1</th>\n",
       "      <td>2012-04-01 00:01:00</td>\n",
       "      <td>0.0</td>\n",
       "      <td>0.0</td>\n",
       "      <td>0.0</td>\n",
       "      <td>9.0</td>\n",
       "      <td>light</td>\n",
       "      <td>1</td>\n",
       "      <td>light 1</td>\n",
       "      <td>6</td>\n",
       "      <td>4</td>\n",
       "      <td>1</td>\n",
       "      <td>8641</td>\n",
       "    </tr>\n",
       "    <tr>\n",
       "      <th>2</th>\n",
       "      <td>2012-04-01 00:02:00</td>\n",
       "      <td>0.0</td>\n",
       "      <td>0.0</td>\n",
       "      <td>0.0</td>\n",
       "      <td>9.0</td>\n",
       "      <td>light</td>\n",
       "      <td>1</td>\n",
       "      <td>light 1</td>\n",
       "      <td>6</td>\n",
       "      <td>4</td>\n",
       "      <td>2</td>\n",
       "      <td>8642</td>\n",
       "    </tr>\n",
       "    <tr>\n",
       "      <th>3</th>\n",
       "      <td>2012-04-01 00:03:00</td>\n",
       "      <td>0.0</td>\n",
       "      <td>0.0</td>\n",
       "      <td>0.0</td>\n",
       "      <td>9.0</td>\n",
       "      <td>light</td>\n",
       "      <td>1</td>\n",
       "      <td>light 1</td>\n",
       "      <td>6</td>\n",
       "      <td>4</td>\n",
       "      <td>3</td>\n",
       "      <td>8643</td>\n",
       "    </tr>\n",
       "    <tr>\n",
       "      <th>4</th>\n",
       "      <td>2012-04-01 00:04:00</td>\n",
       "      <td>0.0</td>\n",
       "      <td>0.0</td>\n",
       "      <td>0.0</td>\n",
       "      <td>9.0</td>\n",
       "      <td>light</td>\n",
       "      <td>1</td>\n",
       "      <td>light 1</td>\n",
       "      <td>6</td>\n",
       "      <td>4</td>\n",
       "      <td>4</td>\n",
       "      <td>8644</td>\n",
       "    </tr>\n",
       "  </tbody>\n",
       "</table>\n",
       "</div>"
      ],
      "text/plain": [
       "            TIMESTAMP  power factor_apparent  power_reactive  power_active  \\\n",
       "0 2012-04-01 00:00:00                    0.0             0.0           0.0   \n",
       "1 2012-04-01 00:01:00                    0.0             0.0           0.0   \n",
       "2 2012-04-01 00:02:00                    0.0             0.0           0.0   \n",
       "3 2012-04-01 00:03:00                    0.0             0.0           0.0   \n",
       "4 2012-04-01 00:04:00                    0.0             0.0           0.0   \n",
       "\n",
       "   power_apparent appliances_type  appliances_id appliances_name  weekday  \\\n",
       "0             9.0           light              1         light 1        6   \n",
       "1             9.0           light              1         light 1        6   \n",
       "2             9.0           light              1         light 1        6   \n",
       "3             9.0           light              1         light 1        6   \n",
       "4             9.0           light              1         light 1        6   \n",
       "\n",
       "   month  day_minute  week_minute  \n",
       "0      4           0         8640  \n",
       "1      4           1         8641  \n",
       "2      4           2         8642  \n",
       "3      4           3         8643  \n",
       "4      4           4         8644  "
      ]
     },
     "execution_count": 13,
     "metadata": {},
     "output_type": "execute_result"
    }
   ],
   "source": [
    "df.head()"
   ]
  },
  {
   "cell_type": "code",
   "execution_count": 14,
   "metadata": {},
   "outputs": [],
   "source": [
    "main_df['weekday'] = main_df['TIMESTAMP'].dt.weekday\n",
    "main_df['month'] = main_df['TIMESTAMP'].dt.month\n",
    "\n",
    "main_df['day_minute'] = (main_df['TIMESTAMP'].dt.hour*60) + (main_df['TIMESTAMP'].dt.minute)\n",
    "main_df['week_minute'] = (main_df['weekday']*oneday_n) + main_df['day_minute']"
   ]
  },
  {
   "cell_type": "code",
   "execution_count": 15,
   "metadata": {},
   "outputs": [
    {
     "data": {
      "text/html": [
       "<div>\n",
       "<style scoped>\n",
       "    .dataframe tbody tr th:only-of-type {\n",
       "        vertical-align: middle;\n",
       "    }\n",
       "\n",
       "    .dataframe tbody tr th {\n",
       "        vertical-align: top;\n",
       "    }\n",
       "\n",
       "    .dataframe thead th {\n",
       "        text-align: right;\n",
       "    }\n",
       "</style>\n",
       "<table border=\"1\" class=\"dataframe\">\n",
       "  <thead>\n",
       "    <tr style=\"text-align: right;\">\n",
       "      <th></th>\n",
       "      <th>TIMESTAMP</th>\n",
       "      <th>power factor_apparent</th>\n",
       "      <th>power_reactive</th>\n",
       "      <th>power_active</th>\n",
       "      <th>power_apparent</th>\n",
       "      <th>appliances_type</th>\n",
       "      <th>appliances_id</th>\n",
       "      <th>appliances_name</th>\n",
       "      <th>weekday</th>\n",
       "      <th>month</th>\n",
       "      <th>day_minute</th>\n",
       "      <th>week_minute</th>\n",
       "    </tr>\n",
       "  </thead>\n",
       "  <tbody>\n",
       "    <tr>\n",
       "      <th>0</th>\n",
       "      <td>2012-04-01 00:00:00</td>\n",
       "      <td>0.93</td>\n",
       "      <td>141.0</td>\n",
       "      <td>918.0</td>\n",
       "      <td>1066.0</td>\n",
       "      <td>main</td>\n",
       "      <td>1</td>\n",
       "      <td>main 1</td>\n",
       "      <td>6</td>\n",
       "      <td>4</td>\n",
       "      <td>0</td>\n",
       "      <td>8640</td>\n",
       "    </tr>\n",
       "    <tr>\n",
       "      <th>1</th>\n",
       "      <td>2012-04-01 00:01:00</td>\n",
       "      <td>0.93</td>\n",
       "      <td>141.0</td>\n",
       "      <td>913.0</td>\n",
       "      <td>1056.0</td>\n",
       "      <td>main</td>\n",
       "      <td>1</td>\n",
       "      <td>main 1</td>\n",
       "      <td>6</td>\n",
       "      <td>4</td>\n",
       "      <td>1</td>\n",
       "      <td>8641</td>\n",
       "    </tr>\n",
       "    <tr>\n",
       "      <th>2</th>\n",
       "      <td>2012-04-01 00:02:00</td>\n",
       "      <td>0.93</td>\n",
       "      <td>139.0</td>\n",
       "      <td>872.0</td>\n",
       "      <td>1021.0</td>\n",
       "      <td>main</td>\n",
       "      <td>1</td>\n",
       "      <td>main 1</td>\n",
       "      <td>6</td>\n",
       "      <td>4</td>\n",
       "      <td>2</td>\n",
       "      <td>8642</td>\n",
       "    </tr>\n",
       "    <tr>\n",
       "      <th>3</th>\n",
       "      <td>2012-04-01 00:03:00</td>\n",
       "      <td>0.93</td>\n",
       "      <td>141.0</td>\n",
       "      <td>872.0</td>\n",
       "      <td>1018.0</td>\n",
       "      <td>main</td>\n",
       "      <td>1</td>\n",
       "      <td>main 1</td>\n",
       "      <td>6</td>\n",
       "      <td>4</td>\n",
       "      <td>3</td>\n",
       "      <td>8643</td>\n",
       "    </tr>\n",
       "    <tr>\n",
       "      <th>4</th>\n",
       "      <td>2012-04-01 00:04:00</td>\n",
       "      <td>0.89</td>\n",
       "      <td>140.0</td>\n",
       "      <td>772.0</td>\n",
       "      <td>1018.0</td>\n",
       "      <td>main</td>\n",
       "      <td>1</td>\n",
       "      <td>main 1</td>\n",
       "      <td>6</td>\n",
       "      <td>4</td>\n",
       "      <td>4</td>\n",
       "      <td>8644</td>\n",
       "    </tr>\n",
       "  </tbody>\n",
       "</table>\n",
       "</div>"
      ],
      "text/plain": [
       "            TIMESTAMP  power factor_apparent  power_reactive  power_active  \\\n",
       "0 2012-04-01 00:00:00                   0.93           141.0         918.0   \n",
       "1 2012-04-01 00:01:00                   0.93           141.0         913.0   \n",
       "2 2012-04-01 00:02:00                   0.93           139.0         872.0   \n",
       "3 2012-04-01 00:03:00                   0.93           141.0         872.0   \n",
       "4 2012-04-01 00:04:00                   0.89           140.0         772.0   \n",
       "\n",
       "   power_apparent appliances_type  appliances_id appliances_name  weekday  \\\n",
       "0          1066.0            main              1          main 1        6   \n",
       "1          1056.0            main              1          main 1        6   \n",
       "2          1021.0            main              1          main 1        6   \n",
       "3          1018.0            main              1          main 1        6   \n",
       "4          1018.0            main              1          main 1        6   \n",
       "\n",
       "   month  day_minute  week_minute  \n",
       "0      4           0         8640  \n",
       "1      4           1         8641  \n",
       "2      4           2         8642  \n",
       "3      4           3         8643  \n",
       "4      4           4         8644  "
      ]
     },
     "execution_count": 15,
     "metadata": {},
     "output_type": "execute_result"
    }
   ],
   "source": [
    "main_df.head()"
   ]
  },
  {
   "cell_type": "markdown",
   "metadata": {},
   "source": [
    "### get top appliances by power consumption"
   ]
  },
  {
   "cell_type": "code",
   "execution_count": 16,
   "metadata": {},
   "outputs": [],
   "source": [
    "top_power_consump = df[df[\"power_active\"] >= 40]\\\n",
    "    .groupby([\"appliances_name\"])\\\n",
    "    .mean()\\\n",
    "    .sort_values(\"power_active\", ascending=False)\\\n",
    "    .reset_index()['appliances_name'].tolist()"
   ]
  },
  {
   "cell_type": "code",
   "execution_count": 17,
   "metadata": {},
   "outputs": [
    {
     "data": {
      "text/plain": [
       "['unknown 1',\n",
       " 'heat pump 1',\n",
       " 'electric oven 1',\n",
       " 'unknown 3',\n",
       " 'light 1',\n",
       " 'light 3',\n",
       " 'unknown 7',\n",
       " 'sockets 2',\n",
       " 'unknown 9',\n",
       " 'unknown 2',\n",
       " 'unknown 4',\n",
       " 'television 1',\n",
       " 'fridge 1',\n",
       " 'unknown 6',\n",
       " 'light 2',\n",
       " 'light 4',\n",
       " 'sockets 3',\n",
       " 'unknown 8',\n",
       " 'sockets 1',\n",
       " 'unknown 5']"
      ]
     },
     "execution_count": 17,
     "metadata": {},
     "output_type": "execute_result"
    }
   ],
   "source": [
    "top_power_consump"
   ]
  },
  {
   "cell_type": "markdown",
   "metadata": {},
   "source": [
    "## EDA"
   ]
  },
  {
   "cell_type": "code",
   "execution_count": 18,
   "metadata": {},
   "outputs": [],
   "source": [
    "# select top appliance\n",
    "top_k = 10\n",
    "num_appliance = len(top_power_consump)\n",
    "power_col = 'power_active'"
   ]
  },
  {
   "cell_type": "code",
   "execution_count": null,
   "metadata": {},
   "outputs": [],
   "source": [
    "def label(x, color, label):\n",
    "    ax = plt.gca()\n",
    "    ax.text(0.01, 0.1,\n",
    "           int(label),\n",
    "           fontweight=\"bold\",\n",
    "           color=color,\n",
    "           size=22,\n",
    "           ha=\"left\",\n",
    "           va=\"center\",\n",
    "           transform=ax.transAxes)\n",
    "\n",
    "\n",
    "sns.set(context=\"paper\", style=\"white\", \n",
    "       rc={\n",
    "           \"figure.figsize\": (42, 9),\n",
    "           \"figure.dpi\": 150,\n",
    "           \"axes.facecolor\": (0, 0, 0, 0)\n",
    "       })\n",
    "sns.set_palette(\"plasma\", 18)\n",
    "\n",
    "g = sns.FacetGrid(main_df,\n",
    "                  row='month',\n",
    "                  hue='month',\n",
    "                  aspect=21,\n",
    "                  height=2)\n",
    "\n",
    "g.map(sns.lineplot, \"week_minute\", \"power_active\", lw=1, alpha=1, err_style=\"band\")\n",
    "g.map(plt.axhline, y=0, lw=0.75, alpha=0.5)\n",
    "g.map(label, \"month\")\n",
    "g.fig.subplots_adjust(hspace= -0.60)\n",
    "g.set_titles(\"\")\n",
    "g.despine(bottom=True, left=True)\n",
    "g.set(yticks=[])\n",
    "g.set(xticks=np.arange(0, oneweek_n+oneday_n/2, oneday_n/2))\n",
    "\n",
    "plt.suptitle(f\"Monthly/Weekly Power Consumption \\n sampling period {sampling_period} min\")\n",
    "plt.xlabel(\"minute of week\")\n",
    "plt.savefig(\"./visualization_output/04_facet_grid.png\", dpi=250)"
   ]
  },
  {
   "cell_type": "code",
   "execution_count": null,
   "metadata": {},
   "outputs": [],
   "source": []
  }
 ],
 "metadata": {
  "kernelspec": {
   "display_name": "Python 3",
   "language": "python",
   "name": "python3"
  },
  "language_info": {
   "codemirror_mode": {
    "name": "ipython",
    "version": 3
   },
   "file_extension": ".py",
   "mimetype": "text/x-python",
   "name": "python",
   "nbconvert_exporter": "python",
   "pygments_lexer": "ipython3",
   "version": "3.8.3"
  }
 },
 "nbformat": 4,
 "nbformat_minor": 4
}
