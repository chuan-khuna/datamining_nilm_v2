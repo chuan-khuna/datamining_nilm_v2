{
 "cells": [
  {
   "cell_type": "code",
   "execution_count": 1,
   "metadata": {},
   "outputs": [],
   "source": [
    "from nilmtk import DataSet\n",
    "from nilmtk.utils import print_dict"
   ]
  },
  {
   "cell_type": "markdown",
   "metadata": {},
   "source": [
    "## Open HDF5"
   ]
  },
  {
   "cell_type": "code",
   "execution_count": 2,
   "metadata": {},
   "outputs": [],
   "source": [
    "ds = DataSet(\"./AMPds2.h5\")"
   ]
  },
  {
   "cell_type": "code",
   "execution_count": 3,
   "metadata": {},
   "outputs": [
    {
     "data": {
      "text/html": [
       "<ul><li><strong>name</strong>: AMPds</li><li><strong>long_name</strong>: The Almanac of Minutely Power Dataset</li><li><strong>creators</strong>: <ul><li>Makonin, Stephen</li><li>Popowich, Fred</li><li>Bartram, Lyn</li><li>Gill, Bob</li><li>Bajic, Ivan V.</li></ul></li><li><strong>publication_date</strong>: 2013, 2014</li><li><strong>institution</strong>: Simon Fraser University (SFU)</li><li><strong>contact</strong>: stephen@makonin.com</li><li><strong>description</strong>: a dataset consisting of electricity, water, and natural gas consumption for 2 years</li><li><strong>subject</strong>: First dataset from Canada</li><li><strong>number_of_buildings</strong>: 1</li><li><strong>timezone</strong>: America/Vancouver</li><li><strong>geo_location</strong>: <ul><li><strong>locality</strong>: Burnaby</li><li><strong>country</strong>: CA</li><li><strong>latitude</strong>: 49.269</li><li><strong>longitude</strong>: -122.992</li></ul></li><li><strong>related_documents</strong>: <ul><li><a href=\"http://ampds.org\">http://ampds.org</a></li><li>Stephen Makonin and Fred Popowich and Lyn Bartram and Bob Gill and Ivan V. Bajic AMPds: A Public Dataset for Load Disaggregation and Eco-Feedback Research In proceedings of the 2013 IEEE Electrical Power and Energy Conference  (EPEC 2013) <a href=\"http://ampds.org/EPEC_2013.pdf\">http://ampds.org/EPEC_2013.pdf</a>\n",
       "</li></ul></li><li><strong>schema</strong>: <a href=\"https://github.com/nilmtk/nilm_metadata/tree/v0.2\">https://github.com/nilmtk/nilm_metadata/tree/v0.2</a></li><li><strong>meter_devices</strong>: <ul><li><strong>PS18</strong>: <ul><li><strong>model</strong>: PowerScout 18</li><li><strong>manufacturer</strong>: DENT Instruments</li><li><strong>manufacturer_url</strong>: <a href=\"http://www.dentinstruments.com\">http://www.dentinstruments.com</a></li><li><strong>description</strong>: Branch curcuit power meter (18)</li><li><strong>sample_period</strong>: 60</li><li><strong>max_sample_period</strong>: 60</li><li><strong>measurements</strong>: <ul><li>{'physical_quantity': 'voltage', 'type': 'apparent', 'upper_limit': 270, 'lower_limit': 0}</li><li>{'physical_quantity': 'current', 'type': 'apparent', 'upper_limit': 400, 'lower_limit': 0}</li><li>{'physical_quantity': 'frequency', 'type': 'apparent', 'upper_limit': 70, 'lower_limit': 0}</li><li>{'physical_quantity': 'power factor', 'type': 'apparent', 'upper_limit': 1, 'lower_limit': 0}</li><li>{'physical_quantity': 'power factor', 'type': 'real', 'upper_limit': 1, 'lower_limit': 0}</li><li>{'physical_quantity': 'power', 'type': 'active', 'upper_limit': 96000, 'lower_limit': 0}</li><li>{'physical_quantity': 'cumulative energy', 'type': 'active', 'upper_limit': 500000000, 'lower_limit': 0}</li><li>{'physical_quantity': 'power', 'type': 'reactive', 'upper_limit': 96000, 'lower_limit': 0}</li><li>{'physical_quantity': 'cumulative energy', 'type': 'reactive', 'upper_limit': 500000000, 'lower_limit': 0}</li><li>{'physical_quantity': 'power', 'type': 'apparent', 'upper_limit': 96000, 'lower_limit': 0}</li><li>{'physical_quantity': 'cumulative energy', 'type': 'apparent', 'upper_limit': 500000000, 'lower_limit': 0}</li></ul></li></ul></li></ul></li></ul>"
      ],
      "text/plain": [
       "<IPython.core.display.HTML object>"
      ]
     },
     "metadata": {},
     "output_type": "display_data"
    }
   ],
   "source": [
    "print_dict(ds.metadata)"
   ]
  },
  {
   "cell_type": "code",
   "execution_count": 4,
   "metadata": {},
   "outputs": [
    {
     "data": {
      "text/html": [
       "<ul><li><strong>1</strong>: Building(instance=1, dataset='AMPds')</li></ul>"
      ],
      "text/plain": [
       "<IPython.core.display.HTML object>"
      ]
     },
     "metadata": {},
     "output_type": "display_data"
    }
   ],
   "source": [
    "print_dict(ds.buildings)"
   ]
  },
  {
   "cell_type": "code",
   "execution_count": 5,
   "metadata": {},
   "outputs": [
    {
     "data": {
      "text/html": [
       "<ul><li><strong>instance</strong>: 1</li><li><strong>original_name</strong>: MAK</li><li><strong>n_occupants</strong>: 3 start:2012-04-01T06:59:00Z end:2014-04-01T07:00:00Z</li><li><strong>construction_year</strong>: 1955</li><li><strong>energy_improvements</strong>: <ul><li>heat pump</li><li>loft insulation</li><li>instant hot water</li><li>double glazing</li><li>lots of other things</li></ul></li><li><strong>dataset</strong>: AMPds</li></ul>"
      ],
      "text/plain": [
       "<IPython.core.display.HTML object>"
      ]
     },
     "metadata": {},
     "output_type": "display_data"
    }
   ],
   "source": [
    "print_dict(ds.buildings[1].metadata)"
   ]
  },
  {
   "cell_type": "code",
   "execution_count": 6,
   "metadata": {},
   "outputs": [],
   "source": [
    "bld = ds.buildings[1]\n",
    "elec = bld.elec"
   ]
  },
  {
   "cell_type": "code",
   "execution_count": 7,
   "metadata": {},
   "outputs": [
    {
     "data": {
      "text/plain": [
       "MeterGroup(meters=\n",
       "  ElecMeter(instance=1, building=1, dataset='AMPds', site_meter, appliances=[])\n",
       "  ElecMeter(instance=2, building=1, dataset='AMPds', appliances=[Appliance(type='light', instance=1)])\n",
       "  ElecMeter(instance=3, building=1, dataset='AMPds', appliances=[Appliance(type='light', instance=2)])\n",
       "  ElecMeter(instance=4, building=1, dataset='AMPds', appliances=[Appliance(type='light', instance=3)])\n",
       "  ElecMeter(instance=5, building=1, dataset='AMPds', appliances=[Appliance(type='unknown', instance=1)])\n",
       "  ElecMeter(instance=6, building=1, dataset='AMPds', appliances=[Appliance(type='unknown', instance=2)])\n",
       "  ElecMeter(instance=7, building=1, dataset='AMPds', appliances=[Appliance(type='sockets', instance=1)])\n",
       "  ElecMeter(instance=8, building=1, dataset='AMPds', appliances=[Appliance(type='unknown', instance=3)])\n",
       "  ElecMeter(instance=9, building=1, dataset='AMPds', appliances=[Appliance(type='unknown', instance=4)])\n",
       "  ElecMeter(instance=10, building=1, dataset='AMPds', appliances=[Appliance(type='unknown', instance=5)])\n",
       "  ElecMeter(instance=11, building=1, dataset='AMPds', appliances=[Appliance(type='fridge', instance=1)])\n",
       "  ElecMeter(instance=12, building=1, dataset='AMPds', appliances=[Appliance(type='unknown', instance=6)])\n",
       "  ElecMeter(instance=13, building=1, dataset='AMPds', appliances=[Appliance(type='unknown', instance=7)])\n",
       "  ElecMeter(instance=14, building=1, dataset='AMPds', appliances=[Appliance(type='heat pump', instance=1)])\n",
       "  ElecMeter(instance=15, building=1, dataset='AMPds', appliances=[Appliance(type='unknown', instance=8)])\n",
       "  ElecMeter(instance=16, building=1, dataset='AMPds', appliances=[Appliance(type='light', instance=4)])\n",
       "  ElecMeter(instance=17, building=1, dataset='AMPds', appliances=[Appliance(type='sockets', instance=2)])\n",
       "  ElecMeter(instance=18, building=1, dataset='AMPds', appliances=[Appliance(type='unknown', instance=9)])\n",
       "  ElecMeter(instance=19, building=1, dataset='AMPds', appliances=[Appliance(type='television', instance=1)])\n",
       "  ElecMeter(instance=20, building=1, dataset='AMPds', appliances=[Appliance(type='sockets', instance=3)])\n",
       "  ElecMeter(instance=21, building=1, dataset='AMPds', appliances=[Appliance(type='electric oven', instance=1)])\n",
       ")"
      ]
     },
     "execution_count": 7,
     "metadata": {},
     "output_type": "execute_result"
    }
   ],
   "source": [
    "elec"
   ]
  },
  {
   "cell_type": "code",
   "execution_count": 8,
   "metadata": {},
   "outputs": [
    {
     "data": {
      "text/plain": [
       "ElecMeter(instance=11, building=1, dataset='AMPds', appliances=[Appliance(type='fridge', instance=1)])"
      ]
     },
     "execution_count": 8,
     "metadata": {},
     "output_type": "execute_result"
    }
   ],
   "source": [
    "elec['fridge']"
   ]
  },
  {
   "cell_type": "code",
   "execution_count": 9,
   "metadata": {},
   "outputs": [
    {
     "data": {
      "text/plain": [
       "[('cumulative energy', 'reactive'),\n",
       " ('power factor', 'real'),\n",
       " ('cumulative energy', 'apparent'),\n",
       " ('power', 'active'),\n",
       " ('power', 'reactive'),\n",
       " ('power factor', 'apparent'),\n",
       " ('power', 'apparent'),\n",
       " ('cumulative energy', 'active'),\n",
       " ('current', 'apparent'),\n",
       " ('frequency', 'apparent'),\n",
       " ('voltage', 'apparent')]"
      ]
     },
     "execution_count": 9,
     "metadata": {},
     "output_type": "execute_result"
    }
   ],
   "source": [
    "elec['fridge'].available_columns()"
   ]
  },
  {
   "cell_type": "code",
   "execution_count": 10,
   "metadata": {},
   "outputs": [
    {
     "data": {
      "text/plain": [
       "ElecMeter(instance=1, building=1, dataset='AMPds', site_meter, appliances=[])"
      ]
     },
     "execution_count": 10,
     "metadata": {},
     "output_type": "execute_result"
    }
   ],
   "source": [
    "elec[1]"
   ]
  },
  {
   "cell_type": "code",
   "execution_count": 11,
   "metadata": {},
   "outputs": [
    {
     "data": {
      "text/plain": [
       "[Appliance(type='light', instance=1)]"
      ]
     },
     "execution_count": 11,
     "metadata": {},
     "output_type": "execute_result"
    }
   ],
   "source": [
    "elec[2].appliances"
   ]
  },
  {
   "cell_type": "code",
   "execution_count": 12,
   "metadata": {},
   "outputs": [
    {
     "data": {
      "text/plain": [
       "ElecMeter(instance=1, building=1, dataset='AMPds', site_meter, appliances=[])"
      ]
     },
     "execution_count": 12,
     "metadata": {},
     "output_type": "execute_result"
    }
   ],
   "source": [
    "elec.mains()"
   ]
  },
  {
   "cell_type": "markdown",
   "metadata": {},
   "source": [
    "### idea\n",
    "> ลืม circuit หมดแล้ว\n",
    "\n",
    "> ต้องโหลดข้อมูล power ?\n",
    "- active power (kW)\n",
    "- reactive power (kVAR)\n",
    "- apparent power (kVA) = kW + kVAR\n",
    "- power factor = P_active/P_apparent"
   ]
  },
  {
   "cell_type": "code",
   "execution_count": 13,
   "metadata": {},
   "outputs": [
    {
     "data": {
      "text/plain": [
       "pandas.core.frame.DataFrame"
      ]
     },
     "execution_count": 13,
     "metadata": {},
     "output_type": "execute_result"
    }
   ],
   "source": [
    "type(next(elec['fridge'].load()))"
   ]
  },
  {
   "cell_type": "code",
   "execution_count": 14,
   "metadata": {},
   "outputs": [],
   "source": [
    "fridge_df = next(elec['fridge'].load())"
   ]
  },
  {
   "cell_type": "code",
   "execution_count": 15,
   "metadata": {},
   "outputs": [
    {
     "data": {
      "text/html": [
       "<div>\n",
       "<style scoped>\n",
       "    .dataframe tbody tr th:only-of-type {\n",
       "        vertical-align: middle;\n",
       "    }\n",
       "\n",
       "    .dataframe tbody tr th {\n",
       "        vertical-align: top;\n",
       "    }\n",
       "\n",
       "    .dataframe thead tr th {\n",
       "        text-align: left;\n",
       "    }\n",
       "\n",
       "    .dataframe thead tr:last-of-type th {\n",
       "        text-align: right;\n",
       "    }\n",
       "</style>\n",
       "<table border=\"1\" class=\"dataframe\">\n",
       "  <thead>\n",
       "    <tr>\n",
       "      <th>physical_quantity</th>\n",
       "      <th colspan=\"2\" halign=\"left\">power</th>\n",
       "      <th>power factor</th>\n",
       "      <th>power</th>\n",
       "    </tr>\n",
       "    <tr>\n",
       "      <th>type</th>\n",
       "      <th>active</th>\n",
       "      <th>reactive</th>\n",
       "      <th>apparent</th>\n",
       "      <th>apparent</th>\n",
       "    </tr>\n",
       "    <tr>\n",
       "      <th>TIMESTAMP</th>\n",
       "      <th></th>\n",
       "      <th></th>\n",
       "      <th></th>\n",
       "      <th></th>\n",
       "    </tr>\n",
       "  </thead>\n",
       "  <tbody>\n",
       "    <tr>\n",
       "      <th>2012-04-01 00:00:00-07:00</th>\n",
       "      <td>0.0</td>\n",
       "      <td>6.0</td>\n",
       "      <td>0.04</td>\n",
       "      <td>10.0</td>\n",
       "    </tr>\n",
       "    <tr>\n",
       "      <th>2012-04-01 00:01:00-07:00</th>\n",
       "      <td>0.0</td>\n",
       "      <td>6.0</td>\n",
       "      <td>0.04</td>\n",
       "      <td>10.0</td>\n",
       "    </tr>\n",
       "    <tr>\n",
       "      <th>2012-04-01 00:02:00-07:00</th>\n",
       "      <td>0.0</td>\n",
       "      <td>6.0</td>\n",
       "      <td>0.05</td>\n",
       "      <td>10.0</td>\n",
       "    </tr>\n",
       "    <tr>\n",
       "      <th>2012-04-01 00:03:00-07:00</th>\n",
       "      <td>0.0</td>\n",
       "      <td>6.0</td>\n",
       "      <td>0.05</td>\n",
       "      <td>10.0</td>\n",
       "    </tr>\n",
       "    <tr>\n",
       "      <th>2012-04-01 00:04:00-07:00</th>\n",
       "      <td>0.0</td>\n",
       "      <td>6.0</td>\n",
       "      <td>0.09</td>\n",
       "      <td>10.0</td>\n",
       "    </tr>\n",
       "    <tr>\n",
       "      <th>...</th>\n",
       "      <td>...</td>\n",
       "      <td>...</td>\n",
       "      <td>...</td>\n",
       "      <td>...</td>\n",
       "    </tr>\n",
       "    <tr>\n",
       "      <th>2014-03-31 23:55:00-07:00</th>\n",
       "      <td>0.0</td>\n",
       "      <td>5.0</td>\n",
       "      <td>0.05</td>\n",
       "      <td>10.0</td>\n",
       "    </tr>\n",
       "    <tr>\n",
       "      <th>2014-03-31 23:56:00-07:00</th>\n",
       "      <td>0.0</td>\n",
       "      <td>5.0</td>\n",
       "      <td>0.00</td>\n",
       "      <td>10.0</td>\n",
       "    </tr>\n",
       "    <tr>\n",
       "      <th>2014-03-31 23:57:00-07:00</th>\n",
       "      <td>0.0</td>\n",
       "      <td>5.0</td>\n",
       "      <td>0.00</td>\n",
       "      <td>9.0</td>\n",
       "    </tr>\n",
       "    <tr>\n",
       "      <th>2014-03-31 23:58:00-07:00</th>\n",
       "      <td>0.0</td>\n",
       "      <td>5.0</td>\n",
       "      <td>0.05</td>\n",
       "      <td>10.0</td>\n",
       "    </tr>\n",
       "    <tr>\n",
       "      <th>2014-03-31 23:59:00-07:00</th>\n",
       "      <td>0.0</td>\n",
       "      <td>5.0</td>\n",
       "      <td>0.05</td>\n",
       "      <td>10.0</td>\n",
       "    </tr>\n",
       "  </tbody>\n",
       "</table>\n",
       "<p>1051200 rows × 4 columns</p>\n",
       "</div>"
      ],
      "text/plain": [
       "physical_quantity          power          power factor    power\n",
       "type                      active reactive     apparent apparent\n",
       "TIMESTAMP                                                      \n",
       "2012-04-01 00:00:00-07:00    0.0      6.0         0.04     10.0\n",
       "2012-04-01 00:01:00-07:00    0.0      6.0         0.04     10.0\n",
       "2012-04-01 00:02:00-07:00    0.0      6.0         0.05     10.0\n",
       "2012-04-01 00:03:00-07:00    0.0      6.0         0.05     10.0\n",
       "2012-04-01 00:04:00-07:00    0.0      6.0         0.09     10.0\n",
       "...                          ...      ...          ...      ...\n",
       "2014-03-31 23:55:00-07:00    0.0      5.0         0.05     10.0\n",
       "2014-03-31 23:56:00-07:00    0.0      5.0         0.00     10.0\n",
       "2014-03-31 23:57:00-07:00    0.0      5.0         0.00      9.0\n",
       "2014-03-31 23:58:00-07:00    0.0      5.0         0.05     10.0\n",
       "2014-03-31 23:59:00-07:00    0.0      5.0         0.05     10.0\n",
       "\n",
       "[1051200 rows x 4 columns]"
      ]
     },
     "execution_count": 15,
     "metadata": {},
     "output_type": "execute_result"
    }
   ],
   "source": [
    "fridge_df"
   ]
  },
  {
   "cell_type": "code",
   "execution_count": 16,
   "metadata": {},
   "outputs": [
    {
     "name": "stdout",
     "output_type": "stream",
     "text": [
      "<class 'pandas.core.frame.DataFrame'>\n",
      "DatetimeIndex: 1051200 entries, 2012-04-01 00:00:00-07:00 to 2014-03-31 23:59:00-07:00\n",
      "Data columns (total 4 columns):\n",
      " #   Column                    Non-Null Count    Dtype  \n",
      "---  ------                    --------------    -----  \n",
      " 0   (power, active)           1051200 non-null  float32\n",
      " 1   (power, reactive)         1051200 non-null  float32\n",
      " 2   (power factor, apparent)  1051200 non-null  float32\n",
      " 3   (power, apparent)         1051200 non-null  float32\n",
      "dtypes: float32(4)\n",
      "memory usage: 24.1 MB\n"
     ]
    }
   ],
   "source": [
    "fridge_df.info()"
   ]
  },
  {
   "cell_type": "code",
   "execution_count": 17,
   "metadata": {},
   "outputs": [
    {
     "data": {
      "text/html": [
       "<div>\n",
       "<style scoped>\n",
       "    .dataframe tbody tr th:only-of-type {\n",
       "        vertical-align: middle;\n",
       "    }\n",
       "\n",
       "    .dataframe tbody tr th {\n",
       "        vertical-align: top;\n",
       "    }\n",
       "\n",
       "    .dataframe thead tr th {\n",
       "        text-align: left;\n",
       "    }\n",
       "\n",
       "    .dataframe thead tr:last-of-type th {\n",
       "        text-align: right;\n",
       "    }\n",
       "</style>\n",
       "<table border=\"1\" class=\"dataframe\">\n",
       "  <thead>\n",
       "    <tr>\n",
       "      <th>physical_quantity</th>\n",
       "      <th colspan=\"2\" halign=\"left\">power</th>\n",
       "      <th>power factor</th>\n",
       "      <th>power</th>\n",
       "    </tr>\n",
       "    <tr>\n",
       "      <th>type</th>\n",
       "      <th>active</th>\n",
       "      <th>reactive</th>\n",
       "      <th>apparent</th>\n",
       "      <th>apparent</th>\n",
       "    </tr>\n",
       "    <tr>\n",
       "      <th>TIMESTAMP</th>\n",
       "      <th></th>\n",
       "      <th></th>\n",
       "      <th></th>\n",
       "      <th></th>\n",
       "    </tr>\n",
       "  </thead>\n",
       "  <tbody>\n",
       "    <tr>\n",
       "      <th>2012-04-01 00:00:00-07:00</th>\n",
       "      <td>0.0</td>\n",
       "      <td>6.0</td>\n",
       "      <td>0.04</td>\n",
       "      <td>10.0</td>\n",
       "    </tr>\n",
       "    <tr>\n",
       "      <th>2012-04-01 00:01:00-07:00</th>\n",
       "      <td>0.0</td>\n",
       "      <td>6.0</td>\n",
       "      <td>0.04</td>\n",
       "      <td>10.0</td>\n",
       "    </tr>\n",
       "    <tr>\n",
       "      <th>2012-04-01 00:02:00-07:00</th>\n",
       "      <td>0.0</td>\n",
       "      <td>6.0</td>\n",
       "      <td>0.05</td>\n",
       "      <td>10.0</td>\n",
       "    </tr>\n",
       "    <tr>\n",
       "      <th>2012-04-01 00:03:00-07:00</th>\n",
       "      <td>0.0</td>\n",
       "      <td>6.0</td>\n",
       "      <td>0.05</td>\n",
       "      <td>10.0</td>\n",
       "    </tr>\n",
       "    <tr>\n",
       "      <th>2012-04-01 00:04:00-07:00</th>\n",
       "      <td>0.0</td>\n",
       "      <td>6.0</td>\n",
       "      <td>0.09</td>\n",
       "      <td>10.0</td>\n",
       "    </tr>\n",
       "    <tr>\n",
       "      <th>...</th>\n",
       "      <td>...</td>\n",
       "      <td>...</td>\n",
       "      <td>...</td>\n",
       "      <td>...</td>\n",
       "    </tr>\n",
       "    <tr>\n",
       "      <th>2014-03-31 23:55:00-07:00</th>\n",
       "      <td>0.0</td>\n",
       "      <td>5.0</td>\n",
       "      <td>0.05</td>\n",
       "      <td>10.0</td>\n",
       "    </tr>\n",
       "    <tr>\n",
       "      <th>2014-03-31 23:56:00-07:00</th>\n",
       "      <td>0.0</td>\n",
       "      <td>5.0</td>\n",
       "      <td>0.00</td>\n",
       "      <td>10.0</td>\n",
       "    </tr>\n",
       "    <tr>\n",
       "      <th>2014-03-31 23:57:00-07:00</th>\n",
       "      <td>0.0</td>\n",
       "      <td>5.0</td>\n",
       "      <td>0.00</td>\n",
       "      <td>9.0</td>\n",
       "    </tr>\n",
       "    <tr>\n",
       "      <th>2014-03-31 23:58:00-07:00</th>\n",
       "      <td>0.0</td>\n",
       "      <td>5.0</td>\n",
       "      <td>0.05</td>\n",
       "      <td>10.0</td>\n",
       "    </tr>\n",
       "    <tr>\n",
       "      <th>2014-03-31 23:59:00-07:00</th>\n",
       "      <td>0.0</td>\n",
       "      <td>5.0</td>\n",
       "      <td>0.05</td>\n",
       "      <td>10.0</td>\n",
       "    </tr>\n",
       "  </tbody>\n",
       "</table>\n",
       "<p>1051200 rows × 4 columns</p>\n",
       "</div>"
      ],
      "text/plain": [
       "physical_quantity          power          power factor    power\n",
       "type                      active reactive     apparent apparent\n",
       "TIMESTAMP                                                      \n",
       "2012-04-01 00:00:00-07:00    0.0      6.0         0.04     10.0\n",
       "2012-04-01 00:01:00-07:00    0.0      6.0         0.04     10.0\n",
       "2012-04-01 00:02:00-07:00    0.0      6.0         0.05     10.0\n",
       "2012-04-01 00:03:00-07:00    0.0      6.0         0.05     10.0\n",
       "2012-04-01 00:04:00-07:00    0.0      6.0         0.09     10.0\n",
       "...                          ...      ...          ...      ...\n",
       "2014-03-31 23:55:00-07:00    0.0      5.0         0.05     10.0\n",
       "2014-03-31 23:56:00-07:00    0.0      5.0         0.00     10.0\n",
       "2014-03-31 23:57:00-07:00    0.0      5.0         0.00      9.0\n",
       "2014-03-31 23:58:00-07:00    0.0      5.0         0.05     10.0\n",
       "2014-03-31 23:59:00-07:00    0.0      5.0         0.05     10.0\n",
       "\n",
       "[1051200 rows x 4 columns]"
      ]
     },
     "execution_count": 17,
     "metadata": {},
     "output_type": "execute_result"
    }
   ],
   "source": [
    "fridge_df"
   ]
  },
  {
   "cell_type": "code",
   "execution_count": 18,
   "metadata": {},
   "outputs": [
    {
     "data": {
      "text/html": [
       "<div>\n",
       "<style scoped>\n",
       "    .dataframe tbody tr th:only-of-type {\n",
       "        vertical-align: middle;\n",
       "    }\n",
       "\n",
       "    .dataframe tbody tr th {\n",
       "        vertical-align: top;\n",
       "    }\n",
       "\n",
       "    .dataframe thead tr th {\n",
       "        text-align: left;\n",
       "    }\n",
       "</style>\n",
       "<table border=\"1\" class=\"dataframe\">\n",
       "  <thead>\n",
       "    <tr>\n",
       "      <th>physical_quantity</th>\n",
       "      <th>TIMESTAMP</th>\n",
       "      <th colspan=\"2\" halign=\"left\">power</th>\n",
       "      <th>power factor</th>\n",
       "      <th>power</th>\n",
       "    </tr>\n",
       "    <tr>\n",
       "      <th>type</th>\n",
       "      <th></th>\n",
       "      <th>active</th>\n",
       "      <th>reactive</th>\n",
       "      <th>apparent</th>\n",
       "      <th>apparent</th>\n",
       "    </tr>\n",
       "  </thead>\n",
       "  <tbody>\n",
       "    <tr>\n",
       "      <th>0</th>\n",
       "      <td>2012-04-01 00:00:00-07:00</td>\n",
       "      <td>0.0</td>\n",
       "      <td>6.0</td>\n",
       "      <td>0.04</td>\n",
       "      <td>10.0</td>\n",
       "    </tr>\n",
       "    <tr>\n",
       "      <th>1</th>\n",
       "      <td>2012-04-01 00:01:00-07:00</td>\n",
       "      <td>0.0</td>\n",
       "      <td>6.0</td>\n",
       "      <td>0.04</td>\n",
       "      <td>10.0</td>\n",
       "    </tr>\n",
       "    <tr>\n",
       "      <th>2</th>\n",
       "      <td>2012-04-01 00:02:00-07:00</td>\n",
       "      <td>0.0</td>\n",
       "      <td>6.0</td>\n",
       "      <td>0.05</td>\n",
       "      <td>10.0</td>\n",
       "    </tr>\n",
       "    <tr>\n",
       "      <th>3</th>\n",
       "      <td>2012-04-01 00:03:00-07:00</td>\n",
       "      <td>0.0</td>\n",
       "      <td>6.0</td>\n",
       "      <td>0.05</td>\n",
       "      <td>10.0</td>\n",
       "    </tr>\n",
       "    <tr>\n",
       "      <th>4</th>\n",
       "      <td>2012-04-01 00:04:00-07:00</td>\n",
       "      <td>0.0</td>\n",
       "      <td>6.0</td>\n",
       "      <td>0.09</td>\n",
       "      <td>10.0</td>\n",
       "    </tr>\n",
       "    <tr>\n",
       "      <th>...</th>\n",
       "      <td>...</td>\n",
       "      <td>...</td>\n",
       "      <td>...</td>\n",
       "      <td>...</td>\n",
       "      <td>...</td>\n",
       "    </tr>\n",
       "    <tr>\n",
       "      <th>1051195</th>\n",
       "      <td>2014-03-31 23:55:00-07:00</td>\n",
       "      <td>0.0</td>\n",
       "      <td>5.0</td>\n",
       "      <td>0.05</td>\n",
       "      <td>10.0</td>\n",
       "    </tr>\n",
       "    <tr>\n",
       "      <th>1051196</th>\n",
       "      <td>2014-03-31 23:56:00-07:00</td>\n",
       "      <td>0.0</td>\n",
       "      <td>5.0</td>\n",
       "      <td>0.00</td>\n",
       "      <td>10.0</td>\n",
       "    </tr>\n",
       "    <tr>\n",
       "      <th>1051197</th>\n",
       "      <td>2014-03-31 23:57:00-07:00</td>\n",
       "      <td>0.0</td>\n",
       "      <td>5.0</td>\n",
       "      <td>0.00</td>\n",
       "      <td>9.0</td>\n",
       "    </tr>\n",
       "    <tr>\n",
       "      <th>1051198</th>\n",
       "      <td>2014-03-31 23:58:00-07:00</td>\n",
       "      <td>0.0</td>\n",
       "      <td>5.0</td>\n",
       "      <td>0.05</td>\n",
       "      <td>10.0</td>\n",
       "    </tr>\n",
       "    <tr>\n",
       "      <th>1051199</th>\n",
       "      <td>2014-03-31 23:59:00-07:00</td>\n",
       "      <td>0.0</td>\n",
       "      <td>5.0</td>\n",
       "      <td>0.05</td>\n",
       "      <td>10.0</td>\n",
       "    </tr>\n",
       "  </tbody>\n",
       "</table>\n",
       "<p>1051200 rows × 5 columns</p>\n",
       "</div>"
      ],
      "text/plain": [
       "physical_quantity                 TIMESTAMP  power          power factor  \\\n",
       "type                                        active reactive     apparent   \n",
       "0                 2012-04-01 00:00:00-07:00    0.0      6.0         0.04   \n",
       "1                 2012-04-01 00:01:00-07:00    0.0      6.0         0.04   \n",
       "2                 2012-04-01 00:02:00-07:00    0.0      6.0         0.05   \n",
       "3                 2012-04-01 00:03:00-07:00    0.0      6.0         0.05   \n",
       "4                 2012-04-01 00:04:00-07:00    0.0      6.0         0.09   \n",
       "...                                     ...    ...      ...          ...   \n",
       "1051195           2014-03-31 23:55:00-07:00    0.0      5.0         0.05   \n",
       "1051196           2014-03-31 23:56:00-07:00    0.0      5.0         0.00   \n",
       "1051197           2014-03-31 23:57:00-07:00    0.0      5.0         0.00   \n",
       "1051198           2014-03-31 23:58:00-07:00    0.0      5.0         0.05   \n",
       "1051199           2014-03-31 23:59:00-07:00    0.0      5.0         0.05   \n",
       "\n",
       "physical_quantity    power  \n",
       "type              apparent  \n",
       "0                     10.0  \n",
       "1                     10.0  \n",
       "2                     10.0  \n",
       "3                     10.0  \n",
       "4                     10.0  \n",
       "...                    ...  \n",
       "1051195               10.0  \n",
       "1051196               10.0  \n",
       "1051197                9.0  \n",
       "1051198               10.0  \n",
       "1051199               10.0  \n",
       "\n",
       "[1051200 rows x 5 columns]"
      ]
     },
     "execution_count": 18,
     "metadata": {},
     "output_type": "execute_result"
    }
   ],
   "source": [
    "fridge_df.reset_index()"
   ]
  },
  {
   "cell_type": "code",
   "execution_count": 19,
   "metadata": {},
   "outputs": [],
   "source": [
    "fridge_df.columns = ['_'.join(col).strip() for col in fridge_df.columns.values]"
   ]
  },
  {
   "cell_type": "code",
   "execution_count": 20,
   "metadata": {},
   "outputs": [
    {
     "data": {
      "text/html": [
       "<div>\n",
       "<style scoped>\n",
       "    .dataframe tbody tr th:only-of-type {\n",
       "        vertical-align: middle;\n",
       "    }\n",
       "\n",
       "    .dataframe tbody tr th {\n",
       "        vertical-align: top;\n",
       "    }\n",
       "\n",
       "    .dataframe thead th {\n",
       "        text-align: right;\n",
       "    }\n",
       "</style>\n",
       "<table border=\"1\" class=\"dataframe\">\n",
       "  <thead>\n",
       "    <tr style=\"text-align: right;\">\n",
       "      <th></th>\n",
       "      <th>TIMESTAMP</th>\n",
       "      <th>power_active</th>\n",
       "      <th>power_reactive</th>\n",
       "      <th>power factor_apparent</th>\n",
       "      <th>power_apparent</th>\n",
       "    </tr>\n",
       "  </thead>\n",
       "  <tbody>\n",
       "    <tr>\n",
       "      <th>0</th>\n",
       "      <td>2012-04-01 00:00:00-07:00</td>\n",
       "      <td>0.0</td>\n",
       "      <td>6.0</td>\n",
       "      <td>0.04</td>\n",
       "      <td>10.0</td>\n",
       "    </tr>\n",
       "    <tr>\n",
       "      <th>1</th>\n",
       "      <td>2012-04-01 00:01:00-07:00</td>\n",
       "      <td>0.0</td>\n",
       "      <td>6.0</td>\n",
       "      <td>0.04</td>\n",
       "      <td>10.0</td>\n",
       "    </tr>\n",
       "    <tr>\n",
       "      <th>2</th>\n",
       "      <td>2012-04-01 00:02:00-07:00</td>\n",
       "      <td>0.0</td>\n",
       "      <td>6.0</td>\n",
       "      <td>0.05</td>\n",
       "      <td>10.0</td>\n",
       "    </tr>\n",
       "    <tr>\n",
       "      <th>3</th>\n",
       "      <td>2012-04-01 00:03:00-07:00</td>\n",
       "      <td>0.0</td>\n",
       "      <td>6.0</td>\n",
       "      <td>0.05</td>\n",
       "      <td>10.0</td>\n",
       "    </tr>\n",
       "    <tr>\n",
       "      <th>4</th>\n",
       "      <td>2012-04-01 00:04:00-07:00</td>\n",
       "      <td>0.0</td>\n",
       "      <td>6.0</td>\n",
       "      <td>0.09</td>\n",
       "      <td>10.0</td>\n",
       "    </tr>\n",
       "    <tr>\n",
       "      <th>...</th>\n",
       "      <td>...</td>\n",
       "      <td>...</td>\n",
       "      <td>...</td>\n",
       "      <td>...</td>\n",
       "      <td>...</td>\n",
       "    </tr>\n",
       "    <tr>\n",
       "      <th>1051195</th>\n",
       "      <td>2014-03-31 23:55:00-07:00</td>\n",
       "      <td>0.0</td>\n",
       "      <td>5.0</td>\n",
       "      <td>0.05</td>\n",
       "      <td>10.0</td>\n",
       "    </tr>\n",
       "    <tr>\n",
       "      <th>1051196</th>\n",
       "      <td>2014-03-31 23:56:00-07:00</td>\n",
       "      <td>0.0</td>\n",
       "      <td>5.0</td>\n",
       "      <td>0.00</td>\n",
       "      <td>10.0</td>\n",
       "    </tr>\n",
       "    <tr>\n",
       "      <th>1051197</th>\n",
       "      <td>2014-03-31 23:57:00-07:00</td>\n",
       "      <td>0.0</td>\n",
       "      <td>5.0</td>\n",
       "      <td>0.00</td>\n",
       "      <td>9.0</td>\n",
       "    </tr>\n",
       "    <tr>\n",
       "      <th>1051198</th>\n",
       "      <td>2014-03-31 23:58:00-07:00</td>\n",
       "      <td>0.0</td>\n",
       "      <td>5.0</td>\n",
       "      <td>0.05</td>\n",
       "      <td>10.0</td>\n",
       "    </tr>\n",
       "    <tr>\n",
       "      <th>1051199</th>\n",
       "      <td>2014-03-31 23:59:00-07:00</td>\n",
       "      <td>0.0</td>\n",
       "      <td>5.0</td>\n",
       "      <td>0.05</td>\n",
       "      <td>10.0</td>\n",
       "    </tr>\n",
       "  </tbody>\n",
       "</table>\n",
       "<p>1051200 rows × 5 columns</p>\n",
       "</div>"
      ],
      "text/plain": [
       "                        TIMESTAMP  power_active  power_reactive  \\\n",
       "0       2012-04-01 00:00:00-07:00           0.0             6.0   \n",
       "1       2012-04-01 00:01:00-07:00           0.0             6.0   \n",
       "2       2012-04-01 00:02:00-07:00           0.0             6.0   \n",
       "3       2012-04-01 00:03:00-07:00           0.0             6.0   \n",
       "4       2012-04-01 00:04:00-07:00           0.0             6.0   \n",
       "...                           ...           ...             ...   \n",
       "1051195 2014-03-31 23:55:00-07:00           0.0             5.0   \n",
       "1051196 2014-03-31 23:56:00-07:00           0.0             5.0   \n",
       "1051197 2014-03-31 23:57:00-07:00           0.0             5.0   \n",
       "1051198 2014-03-31 23:58:00-07:00           0.0             5.0   \n",
       "1051199 2014-03-31 23:59:00-07:00           0.0             5.0   \n",
       "\n",
       "         power factor_apparent  power_apparent  \n",
       "0                         0.04            10.0  \n",
       "1                         0.04            10.0  \n",
       "2                         0.05            10.0  \n",
       "3                         0.05            10.0  \n",
       "4                         0.09            10.0  \n",
       "...                        ...             ...  \n",
       "1051195                   0.05            10.0  \n",
       "1051196                   0.00            10.0  \n",
       "1051197                   0.00             9.0  \n",
       "1051198                   0.05            10.0  \n",
       "1051199                   0.05            10.0  \n",
       "\n",
       "[1051200 rows x 5 columns]"
      ]
     },
     "execution_count": 20,
     "metadata": {},
     "output_type": "execute_result"
    }
   ],
   "source": [
    "fridge_df.reset_index()"
   ]
  },
  {
   "cell_type": "code",
   "execution_count": 21,
   "metadata": {},
   "outputs": [
    {
     "data": {
      "text/html": [
       "<div>\n",
       "<style scoped>\n",
       "    .dataframe tbody tr th:only-of-type {\n",
       "        vertical-align: middle;\n",
       "    }\n",
       "\n",
       "    .dataframe tbody tr th {\n",
       "        vertical-align: top;\n",
       "    }\n",
       "\n",
       "    .dataframe thead th {\n",
       "        text-align: right;\n",
       "    }\n",
       "</style>\n",
       "<table border=\"1\" class=\"dataframe\">\n",
       "  <thead>\n",
       "    <tr style=\"text-align: right;\">\n",
       "      <th></th>\n",
       "      <th>power_active</th>\n",
       "      <th>power_reactive</th>\n",
       "      <th>power factor_apparent</th>\n",
       "      <th>power_apparent</th>\n",
       "    </tr>\n",
       "    <tr>\n",
       "      <th>TIMESTAMP</th>\n",
       "      <th></th>\n",
       "      <th></th>\n",
       "      <th></th>\n",
       "      <th></th>\n",
       "    </tr>\n",
       "  </thead>\n",
       "  <tbody>\n",
       "    <tr>\n",
       "      <th>2012-04-01 00:00:00-07:00</th>\n",
       "      <td>0.0</td>\n",
       "      <td>6.0</td>\n",
       "      <td>0.04</td>\n",
       "      <td>10.0</td>\n",
       "    </tr>\n",
       "    <tr>\n",
       "      <th>2012-04-01 00:01:00-07:00</th>\n",
       "      <td>0.0</td>\n",
       "      <td>6.0</td>\n",
       "      <td>0.04</td>\n",
       "      <td>10.0</td>\n",
       "    </tr>\n",
       "    <tr>\n",
       "      <th>2012-04-01 00:02:00-07:00</th>\n",
       "      <td>0.0</td>\n",
       "      <td>6.0</td>\n",
       "      <td>0.05</td>\n",
       "      <td>10.0</td>\n",
       "    </tr>\n",
       "    <tr>\n",
       "      <th>2012-04-01 00:03:00-07:00</th>\n",
       "      <td>0.0</td>\n",
       "      <td>6.0</td>\n",
       "      <td>0.05</td>\n",
       "      <td>10.0</td>\n",
       "    </tr>\n",
       "    <tr>\n",
       "      <th>2012-04-01 00:04:00-07:00</th>\n",
       "      <td>0.0</td>\n",
       "      <td>6.0</td>\n",
       "      <td>0.09</td>\n",
       "      <td>10.0</td>\n",
       "    </tr>\n",
       "    <tr>\n",
       "      <th>...</th>\n",
       "      <td>...</td>\n",
       "      <td>...</td>\n",
       "      <td>...</td>\n",
       "      <td>...</td>\n",
       "    </tr>\n",
       "    <tr>\n",
       "      <th>2014-03-31 23:55:00-07:00</th>\n",
       "      <td>0.0</td>\n",
       "      <td>5.0</td>\n",
       "      <td>0.05</td>\n",
       "      <td>10.0</td>\n",
       "    </tr>\n",
       "    <tr>\n",
       "      <th>2014-03-31 23:56:00-07:00</th>\n",
       "      <td>0.0</td>\n",
       "      <td>5.0</td>\n",
       "      <td>0.00</td>\n",
       "      <td>10.0</td>\n",
       "    </tr>\n",
       "    <tr>\n",
       "      <th>2014-03-31 23:57:00-07:00</th>\n",
       "      <td>0.0</td>\n",
       "      <td>5.0</td>\n",
       "      <td>0.00</td>\n",
       "      <td>9.0</td>\n",
       "    </tr>\n",
       "    <tr>\n",
       "      <th>2014-03-31 23:58:00-07:00</th>\n",
       "      <td>0.0</td>\n",
       "      <td>5.0</td>\n",
       "      <td>0.05</td>\n",
       "      <td>10.0</td>\n",
       "    </tr>\n",
       "    <tr>\n",
       "      <th>2014-03-31 23:59:00-07:00</th>\n",
       "      <td>0.0</td>\n",
       "      <td>5.0</td>\n",
       "      <td>0.05</td>\n",
       "      <td>10.0</td>\n",
       "    </tr>\n",
       "  </tbody>\n",
       "</table>\n",
       "<p>1051200 rows × 4 columns</p>\n",
       "</div>"
      ],
      "text/plain": [
       "                           power_active  power_reactive  \\\n",
       "TIMESTAMP                                                 \n",
       "2012-04-01 00:00:00-07:00           0.0             6.0   \n",
       "2012-04-01 00:01:00-07:00           0.0             6.0   \n",
       "2012-04-01 00:02:00-07:00           0.0             6.0   \n",
       "2012-04-01 00:03:00-07:00           0.0             6.0   \n",
       "2012-04-01 00:04:00-07:00           0.0             6.0   \n",
       "...                                 ...             ...   \n",
       "2014-03-31 23:55:00-07:00           0.0             5.0   \n",
       "2014-03-31 23:56:00-07:00           0.0             5.0   \n",
       "2014-03-31 23:57:00-07:00           0.0             5.0   \n",
       "2014-03-31 23:58:00-07:00           0.0             5.0   \n",
       "2014-03-31 23:59:00-07:00           0.0             5.0   \n",
       "\n",
       "                           power factor_apparent  power_apparent  \n",
       "TIMESTAMP                                                         \n",
       "2012-04-01 00:00:00-07:00                   0.04            10.0  \n",
       "2012-04-01 00:01:00-07:00                   0.04            10.0  \n",
       "2012-04-01 00:02:00-07:00                   0.05            10.0  \n",
       "2012-04-01 00:03:00-07:00                   0.05            10.0  \n",
       "2012-04-01 00:04:00-07:00                   0.09            10.0  \n",
       "...                                          ...             ...  \n",
       "2014-03-31 23:55:00-07:00                   0.05            10.0  \n",
       "2014-03-31 23:56:00-07:00                   0.00            10.0  \n",
       "2014-03-31 23:57:00-07:00                   0.00             9.0  \n",
       "2014-03-31 23:58:00-07:00                   0.05            10.0  \n",
       "2014-03-31 23:59:00-07:00                   0.05            10.0  \n",
       "\n",
       "[1051200 rows x 4 columns]"
      ]
     },
     "execution_count": 21,
     "metadata": {},
     "output_type": "execute_result"
    }
   ],
   "source": [
    "fridge_df"
   ]
  },
  {
   "cell_type": "code",
   "execution_count": 22,
   "metadata": {},
   "outputs": [
    {
     "data": {
      "text/plain": [
       "[Appliance(type='light', instance=1)]"
      ]
     },
     "execution_count": 22,
     "metadata": {},
     "output_type": "execute_result"
    }
   ],
   "source": [
    "elec[2].appliances"
   ]
  },
  {
   "cell_type": "code",
   "execution_count": 23,
   "metadata": {},
   "outputs": [
    {
     "data": {
      "text/plain": [
       "{'parent': 'appliance',\n",
       " 'min_on_duration': 20,\n",
       " 'min_off_duration': 20,\n",
       " 'type': 'light',\n",
       " 'n_ancestors': 1,\n",
       " 'description': \"We distinguish between the 'luminaire' (light fitting) and the\\nelectric lamp(s) within the light fitting.\\n\\nSee:\\n  - https://en.wikipedia.org/wiki/Luminaire \\n  - https://en.wikipedia.org/wiki/Lamp_%28electrical_component%29\\n\\nThe light appliance takes its category from the lamp type fitted.\\n\",\n",
       " 'categories': {'electrical': ['lighting']},\n",
       " 'synonyms': ['luminaire', 'light fitting'],\n",
       " 'usual_components': ['dimmer', 'lamp'],\n",
       " 'additional_properties': {'main_room_light': {'type': 'boolean'}},\n",
       " 'subtypes': ['ceiling pendant',\n",
       "  'ceiling downlight',\n",
       "  'desk',\n",
       "  'wall',\n",
       "  'table',\n",
       "  'floor standing',\n",
       "  'floor level',\n",
       "  'decorative',\n",
       "  'night light',\n",
       "  'signage',\n",
       "  'outdoor',\n",
       "  'mood'],\n",
       " 'control': ['manual', 'timer']}"
      ]
     },
     "execution_count": 23,
     "metadata": {},
     "output_type": "execute_result"
    }
   ],
   "source": [
    "elec[2].appliances[0].type"
   ]
  },
  {
   "cell_type": "code",
   "execution_count": 24,
   "metadata": {},
   "outputs": [
    {
     "data": {
      "text/plain": [
       "Appliance(type='light', instance=2)"
      ]
     },
     "execution_count": 24,
     "metadata": {},
     "output_type": "execute_result"
    }
   ],
   "source": [
    "elec[3].appliances[0]"
   ]
  },
  {
   "cell_type": "code",
   "execution_count": 25,
   "metadata": {},
   "outputs": [
    {
     "data": {
      "text/plain": [
       "'light'"
      ]
     },
     "execution_count": 25,
     "metadata": {},
     "output_type": "execute_result"
    }
   ],
   "source": [
    "elec[3].appliances[0].identifier.type"
   ]
  },
  {
   "cell_type": "code",
   "execution_count": 26,
   "metadata": {},
   "outputs": [
    {
     "data": {
      "text/plain": [
       "2"
      ]
     },
     "execution_count": 26,
     "metadata": {},
     "output_type": "execute_result"
    }
   ],
   "source": [
    "elec[3].appliances[0].identifier.instance"
   ]
  },
  {
   "cell_type": "markdown",
   "metadata": {},
   "source": [
    "## check row"
   ]
  },
  {
   "cell_type": "code",
   "execution_count": 27,
   "metadata": {},
   "outputs": [
    {
     "data": {
      "text/plain": [
       "[ElecMeter(instance=1, building=1, dataset='AMPds', site_meter, appliances=[]),\n",
       " ElecMeter(instance=2, building=1, dataset='AMPds', appliances=[Appliance(type='light', instance=1)]),\n",
       " ElecMeter(instance=3, building=1, dataset='AMPds', appliances=[Appliance(type='light', instance=2)]),\n",
       " ElecMeter(instance=4, building=1, dataset='AMPds', appliances=[Appliance(type='light', instance=3)]),\n",
       " ElecMeter(instance=5, building=1, dataset='AMPds', appliances=[Appliance(type='unknown', instance=1)]),\n",
       " ElecMeter(instance=6, building=1, dataset='AMPds', appliances=[Appliance(type='unknown', instance=2)]),\n",
       " ElecMeter(instance=7, building=1, dataset='AMPds', appliances=[Appliance(type='sockets', instance=1)]),\n",
       " ElecMeter(instance=8, building=1, dataset='AMPds', appliances=[Appliance(type='unknown', instance=3)]),\n",
       " ElecMeter(instance=9, building=1, dataset='AMPds', appliances=[Appliance(type='unknown', instance=4)]),\n",
       " ElecMeter(instance=10, building=1, dataset='AMPds', appliances=[Appliance(type='unknown', instance=5)]),\n",
       " ElecMeter(instance=11, building=1, dataset='AMPds', appliances=[Appliance(type='fridge', instance=1)]),\n",
       " ElecMeter(instance=12, building=1, dataset='AMPds', appliances=[Appliance(type='unknown', instance=6)]),\n",
       " ElecMeter(instance=13, building=1, dataset='AMPds', appliances=[Appliance(type='unknown', instance=7)]),\n",
       " ElecMeter(instance=14, building=1, dataset='AMPds', appliances=[Appliance(type='heat pump', instance=1)]),\n",
       " ElecMeter(instance=15, building=1, dataset='AMPds', appliances=[Appliance(type='unknown', instance=8)]),\n",
       " ElecMeter(instance=16, building=1, dataset='AMPds', appliances=[Appliance(type='light', instance=4)]),\n",
       " ElecMeter(instance=17, building=1, dataset='AMPds', appliances=[Appliance(type='sockets', instance=2)]),\n",
       " ElecMeter(instance=18, building=1, dataset='AMPds', appliances=[Appliance(type='unknown', instance=9)]),\n",
       " ElecMeter(instance=19, building=1, dataset='AMPds', appliances=[Appliance(type='television', instance=1)]),\n",
       " ElecMeter(instance=20, building=1, dataset='AMPds', appliances=[Appliance(type='sockets', instance=3)]),\n",
       " ElecMeter(instance=21, building=1, dataset='AMPds', appliances=[Appliance(type='electric oven', instance=1)])]"
      ]
     },
     "execution_count": 27,
     "metadata": {},
     "output_type": "execute_result"
    }
   ],
   "source": [
    "meters = elec.meters\n",
    "meters"
   ]
  },
  {
   "cell_type": "code",
   "execution_count": 28,
   "metadata": {},
   "outputs": [
    {
     "name": "stdout",
     "output_type": "stream",
     "text": [
      "main 1\n",
      "1051200\n",
      "light 1\n",
      "1051200\n",
      "light 2\n",
      "1051200\n",
      "light 3\n",
      "1051200\n",
      "unknown 1\n",
      "1051200\n",
      "unknown 2\n",
      "1051200\n",
      "sockets 1\n",
      "1051200\n",
      "unknown 3\n",
      "1051200\n",
      "unknown 4\n",
      "1051200\n",
      "unknown 5\n",
      "1051200\n",
      "fridge 1\n",
      "1051200\n",
      "unknown 6\n",
      "1051200\n",
      "unknown 7\n",
      "1051200\n",
      "heat pump 1\n",
      "1051200\n",
      "unknown 8\n",
      "1051200\n",
      "light 4\n",
      "1051200\n",
      "sockets 2\n",
      "1051200\n",
      "unknown 9\n",
      "1051200\n",
      "television 1\n",
      "1051200\n",
      "sockets 3\n",
      "1051200\n",
      "electric oven 1\n",
      "1051200\n"
     ]
    }
   ],
   "source": [
    "for meter in meters:\n",
    "    \n",
    "    # get appliance name/id\n",
    "    # handle main error\n",
    "    main_id = 1\n",
    "    try:\n",
    "        appliance_name = meter.appliances[0].identifier.type\n",
    "        appliance_id = meter.appliances[0].identifier.instance\n",
    "    except:\n",
    "        appliance_name = \"main\"\n",
    "        appliance_id = main_id\n",
    "        main_id += 1\n",
    "        \n",
    "    print(f\"{appliance_name} {appliance_id}\")\n",
    "    \n",
    "    # get data frame\n",
    "    df = next(meter.load())\n",
    "    print(len(df))\n",
    "    "
   ]
  },
  {
   "cell_type": "code",
   "execution_count": 29,
   "metadata": {},
   "outputs": [
    {
     "name": "stdout",
     "output_type": "stream",
     "text": [
      "21/21 ElecMeter(instance=21, building=1, dataset='AMPds', appliances=[Appliance(type='electric oven', instance=1)])"
     ]
    },
    {
     "data": {
      "text/plain": [
       "MeterGroup(meters=\n",
       "  ElecMeter(instance=8, building=1, dataset='AMPds', appliances=[Appliance(type='unknown', instance=3)])\n",
       "  ElecMeter(instance=1, building=1, dataset='AMPds', site_meter, appliances=[])\n",
       "  ElecMeter(instance=9, building=1, dataset='AMPds', appliances=[Appliance(type='unknown', instance=4)])\n",
       "  ElecMeter(instance=21, building=1, dataset='AMPds', appliances=[Appliance(type='electric oven', instance=1)])\n",
       "  ElecMeter(instance=20, building=1, dataset='AMPds', appliances=[Appliance(type='sockets', instance=3)])\n",
       "  ElecMeter(instance=10, building=1, dataset='AMPds', appliances=[Appliance(type='unknown', instance=5)])\n",
       "  ElecMeter(instance=11, building=1, dataset='AMPds', appliances=[Appliance(type='fridge', instance=1)])\n",
       "  ElecMeter(instance=17, building=1, dataset='AMPds', appliances=[Appliance(type='sockets', instance=2)])\n",
       "  ElecMeter(instance=19, building=1, dataset='AMPds', appliances=[Appliance(type='television', instance=1)])\n",
       "  ElecMeter(instance=7, building=1, dataset='AMPds', appliances=[Appliance(type='sockets', instance=1)])\n",
       "  ElecMeter(instance=13, building=1, dataset='AMPds', appliances=[Appliance(type='unknown', instance=7)])\n",
       "  ElecMeter(instance=6, building=1, dataset='AMPds', appliances=[Appliance(type='unknown', instance=2)])\n",
       "  ElecMeter(instance=3, building=1, dataset='AMPds', appliances=[Appliance(type='light', instance=2)])\n",
       "  ElecMeter(instance=15, building=1, dataset='AMPds', appliances=[Appliance(type='unknown', instance=8)])\n",
       "  ElecMeter(instance=16, building=1, dataset='AMPds', appliances=[Appliance(type='light', instance=4)])\n",
       "  ElecMeter(instance=4, building=1, dataset='AMPds', appliances=[Appliance(type='light', instance=3)])\n",
       "  ElecMeter(instance=5, building=1, dataset='AMPds', appliances=[Appliance(type='unknown', instance=1)])\n",
       "  ElecMeter(instance=18, building=1, dataset='AMPds', appliances=[Appliance(type='unknown', instance=9)])\n",
       "  ElecMeter(instance=12, building=1, dataset='AMPds', appliances=[Appliance(type='unknown', instance=6)])\n",
       "  ElecMeter(instance=2, building=1, dataset='AMPds', appliances=[Appliance(type='light', instance=1)])\n",
       "  ElecMeter(instance=14, building=1, dataset='AMPds', appliances=[Appliance(type='heat pump', instance=1)])\n",
       ")"
      ]
     },
     "execution_count": 29,
     "metadata": {},
     "output_type": "execute_result"
    }
   ],
   "source": [
    "elec.select_top_k(k=21)"
   ]
  },
  {
   "cell_type": "code",
   "execution_count": 36,
   "metadata": {},
   "outputs": [
    {
     "name": "stdout",
     "output_type": "stream",
     "text": [
      "21/21 ElecMeter(instance=21, building=1, dataset='AMPds', appliances=[Appliance(type='electric oven', instance=1)])"
     ]
    },
    {
     "data": {
      "text/plain": [
       "MeterGroup(meters=\n",
       "  ElecMeter(instance=8, building=1, dataset='AMPds', appliances=[Appliance(type='unknown', instance=3)])\n",
       "  ElecMeter(instance=1, building=1, dataset='AMPds', site_meter, appliances=[])\n",
       "  ElecMeter(instance=9, building=1, dataset='AMPds', appliances=[Appliance(type='unknown', instance=4)])\n",
       "  ElecMeter(instance=21, building=1, dataset='AMPds', appliances=[Appliance(type='electric oven', instance=1)])\n",
       "  ElecMeter(instance=20, building=1, dataset='AMPds', appliances=[Appliance(type='sockets', instance=3)])\n",
       "  ElecMeter(instance=10, building=1, dataset='AMPds', appliances=[Appliance(type='unknown', instance=5)])\n",
       "  ElecMeter(instance=11, building=1, dataset='AMPds', appliances=[Appliance(type='fridge', instance=1)])\n",
       "  ElecMeter(instance=17, building=1, dataset='AMPds', appliances=[Appliance(type='sockets', instance=2)])\n",
       "  ElecMeter(instance=19, building=1, dataset='AMPds', appliances=[Appliance(type='television', instance=1)])\n",
       "  ElecMeter(instance=7, building=1, dataset='AMPds', appliances=[Appliance(type='sockets', instance=1)])\n",
       "  ElecMeter(instance=13, building=1, dataset='AMPds', appliances=[Appliance(type='unknown', instance=7)])\n",
       "  ElecMeter(instance=6, building=1, dataset='AMPds', appliances=[Appliance(type='unknown', instance=2)])\n",
       "  ElecMeter(instance=3, building=1, dataset='AMPds', appliances=[Appliance(type='light', instance=2)])\n",
       "  ElecMeter(instance=15, building=1, dataset='AMPds', appliances=[Appliance(type='unknown', instance=8)])\n",
       "  ElecMeter(instance=16, building=1, dataset='AMPds', appliances=[Appliance(type='light', instance=4)])\n",
       "  ElecMeter(instance=4, building=1, dataset='AMPds', appliances=[Appliance(type='light', instance=3)])\n",
       "  ElecMeter(instance=5, building=1, dataset='AMPds', appliances=[Appliance(type='unknown', instance=1)])\n",
       "  ElecMeter(instance=18, building=1, dataset='AMPds', appliances=[Appliance(type='unknown', instance=9)])\n",
       "  ElecMeter(instance=12, building=1, dataset='AMPds', appliances=[Appliance(type='unknown', instance=6)])\n",
       "  ElecMeter(instance=2, building=1, dataset='AMPds', appliances=[Appliance(type='light', instance=1)])\n",
       "  ElecMeter(instance=14, building=1, dataset='AMPds', appliances=[Appliance(type='heat pump', instance=1)])\n",
       ")"
      ]
     },
     "execution_count": 36,
     "metadata": {},
     "output_type": "execute_result"
    }
   ],
   "source": [
    "elec.select_top_k(k=21)"
   ]
  },
  {
   "cell_type": "code",
   "execution_count": null,
   "metadata": {},
   "outputs": [],
   "source": []
  }
 ],
 "metadata": {
  "kernelspec": {
   "display_name": "Python 3",
   "language": "python",
   "name": "python3"
  },
  "language_info": {
   "codemirror_mode": {
    "name": "ipython",
    "version": 3
   },
   "file_extension": ".py",
   "mimetype": "text/x-python",
   "name": "python",
   "nbconvert_exporter": "python",
   "pygments_lexer": "ipython3",
   "version": "3.8.3"
  }
 },
 "nbformat": 4,
 "nbformat_minor": 4
}
