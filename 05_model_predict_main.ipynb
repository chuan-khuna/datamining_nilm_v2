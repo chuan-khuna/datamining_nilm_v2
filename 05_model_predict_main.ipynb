{
 "cells": [
  {
   "cell_type": "code",
   "execution_count": 1,
   "metadata": {
    "execution": {
     "iopub.execute_input": "2020-07-28T03:48:46.056058Z",
     "iopub.status.busy": "2020-07-28T03:48:46.056058Z",
     "iopub.status.idle": "2020-07-28T03:48:49.491877Z",
     "shell.execute_reply": "2020-07-28T03:48:49.491877Z",
     "shell.execute_reply.started": "2020-07-28T03:48:46.056058Z"
    }
   },
   "outputs": [],
   "source": [
    "import numpy as np\n",
    "import pandas as pd\n",
    "import seaborn as sns\n",
    "import matplotlib.pyplot as plt\n",
    "import datetime as dt\n",
    "\n",
    "sns.set(context=\"paper\", style=\"whitegrid\", \n",
    "       rc={\n",
    "           \"figure.figsize\": (8, 5),\n",
    "           \"figure.dpi\": 100\n",
    "       })\n",
    "google = [\"#4285F4\", \"#DB4437\", \"#F4B400\", \"#0F9D58\"]\n",
    "\n",
    "sns.set_palette(google)\n",
    "\n",
    "from preprocess_lib import preprocess_df, preprocess_timeseries\n",
    "\n",
    "seed_ = 20200218\n",
    "np.random.seed(seed_)\n",
    "\n",
    "import tensorflow as tf\n",
    "import keras\n",
    "from keras.models import Sequential\n",
    "from keras.layers import Dense, LSTM, Lambda, Conv1D\n",
    "from keras.optimizers import *\n",
    "tf.random.set_seed(seed_)\n",
    "# physical_devices = tf.config.list_physical_devices('GPU')\n",
    "# tf.config.experimental.set_memory_growth(physical_devices[0], enable=True)"
   ]
  },
  {
   "cell_type": "markdown",
   "metadata": {},
   "source": [
    "## Idea\n",
    "\n",
    "- forecast main meter `active power` from previous data"
   ]
  },
  {
   "cell_type": "markdown",
   "metadata": {},
   "source": [
    "## Problem\n",
    "\n",
    "- เหมือนมันทำ regression\n",
    "- คาดว่าเพราะข้อมูลไม่ได้มี period ที่แน่นอน?\n",
    "- หรือเพราะข้อมูลที่เป็น step? อยู่ๆก็พุ่งขึ้น?"
   ]
  },
  {
   "cell_type": "markdown",
   "metadata": {},
   "source": [
    "#### constant\n",
    "\n",
    "number of minute in one day and one week"
   ]
  },
  {
   "cell_type": "code",
   "execution_count": 2,
   "metadata": {
    "execution": {
     "iopub.execute_input": "2020-07-28T03:48:49.493878Z",
     "iopub.status.busy": "2020-07-28T03:48:49.493878Z",
     "iopub.status.idle": "2020-07-28T03:48:49.495901Z",
     "shell.execute_reply": "2020-07-28T03:48:49.495901Z",
     "shell.execute_reply.started": "2020-07-28T03:48:49.493878Z"
    }
   },
   "outputs": [],
   "source": [
    "ONEDAY_MIN = 24*60\n",
    "ONEWEEK_MIN = ONEDAY_MIN*7"
   ]
  },
  {
   "cell_type": "code",
   "execution_count": 3,
   "metadata": {
    "execution": {
     "iopub.execute_input": "2020-07-28T03:48:49.497877Z",
     "iopub.status.busy": "2020-07-28T03:48:49.496877Z",
     "iopub.status.idle": "2020-07-28T03:48:49.512882Z",
     "shell.execute_reply": "2020-07-28T03:48:49.512882Z",
     "shell.execute_reply.started": "2020-07-28T03:48:49.497877Z"
    }
   },
   "outputs": [
    {
     "data": {
      "text/plain": [
       "(1440, 10080)"
      ]
     },
     "execution_count": 3,
     "metadata": {},
     "output_type": "execute_result"
    }
   ],
   "source": [
    "ONEDAY_MIN, ONEWEEK_MIN"
   ]
  },
  {
   "cell_type": "markdown",
   "metadata": {},
   "source": [
    "## Load Meter Data\n",
    "\n",
    "### explore the dataframe"
   ]
  },
  {
   "cell_type": "code",
   "execution_count": 4,
   "metadata": {
    "execution": {
     "iopub.execute_input": "2020-07-28T03:48:49.513882Z",
     "iopub.status.busy": "2020-07-28T03:48:49.513882Z",
     "iopub.status.idle": "2020-07-28T03:48:50.714764Z",
     "shell.execute_reply": "2020-07-28T03:48:50.714764Z",
     "shell.execute_reply.started": "2020-07-28T03:48:49.513882Z"
    }
   },
   "outputs": [],
   "source": [
    "df = pd.read_csv(\"./data/raw_appliances/main_1.csv\")"
   ]
  },
  {
   "cell_type": "code",
   "execution_count": 5,
   "metadata": {
    "execution": {
     "iopub.execute_input": "2020-07-28T03:48:50.715764Z",
     "iopub.status.busy": "2020-07-28T03:48:50.715764Z",
     "iopub.status.idle": "2020-07-28T03:48:50.872800Z",
     "shell.execute_reply": "2020-07-28T03:48:50.872800Z",
     "shell.execute_reply.started": "2020-07-28T03:48:50.715764Z"
    }
   },
   "outputs": [
    {
     "name": "stdout",
     "output_type": "stream",
     "text": [
      "<class 'pandas.core.frame.DataFrame'>\n",
      "RangeIndex: 1051200 entries, 0 to 1051199\n",
      "Data columns (total 8 columns):\n",
      " #   Column                 Non-Null Count    Dtype  \n",
      "---  ------                 --------------    -----  \n",
      " 0   TIMESTAMP              1051200 non-null  object \n",
      " 1   power factor_apparent  1051200 non-null  float64\n",
      " 2   power_reactive         1051200 non-null  float64\n",
      " 3   power_active           1051200 non-null  float64\n",
      " 4   power_apparent         1051200 non-null  float64\n",
      " 5   appliances_type        1051200 non-null  object \n",
      " 6   appliances_id          1051200 non-null  int64  \n",
      " 7   appliances_name        1051200 non-null  object \n",
      "dtypes: float64(4), int64(1), object(3)\n",
      "memory usage: 64.2+ MB\n"
     ]
    }
   ],
   "source": [
    "df.info()"
   ]
  },
  {
   "cell_type": "code",
   "execution_count": 6,
   "metadata": {
    "execution": {
     "iopub.execute_input": "2020-07-28T03:48:50.873791Z",
     "iopub.status.busy": "2020-07-28T03:48:50.873791Z",
     "iopub.status.idle": "2020-07-28T03:48:50.889795Z",
     "shell.execute_reply": "2020-07-28T03:48:50.889795Z",
     "shell.execute_reply.started": "2020-07-28T03:48:50.873791Z"
    }
   },
   "outputs": [
    {
     "data": {
      "text/html": [
       "<div>\n",
       "<style scoped>\n",
       "    .dataframe tbody tr th:only-of-type {\n",
       "        vertical-align: middle;\n",
       "    }\n",
       "\n",
       "    .dataframe tbody tr th {\n",
       "        vertical-align: top;\n",
       "    }\n",
       "\n",
       "    .dataframe thead th {\n",
       "        text-align: right;\n",
       "    }\n",
       "</style>\n",
       "<table border=\"1\" class=\"dataframe\">\n",
       "  <thead>\n",
       "    <tr style=\"text-align: right;\">\n",
       "      <th></th>\n",
       "      <th>TIMESTAMP</th>\n",
       "      <th>power factor_apparent</th>\n",
       "      <th>power_reactive</th>\n",
       "      <th>power_active</th>\n",
       "      <th>power_apparent</th>\n",
       "      <th>appliances_type</th>\n",
       "      <th>appliances_id</th>\n",
       "      <th>appliances_name</th>\n",
       "    </tr>\n",
       "  </thead>\n",
       "  <tbody>\n",
       "    <tr>\n",
       "      <th>0</th>\n",
       "      <td>2012-04-01 00:00:00</td>\n",
       "      <td>0.93</td>\n",
       "      <td>141.0</td>\n",
       "      <td>918.0</td>\n",
       "      <td>1066.0</td>\n",
       "      <td>main</td>\n",
       "      <td>1</td>\n",
       "      <td>main 1</td>\n",
       "    </tr>\n",
       "    <tr>\n",
       "      <th>1</th>\n",
       "      <td>2012-04-01 00:01:00</td>\n",
       "      <td>0.93</td>\n",
       "      <td>141.0</td>\n",
       "      <td>913.0</td>\n",
       "      <td>1056.0</td>\n",
       "      <td>main</td>\n",
       "      <td>1</td>\n",
       "      <td>main 1</td>\n",
       "    </tr>\n",
       "    <tr>\n",
       "      <th>2</th>\n",
       "      <td>2012-04-01 00:02:00</td>\n",
       "      <td>0.93</td>\n",
       "      <td>139.0</td>\n",
       "      <td>872.0</td>\n",
       "      <td>1021.0</td>\n",
       "      <td>main</td>\n",
       "      <td>1</td>\n",
       "      <td>main 1</td>\n",
       "    </tr>\n",
       "    <tr>\n",
       "      <th>3</th>\n",
       "      <td>2012-04-01 00:03:00</td>\n",
       "      <td>0.93</td>\n",
       "      <td>141.0</td>\n",
       "      <td>872.0</td>\n",
       "      <td>1018.0</td>\n",
       "      <td>main</td>\n",
       "      <td>1</td>\n",
       "      <td>main 1</td>\n",
       "    </tr>\n",
       "    <tr>\n",
       "      <th>4</th>\n",
       "      <td>2012-04-01 00:04:00</td>\n",
       "      <td>0.89</td>\n",
       "      <td>140.0</td>\n",
       "      <td>772.0</td>\n",
       "      <td>1018.0</td>\n",
       "      <td>main</td>\n",
       "      <td>1</td>\n",
       "      <td>main 1</td>\n",
       "    </tr>\n",
       "  </tbody>\n",
       "</table>\n",
       "</div>"
      ],
      "text/plain": [
       "             TIMESTAMP  power factor_apparent  power_reactive  power_active  \\\n",
       "0  2012-04-01 00:00:00                   0.93           141.0         918.0   \n",
       "1  2012-04-01 00:01:00                   0.93           141.0         913.0   \n",
       "2  2012-04-01 00:02:00                   0.93           139.0         872.0   \n",
       "3  2012-04-01 00:03:00                   0.93           141.0         872.0   \n",
       "4  2012-04-01 00:04:00                   0.89           140.0         772.0   \n",
       "\n",
       "   power_apparent appliances_type  appliances_id appliances_name  \n",
       "0          1066.0            main              1          main 1  \n",
       "1          1056.0            main              1          main 1  \n",
       "2          1021.0            main              1          main 1  \n",
       "3          1018.0            main              1          main 1  \n",
       "4          1018.0            main              1          main 1  "
      ]
     },
     "execution_count": 6,
     "metadata": {},
     "output_type": "execute_result"
    }
   ],
   "source": [
    "df.head()"
   ]
  },
  {
   "cell_type": "markdown",
   "metadata": {},
   "source": [
    "#### column variable"
   ]
  },
  {
   "cell_type": "code",
   "execution_count": 7,
   "metadata": {
    "execution": {
     "iopub.execute_input": "2020-07-28T03:48:50.890795Z",
     "iopub.status.busy": "2020-07-28T03:48:50.890795Z",
     "iopub.status.idle": "2020-07-28T03:48:50.900806Z",
     "shell.execute_reply": "2020-07-28T03:48:50.900806Z",
     "shell.execute_reply.started": "2020-07-28T03:48:50.890795Z"
    }
   },
   "outputs": [],
   "source": [
    "timestamp_col = \"TIMESTAMP\""
   ]
  },
  {
   "cell_type": "markdown",
   "metadata": {},
   "source": [
    "### Preprocess data frame\n",
    "\n",
    "#### convert timestamp to datetime obj"
   ]
  },
  {
   "cell_type": "code",
   "execution_count": 8,
   "metadata": {
    "execution": {
     "iopub.execute_input": "2020-07-28T03:48:50.902797Z",
     "iopub.status.busy": "2020-07-28T03:48:50.902797Z",
     "iopub.status.idle": "2020-07-28T03:48:51.641986Z",
     "shell.execute_reply": "2020-07-28T03:48:51.641986Z",
     "shell.execute_reply.started": "2020-07-28T03:48:50.902797Z"
    }
   },
   "outputs": [],
   "source": [
    "preprocess_df.col_to_datetime(df, timestamp_col)"
   ]
  },
  {
   "cell_type": "code",
   "execution_count": 9,
   "metadata": {
    "execution": {
     "iopub.execute_input": "2020-07-28T03:48:51.643979Z",
     "iopub.status.busy": "2020-07-28T03:48:51.642978Z",
     "iopub.status.idle": "2020-07-28T03:48:51.757003Z",
     "shell.execute_reply": "2020-07-28T03:48:51.757003Z",
     "shell.execute_reply.started": "2020-07-28T03:48:51.643979Z"
    }
   },
   "outputs": [
    {
     "name": "stdout",
     "output_type": "stream",
     "text": [
      "<class 'pandas.core.frame.DataFrame'>\n",
      "RangeIndex: 1051200 entries, 0 to 1051199\n",
      "Data columns (total 8 columns):\n",
      " #   Column                 Non-Null Count    Dtype         \n",
      "---  ------                 --------------    -----         \n",
      " 0   TIMESTAMP              1051200 non-null  datetime64[ns]\n",
      " 1   power factor_apparent  1051200 non-null  float64       \n",
      " 2   power_reactive         1051200 non-null  float64       \n",
      " 3   power_active           1051200 non-null  float64       \n",
      " 4   power_apparent         1051200 non-null  float64       \n",
      " 5   appliances_type        1051200 non-null  object        \n",
      " 6   appliances_id          1051200 non-null  int64         \n",
      " 7   appliances_name        1051200 non-null  object        \n",
      "dtypes: datetime64[ns](1), float64(4), int64(1), object(2)\n",
      "memory usage: 64.2+ MB\n"
     ]
    }
   ],
   "source": [
    "df.info()"
   ]
  },
  {
   "cell_type": "markdown",
   "metadata": {},
   "source": [
    "#### add some new columns"
   ]
  },
  {
   "cell_type": "code",
   "execution_count": 10,
   "metadata": {
    "execution": {
     "iopub.execute_input": "2020-07-28T03:48:51.758002Z",
     "iopub.status.busy": "2020-07-28T03:48:51.758002Z",
     "iopub.status.idle": "2020-07-28T03:48:51.809023Z",
     "shell.execute_reply": "2020-07-28T03:48:51.809023Z",
     "shell.execute_reply.started": "2020-07-28T03:48:51.758002Z"
    }
   },
   "outputs": [],
   "source": [
    "preprocess_df.add_weekday_col(df, timestamp_col)"
   ]
  },
  {
   "cell_type": "code",
   "execution_count": 11,
   "metadata": {
    "execution": {
     "iopub.execute_input": "2020-07-28T03:48:51.810023Z",
     "iopub.status.busy": "2020-07-28T03:48:51.810023Z",
     "iopub.status.idle": "2020-07-28T03:48:51.940044Z",
     "shell.execute_reply": "2020-07-28T03:48:51.940044Z",
     "shell.execute_reply.started": "2020-07-28T03:48:51.810023Z"
    }
   },
   "outputs": [
    {
     "name": "stdout",
     "output_type": "stream",
     "text": [
      "<class 'pandas.core.frame.DataFrame'>\n",
      "RangeIndex: 1051200 entries, 0 to 1051199\n",
      "Data columns (total 9 columns):\n",
      " #   Column                 Non-Null Count    Dtype         \n",
      "---  ------                 --------------    -----         \n",
      " 0   TIMESTAMP              1051200 non-null  datetime64[ns]\n",
      " 1   power factor_apparent  1051200 non-null  float64       \n",
      " 2   power_reactive         1051200 non-null  float64       \n",
      " 3   power_active           1051200 non-null  float64       \n",
      " 4   power_apparent         1051200 non-null  float64       \n",
      " 5   appliances_type        1051200 non-null  object        \n",
      " 6   appliances_id          1051200 non-null  int64         \n",
      " 7   appliances_name        1051200 non-null  object        \n",
      " 8   weekday                1051200 non-null  int64         \n",
      "dtypes: datetime64[ns](1), float64(4), int64(2), object(2)\n",
      "memory usage: 72.2+ MB\n"
     ]
    }
   ],
   "source": [
    "df.info()"
   ]
  },
  {
   "cell_type": "markdown",
   "metadata": {},
   "source": [
    "### Dataset info"
   ]
  },
  {
   "cell_type": "code",
   "execution_count": 12,
   "metadata": {
    "execution": {
     "iopub.execute_input": "2020-07-28T03:48:51.941045Z",
     "iopub.status.busy": "2020-07-28T03:48:51.941045Z",
     "iopub.status.idle": "2020-07-28T03:48:52.053071Z",
     "shell.execute_reply": "2020-07-28T03:48:52.053071Z",
     "shell.execute_reply.started": "2020-07-28T03:48:51.941045Z"
    }
   },
   "outputs": [
    {
     "name": "stdout",
     "output_type": "stream",
     "text": [
      "<class 'pandas.core.frame.DataFrame'>\n",
      "RangeIndex: 1051200 entries, 0 to 1051199\n",
      "Data columns (total 9 columns):\n",
      " #   Column                 Non-Null Count    Dtype         \n",
      "---  ------                 --------------    -----         \n",
      " 0   TIMESTAMP              1051200 non-null  datetime64[ns]\n",
      " 1   power factor_apparent  1051200 non-null  float64       \n",
      " 2   power_reactive         1051200 non-null  float64       \n",
      " 3   power_active           1051200 non-null  float64       \n",
      " 4   power_apparent         1051200 non-null  float64       \n",
      " 5   appliances_type        1051200 non-null  object        \n",
      " 6   appliances_id          1051200 non-null  int64         \n",
      " 7   appliances_name        1051200 non-null  object        \n",
      " 8   weekday                1051200 non-null  int64         \n",
      "dtypes: datetime64[ns](1), float64(4), int64(2), object(2)\n",
      "memory usage: 72.2+ MB\n"
     ]
    }
   ],
   "source": [
    "df.info()"
   ]
  },
  {
   "cell_type": "code",
   "execution_count": 13,
   "metadata": {
    "execution": {
     "iopub.execute_input": "2020-07-28T03:48:52.054069Z",
     "iopub.status.busy": "2020-07-28T03:48:52.054069Z",
     "iopub.status.idle": "2020-07-28T03:48:52.058071Z",
     "shell.execute_reply": "2020-07-28T03:48:52.058071Z",
     "shell.execute_reply.started": "2020-07-28T03:48:52.054069Z"
    }
   },
   "outputs": [
    {
     "data": {
      "text/plain": [
       "(1051200, 9)"
      ]
     },
     "execution_count": 13,
     "metadata": {},
     "output_type": "execute_result"
    }
   ],
   "source": [
    "df.shape"
   ]
  },
  {
   "cell_type": "code",
   "execution_count": 14,
   "metadata": {
    "execution": {
     "iopub.execute_input": "2020-07-28T03:48:52.060071Z",
     "iopub.status.busy": "2020-07-28T03:48:52.059071Z",
     "iopub.status.idle": "2020-07-28T03:48:52.071073Z",
     "shell.execute_reply": "2020-07-28T03:48:52.071073Z",
     "shell.execute_reply.started": "2020-07-28T03:48:52.060071Z"
    }
   },
   "outputs": [
    {
     "name": "stdout",
     "output_type": "stream",
     "text": [
      "sampling period: 0 days 00:01:00\n",
      "sampling period: 60.0 sec\n"
     ]
    },
    {
     "data": {
      "text/plain": [
       "60.0"
      ]
     },
     "execution_count": 14,
     "metadata": {},
     "output_type": "execute_result"
    }
   ],
   "source": [
    "sampling_preriod = preprocess_df.get_sampling_period(df[timestamp_col])\n",
    "sampling_preriod"
   ]
  },
  {
   "cell_type": "markdown",
   "metadata": {},
   "source": [
    "### resample data"
   ]
  },
  {
   "cell_type": "code",
   "execution_count": 15,
   "metadata": {
    "execution": {
     "iopub.execute_input": "2020-07-28T03:48:52.073073Z",
     "iopub.status.busy": "2020-07-28T03:48:52.072073Z",
     "iopub.status.idle": "2020-07-28T03:48:52.397157Z",
     "shell.execute_reply": "2020-07-28T03:48:52.397157Z",
     "shell.execute_reply.started": "2020-07-28T03:48:52.073073Z"
    }
   },
   "outputs": [],
   "source": [
    "resampling_period = int(sampling_preriod*1)\n",
    "\n",
    "df.index = df[timestamp_col]\n",
    "df = df.resample(f\"{resampling_period}s\").mean()\n",
    "df = df.reset_index()"
   ]
  },
  {
   "cell_type": "code",
   "execution_count": 16,
   "metadata": {
    "execution": {
     "iopub.execute_input": "2020-07-28T03:48:52.399148Z",
     "iopub.status.busy": "2020-07-28T03:48:52.398147Z",
     "iopub.status.idle": "2020-07-28T03:48:52.415151Z",
     "shell.execute_reply": "2020-07-28T03:48:52.414150Z",
     "shell.execute_reply.started": "2020-07-28T03:48:52.399148Z"
    }
   },
   "outputs": [
    {
     "data": {
      "text/html": [
       "<div>\n",
       "<style scoped>\n",
       "    .dataframe tbody tr th:only-of-type {\n",
       "        vertical-align: middle;\n",
       "    }\n",
       "\n",
       "    .dataframe tbody tr th {\n",
       "        vertical-align: top;\n",
       "    }\n",
       "\n",
       "    .dataframe thead th {\n",
       "        text-align: right;\n",
       "    }\n",
       "</style>\n",
       "<table border=\"1\" class=\"dataframe\">\n",
       "  <thead>\n",
       "    <tr style=\"text-align: right;\">\n",
       "      <th></th>\n",
       "      <th>TIMESTAMP</th>\n",
       "      <th>power factor_apparent</th>\n",
       "      <th>power_reactive</th>\n",
       "      <th>power_active</th>\n",
       "      <th>power_apparent</th>\n",
       "      <th>appliances_id</th>\n",
       "      <th>weekday</th>\n",
       "    </tr>\n",
       "  </thead>\n",
       "  <tbody>\n",
       "    <tr>\n",
       "      <th>0</th>\n",
       "      <td>2012-04-01 00:00:00</td>\n",
       "      <td>0.93</td>\n",
       "      <td>141.0</td>\n",
       "      <td>918.0</td>\n",
       "      <td>1066.0</td>\n",
       "      <td>1</td>\n",
       "      <td>6</td>\n",
       "    </tr>\n",
       "    <tr>\n",
       "      <th>1</th>\n",
       "      <td>2012-04-01 00:01:00</td>\n",
       "      <td>0.93</td>\n",
       "      <td>141.0</td>\n",
       "      <td>913.0</td>\n",
       "      <td>1056.0</td>\n",
       "      <td>1</td>\n",
       "      <td>6</td>\n",
       "    </tr>\n",
       "    <tr>\n",
       "      <th>2</th>\n",
       "      <td>2012-04-01 00:02:00</td>\n",
       "      <td>0.93</td>\n",
       "      <td>139.0</td>\n",
       "      <td>872.0</td>\n",
       "      <td>1021.0</td>\n",
       "      <td>1</td>\n",
       "      <td>6</td>\n",
       "    </tr>\n",
       "    <tr>\n",
       "      <th>3</th>\n",
       "      <td>2012-04-01 00:03:00</td>\n",
       "      <td>0.93</td>\n",
       "      <td>141.0</td>\n",
       "      <td>872.0</td>\n",
       "      <td>1018.0</td>\n",
       "      <td>1</td>\n",
       "      <td>6</td>\n",
       "    </tr>\n",
       "    <tr>\n",
       "      <th>4</th>\n",
       "      <td>2012-04-01 00:04:00</td>\n",
       "      <td>0.89</td>\n",
       "      <td>140.0</td>\n",
       "      <td>772.0</td>\n",
       "      <td>1018.0</td>\n",
       "      <td>1</td>\n",
       "      <td>6</td>\n",
       "    </tr>\n",
       "    <tr>\n",
       "      <th>...</th>\n",
       "      <td>...</td>\n",
       "      <td>...</td>\n",
       "      <td>...</td>\n",
       "      <td>...</td>\n",
       "      <td>...</td>\n",
       "      <td>...</td>\n",
       "      <td>...</td>\n",
       "    </tr>\n",
       "    <tr>\n",
       "      <th>1051195</th>\n",
       "      <td>2014-03-31 23:55:00</td>\n",
       "      <td>0.85</td>\n",
       "      <td>169.0</td>\n",
       "      <td>534.0</td>\n",
       "      <td>766.0</td>\n",
       "      <td>1</td>\n",
       "      <td>0</td>\n",
       "    </tr>\n",
       "    <tr>\n",
       "      <th>1051196</th>\n",
       "      <td>2014-03-31 23:56:00</td>\n",
       "      <td>0.84</td>\n",
       "      <td>168.0</td>\n",
       "      <td>520.0</td>\n",
       "      <td>757.0</td>\n",
       "      <td>1</td>\n",
       "      <td>0</td>\n",
       "    </tr>\n",
       "    <tr>\n",
       "      <th>1051197</th>\n",
       "      <td>2014-03-31 23:57:00</td>\n",
       "      <td>0.83</td>\n",
       "      <td>168.0</td>\n",
       "      <td>525.0</td>\n",
       "      <td>766.0</td>\n",
       "      <td>1</td>\n",
       "      <td>0</td>\n",
       "    </tr>\n",
       "    <tr>\n",
       "      <th>1051198</th>\n",
       "      <td>2014-03-31 23:58:00</td>\n",
       "      <td>0.83</td>\n",
       "      <td>163.0</td>\n",
       "      <td>530.0</td>\n",
       "      <td>771.0</td>\n",
       "      <td>1</td>\n",
       "      <td>0</td>\n",
       "    </tr>\n",
       "    <tr>\n",
       "      <th>1051199</th>\n",
       "      <td>2014-03-31 23:59:00</td>\n",
       "      <td>0.84</td>\n",
       "      <td>161.0</td>\n",
       "      <td>530.0</td>\n",
       "      <td>771.0</td>\n",
       "      <td>1</td>\n",
       "      <td>0</td>\n",
       "    </tr>\n",
       "  </tbody>\n",
       "</table>\n",
       "<p>1051200 rows × 7 columns</p>\n",
       "</div>"
      ],
      "text/plain": [
       "                  TIMESTAMP  power factor_apparent  power_reactive  \\\n",
       "0       2012-04-01 00:00:00                   0.93           141.0   \n",
       "1       2012-04-01 00:01:00                   0.93           141.0   \n",
       "2       2012-04-01 00:02:00                   0.93           139.0   \n",
       "3       2012-04-01 00:03:00                   0.93           141.0   \n",
       "4       2012-04-01 00:04:00                   0.89           140.0   \n",
       "...                     ...                    ...             ...   \n",
       "1051195 2014-03-31 23:55:00                   0.85           169.0   \n",
       "1051196 2014-03-31 23:56:00                   0.84           168.0   \n",
       "1051197 2014-03-31 23:57:00                   0.83           168.0   \n",
       "1051198 2014-03-31 23:58:00                   0.83           163.0   \n",
       "1051199 2014-03-31 23:59:00                   0.84           161.0   \n",
       "\n",
       "         power_active  power_apparent  appliances_id  weekday  \n",
       "0               918.0          1066.0              1        6  \n",
       "1               913.0          1056.0              1        6  \n",
       "2               872.0          1021.0              1        6  \n",
       "3               872.0          1018.0              1        6  \n",
       "4               772.0          1018.0              1        6  \n",
       "...               ...             ...            ...      ...  \n",
       "1051195         534.0           766.0              1        0  \n",
       "1051196         520.0           757.0              1        0  \n",
       "1051197         525.0           766.0              1        0  \n",
       "1051198         530.0           771.0              1        0  \n",
       "1051199         530.0           771.0              1        0  \n",
       "\n",
       "[1051200 rows x 7 columns]"
      ]
     },
     "execution_count": 16,
     "metadata": {},
     "output_type": "execute_result"
    }
   ],
   "source": [
    "df"
   ]
  },
  {
   "cell_type": "markdown",
   "metadata": {},
   "source": [
    "### choose weekday"
   ]
  },
  {
   "cell_type": "code",
   "execution_count": 17,
   "metadata": {
    "execution": {
     "iopub.execute_input": "2020-07-28T03:48:52.416151Z",
     "iopub.status.busy": "2020-07-28T03:48:52.415151Z",
     "iopub.status.idle": "2020-07-28T03:48:52.438157Z",
     "shell.execute_reply": "2020-07-28T03:48:52.438157Z",
     "shell.execute_reply.started": "2020-07-28T03:48:52.416151Z"
    }
   },
   "outputs": [],
   "source": [
    "weekday = 3\n",
    "\n",
    "df = df[df['weekday'] == weekday]"
   ]
  },
  {
   "cell_type": "code",
   "execution_count": 18,
   "metadata": {
    "execution": {
     "iopub.execute_input": "2020-07-28T03:48:52.439156Z",
     "iopub.status.busy": "2020-07-28T03:48:52.439156Z",
     "iopub.status.idle": "2020-07-28T03:48:52.452159Z",
     "shell.execute_reply": "2020-07-28T03:48:52.452159Z",
     "shell.execute_reply.started": "2020-07-28T03:48:52.439156Z"
    }
   },
   "outputs": [
    {
     "data": {
      "text/html": [
       "<div>\n",
       "<style scoped>\n",
       "    .dataframe tbody tr th:only-of-type {\n",
       "        vertical-align: middle;\n",
       "    }\n",
       "\n",
       "    .dataframe tbody tr th {\n",
       "        vertical-align: top;\n",
       "    }\n",
       "\n",
       "    .dataframe thead th {\n",
       "        text-align: right;\n",
       "    }\n",
       "</style>\n",
       "<table border=\"1\" class=\"dataframe\">\n",
       "  <thead>\n",
       "    <tr style=\"text-align: right;\">\n",
       "      <th></th>\n",
       "      <th>TIMESTAMP</th>\n",
       "      <th>power factor_apparent</th>\n",
       "      <th>power_reactive</th>\n",
       "      <th>power_active</th>\n",
       "      <th>power_apparent</th>\n",
       "      <th>appliances_id</th>\n",
       "      <th>weekday</th>\n",
       "    </tr>\n",
       "  </thead>\n",
       "  <tbody>\n",
       "    <tr>\n",
       "      <th>5760</th>\n",
       "      <td>2012-04-05 00:00:00</td>\n",
       "      <td>0.82</td>\n",
       "      <td>110.0</td>\n",
       "      <td>484.0</td>\n",
       "      <td>706.0</td>\n",
       "      <td>1</td>\n",
       "      <td>3</td>\n",
       "    </tr>\n",
       "    <tr>\n",
       "      <th>5761</th>\n",
       "      <td>2012-04-05 00:01:00</td>\n",
       "      <td>0.82</td>\n",
       "      <td>105.0</td>\n",
       "      <td>479.0</td>\n",
       "      <td>702.0</td>\n",
       "      <td>1</td>\n",
       "      <td>3</td>\n",
       "    </tr>\n",
       "    <tr>\n",
       "      <th>5762</th>\n",
       "      <td>2012-04-05 00:02:00</td>\n",
       "      <td>0.88</td>\n",
       "      <td>168.0</td>\n",
       "      <td>621.0</td>\n",
       "      <td>866.0</td>\n",
       "      <td>1</td>\n",
       "      <td>3</td>\n",
       "    </tr>\n",
       "    <tr>\n",
       "      <th>5763</th>\n",
       "      <td>2012-04-05 00:03:00</td>\n",
       "      <td>0.87</td>\n",
       "      <td>164.0</td>\n",
       "      <td>616.0</td>\n",
       "      <td>864.0</td>\n",
       "      <td>1</td>\n",
       "      <td>3</td>\n",
       "    </tr>\n",
       "    <tr>\n",
       "      <th>5764</th>\n",
       "      <td>2012-04-05 00:04:00</td>\n",
       "      <td>0.87</td>\n",
       "      <td>162.0</td>\n",
       "      <td>603.0</td>\n",
       "      <td>843.0</td>\n",
       "      <td>1</td>\n",
       "      <td>3</td>\n",
       "    </tr>\n",
       "  </tbody>\n",
       "</table>\n",
       "</div>"
      ],
      "text/plain": [
       "               TIMESTAMP  power factor_apparent  power_reactive  power_active  \\\n",
       "5760 2012-04-05 00:00:00                   0.82           110.0         484.0   \n",
       "5761 2012-04-05 00:01:00                   0.82           105.0         479.0   \n",
       "5762 2012-04-05 00:02:00                   0.88           168.0         621.0   \n",
       "5763 2012-04-05 00:03:00                   0.87           164.0         616.0   \n",
       "5764 2012-04-05 00:04:00                   0.87           162.0         603.0   \n",
       "\n",
       "      power_apparent  appliances_id  weekday  \n",
       "5760           706.0              1        3  \n",
       "5761           702.0              1        3  \n",
       "5762           866.0              1        3  \n",
       "5763           864.0              1        3  \n",
       "5764           843.0              1        3  "
      ]
     },
     "execution_count": 18,
     "metadata": {},
     "output_type": "execute_result"
    }
   ],
   "source": [
    "df.head()"
   ]
  },
  {
   "cell_type": "markdown",
   "metadata": {
    "execution": {
     "iopub.execute_input": "2020-07-27T09:25:54.942530Z",
     "iopub.status.busy": "2020-07-27T09:25:54.942530Z",
     "iopub.status.idle": "2020-07-27T09:25:54.945529Z",
     "shell.execute_reply": "2020-07-27T09:25:54.945529Z",
     "shell.execute_reply.started": "2020-07-27T09:25:54.942530Z"
    }
   },
   "source": [
    "### visualize data"
   ]
  },
  {
   "cell_type": "code",
   "execution_count": 19,
   "metadata": {
    "execution": {
     "iopub.execute_input": "2020-07-28T03:48:52.454160Z",
     "iopub.status.busy": "2020-07-28T03:48:52.453159Z",
     "iopub.status.idle": "2020-07-28T03:48:52.465162Z",
     "shell.execute_reply": "2020-07-28T03:48:52.465162Z",
     "shell.execute_reply.started": "2020-07-28T03:48:52.454160Z"
    }
   },
   "outputs": [],
   "source": [
    "power_variable = \"power_active\""
   ]
  },
  {
   "cell_type": "code",
   "execution_count": 20,
   "metadata": {
    "execution": {
     "iopub.execute_input": "2020-07-28T03:48:52.466171Z",
     "iopub.status.busy": "2020-07-28T03:48:52.466171Z",
     "iopub.status.idle": "2020-07-28T03:48:52.743225Z",
     "shell.execute_reply": "2020-07-28T03:48:52.743225Z",
     "shell.execute_reply.started": "2020-07-28T03:48:52.466171Z"
    }
   },
   "outputs": [
    {
     "data": {
      "text/plain": [
       "<matplotlib.axes._subplots.AxesSubplot at 0x220c6c4b220>"
      ]
     },
     "execution_count": 20,
     "metadata": {},
     "output_type": "execute_result"
    },
    {
     "data": {
      "image/png": "[encoded data removed]",
      "text/plain": [
       "<Figure size 800x500 with 1 Axes>"
      ]
     },
     "metadata": {},
     "output_type": "display_data"
    }
   ],
   "source": [
    "n = 500\n",
    "sns.lineplot(x=np.arange(len(df[power_variable][:n])), y=df[power_variable][:n])"
   ]
  },
  {
   "cell_type": "markdown",
   "metadata": {},
   "source": [
    "## \n",
    "# Model\n",
    "\n",
    "## Preprocess"
   ]
  },
  {
   "cell_type": "markdown",
   "metadata": {},
   "source": [
    "### split train/validation"
   ]
  },
  {
   "cell_type": "code",
   "execution_count": 21,
   "metadata": {
    "execution": {
     "iopub.execute_input": "2020-07-28T03:48:52.744225Z",
     "iopub.status.busy": "2020-07-28T03:48:52.744225Z",
     "iopub.status.idle": "2020-07-28T03:48:52.748226Z",
     "shell.execute_reply": "2020-07-28T03:48:52.748226Z",
     "shell.execute_reply.started": "2020-07-28T03:48:52.744225Z"
    }
   },
   "outputs": [],
   "source": [
    "val_day = 10\n",
    "oneday_sample = (ONEDAY_MIN*60)//resampling_period\n",
    "\n",
    "split_index = df.shape[0] - (oneday_sample*val_day)"
   ]
  },
  {
   "cell_type": "code",
   "execution_count": 22,
   "metadata": {
    "execution": {
     "iopub.execute_input": "2020-07-28T03:48:52.749226Z",
     "iopub.status.busy": "2020-07-28T03:48:52.749226Z",
     "iopub.status.idle": "2020-07-28T03:48:52.761229Z",
     "shell.execute_reply": "2020-07-28T03:48:52.761229Z",
     "shell.execute_reply.started": "2020-07-28T03:48:52.749226Z"
    }
   },
   "outputs": [],
   "source": [
    "train = df[:split_index]\n",
    "val = df[split_index:]"
   ]
  },
  {
   "cell_type": "code",
   "execution_count": 23,
   "metadata": {
    "execution": {
     "iopub.execute_input": "2020-07-28T03:48:52.763230Z",
     "iopub.status.busy": "2020-07-28T03:48:52.762230Z",
     "iopub.status.idle": "2020-07-28T03:48:52.784234Z",
     "shell.execute_reply": "2020-07-28T03:48:52.784234Z",
     "shell.execute_reply.started": "2020-07-28T03:48:52.763230Z"
    }
   },
   "outputs": [
    {
     "data": {
      "text/html": [
       "<div>\n",
       "<style scoped>\n",
       "    .dataframe tbody tr th:only-of-type {\n",
       "        vertical-align: middle;\n",
       "    }\n",
       "\n",
       "    .dataframe tbody tr th {\n",
       "        vertical-align: top;\n",
       "    }\n",
       "\n",
       "    .dataframe thead th {\n",
       "        text-align: right;\n",
       "    }\n",
       "</style>\n",
       "<table border=\"1\" class=\"dataframe\">\n",
       "  <thead>\n",
       "    <tr style=\"text-align: right;\">\n",
       "      <th></th>\n",
       "      <th>TIMESTAMP</th>\n",
       "      <th>power factor_apparent</th>\n",
       "      <th>power_reactive</th>\n",
       "      <th>power_active</th>\n",
       "      <th>power_apparent</th>\n",
       "      <th>appliances_id</th>\n",
       "      <th>weekday</th>\n",
       "    </tr>\n",
       "  </thead>\n",
       "  <tbody>\n",
       "    <tr>\n",
       "      <th>5760</th>\n",
       "      <td>2012-04-05 00:00:00</td>\n",
       "      <td>0.82</td>\n",
       "      <td>110.0</td>\n",
       "      <td>484.0</td>\n",
       "      <td>706.0</td>\n",
       "      <td>1</td>\n",
       "      <td>3</td>\n",
       "    </tr>\n",
       "    <tr>\n",
       "      <th>5761</th>\n",
       "      <td>2012-04-05 00:01:00</td>\n",
       "      <td>0.82</td>\n",
       "      <td>105.0</td>\n",
       "      <td>479.0</td>\n",
       "      <td>702.0</td>\n",
       "      <td>1</td>\n",
       "      <td>3</td>\n",
       "    </tr>\n",
       "    <tr>\n",
       "      <th>5762</th>\n",
       "      <td>2012-04-05 00:02:00</td>\n",
       "      <td>0.88</td>\n",
       "      <td>168.0</td>\n",
       "      <td>621.0</td>\n",
       "      <td>866.0</td>\n",
       "      <td>1</td>\n",
       "      <td>3</td>\n",
       "    </tr>\n",
       "    <tr>\n",
       "      <th>5763</th>\n",
       "      <td>2012-04-05 00:03:00</td>\n",
       "      <td>0.87</td>\n",
       "      <td>164.0</td>\n",
       "      <td>616.0</td>\n",
       "      <td>864.0</td>\n",
       "      <td>1</td>\n",
       "      <td>3</td>\n",
       "    </tr>\n",
       "    <tr>\n",
       "      <th>5764</th>\n",
       "      <td>2012-04-05 00:04:00</td>\n",
       "      <td>0.87</td>\n",
       "      <td>162.0</td>\n",
       "      <td>603.0</td>\n",
       "      <td>843.0</td>\n",
       "      <td>1</td>\n",
       "      <td>3</td>\n",
       "    </tr>\n",
       "  </tbody>\n",
       "</table>\n",
       "</div>"
      ],
      "text/plain": [
       "               TIMESTAMP  power factor_apparent  power_reactive  power_active  \\\n",
       "5760 2012-04-05 00:00:00                   0.82           110.0         484.0   \n",
       "5761 2012-04-05 00:01:00                   0.82           105.0         479.0   \n",
       "5762 2012-04-05 00:02:00                   0.88           168.0         621.0   \n",
       "5763 2012-04-05 00:03:00                   0.87           164.0         616.0   \n",
       "5764 2012-04-05 00:04:00                   0.87           162.0         603.0   \n",
       "\n",
       "      power_apparent  appliances_id  weekday  \n",
       "5760           706.0              1        3  \n",
       "5761           702.0              1        3  \n",
       "5762           866.0              1        3  \n",
       "5763           864.0              1        3  \n",
       "5764           843.0              1        3  "
      ]
     },
     "execution_count": 23,
     "metadata": {},
     "output_type": "execute_result"
    }
   ],
   "source": [
    "train.head()"
   ]
  },
  {
   "cell_type": "code",
   "execution_count": 24,
   "metadata": {
    "execution": {
     "iopub.execute_input": "2020-07-28T03:48:52.785234Z",
     "iopub.status.busy": "2020-07-28T03:48:52.785234Z",
     "iopub.status.idle": "2020-07-28T03:48:52.800237Z",
     "shell.execute_reply": "2020-07-28T03:48:52.800237Z",
     "shell.execute_reply.started": "2020-07-28T03:48:52.785234Z"
    }
   },
   "outputs": [
    {
     "data": {
      "text/html": [
       "<div>\n",
       "<style scoped>\n",
       "    .dataframe tbody tr th:only-of-type {\n",
       "        vertical-align: middle;\n",
       "    }\n",
       "\n",
       "    .dataframe tbody tr th {\n",
       "        vertical-align: top;\n",
       "    }\n",
       "\n",
       "    .dataframe thead th {\n",
       "        text-align: right;\n",
       "    }\n",
       "</style>\n",
       "<table border=\"1\" class=\"dataframe\">\n",
       "  <thead>\n",
       "    <tr style=\"text-align: right;\">\n",
       "      <th></th>\n",
       "      <th>TIMESTAMP</th>\n",
       "      <th>power factor_apparent</th>\n",
       "      <th>power_reactive</th>\n",
       "      <th>power_active</th>\n",
       "      <th>power_apparent</th>\n",
       "      <th>appliances_id</th>\n",
       "      <th>weekday</th>\n",
       "    </tr>\n",
       "  </thead>\n",
       "  <tbody>\n",
       "    <tr>\n",
       "      <th>953280</th>\n",
       "      <td>2014-01-23 00:00:00</td>\n",
       "      <td>0.96</td>\n",
       "      <td>182.0</td>\n",
       "      <td>1494.0</td>\n",
       "      <td>1670.0</td>\n",
       "      <td>1</td>\n",
       "      <td>3</td>\n",
       "    </tr>\n",
       "    <tr>\n",
       "      <th>953281</th>\n",
       "      <td>2014-01-23 00:01:00</td>\n",
       "      <td>0.96</td>\n",
       "      <td>182.0</td>\n",
       "      <td>1498.0</td>\n",
       "      <td>1671.0</td>\n",
       "      <td>1</td>\n",
       "      <td>3</td>\n",
       "    </tr>\n",
       "    <tr>\n",
       "      <th>953282</th>\n",
       "      <td>2014-01-23 00:02:00</td>\n",
       "      <td>0.95</td>\n",
       "      <td>187.0</td>\n",
       "      <td>1302.0</td>\n",
       "      <td>1478.0</td>\n",
       "      <td>1</td>\n",
       "      <td>3</td>\n",
       "    </tr>\n",
       "    <tr>\n",
       "      <th>953283</th>\n",
       "      <td>2014-01-23 00:03:00</td>\n",
       "      <td>0.96</td>\n",
       "      <td>178.0</td>\n",
       "      <td>1293.0</td>\n",
       "      <td>1462.0</td>\n",
       "      <td>1</td>\n",
       "      <td>3</td>\n",
       "    </tr>\n",
       "    <tr>\n",
       "      <th>953284</th>\n",
       "      <td>2014-01-23 00:04:00</td>\n",
       "      <td>0.94</td>\n",
       "      <td>182.0</td>\n",
       "      <td>1211.0</td>\n",
       "      <td>1418.0</td>\n",
       "      <td>1</td>\n",
       "      <td>3</td>\n",
       "    </tr>\n",
       "  </tbody>\n",
       "</table>\n",
       "</div>"
      ],
      "text/plain": [
       "                 TIMESTAMP  power factor_apparent  power_reactive  \\\n",
       "953280 2014-01-23 00:00:00                   0.96           182.0   \n",
       "953281 2014-01-23 00:01:00                   0.96           182.0   \n",
       "953282 2014-01-23 00:02:00                   0.95           187.0   \n",
       "953283 2014-01-23 00:03:00                   0.96           178.0   \n",
       "953284 2014-01-23 00:04:00                   0.94           182.0   \n",
       "\n",
       "        power_active  power_apparent  appliances_id  weekday  \n",
       "953280        1494.0          1670.0              1        3  \n",
       "953281        1498.0          1671.0              1        3  \n",
       "953282        1302.0          1478.0              1        3  \n",
       "953283        1293.0          1462.0              1        3  \n",
       "953284        1211.0          1418.0              1        3  "
      ]
     },
     "execution_count": 24,
     "metadata": {},
     "output_type": "execute_result"
    }
   ],
   "source": [
    "val.head()"
   ]
  },
  {
   "cell_type": "code",
   "execution_count": 25,
   "metadata": {
    "execution": {
     "iopub.execute_input": "2020-07-28T03:48:52.801238Z",
     "iopub.status.busy": "2020-07-28T03:48:52.801238Z",
     "iopub.status.idle": "2020-07-28T03:48:52.817242Z",
     "shell.execute_reply": "2020-07-28T03:48:52.817242Z",
     "shell.execute_reply.started": "2020-07-28T03:48:52.801238Z"
    }
   },
   "outputs": [
    {
     "data": {
      "text/plain": [
       "((135360, 7), (14400, 7))"
      ]
     },
     "execution_count": 25,
     "metadata": {},
     "output_type": "execute_result"
    }
   ],
   "source": [
    "train.shape, val.shape"
   ]
  },
  {
   "cell_type": "markdown",
   "metadata": {},
   "source": [
    "### preprocess time series data"
   ]
  },
  {
   "cell_type": "code",
   "execution_count": 26,
   "metadata": {
    "execution": {
     "iopub.execute_input": "2020-07-28T03:48:52.824252Z",
     "iopub.status.busy": "2020-07-28T03:48:52.823243Z",
     "iopub.status.idle": "2020-07-28T03:48:52.828244Z",
     "shell.execute_reply": "2020-07-28T03:48:52.827244Z",
     "shell.execute_reply.started": "2020-07-28T03:48:52.824252Z"
    }
   },
   "outputs": [],
   "source": [
    "power_variable = \"power_active\"\n",
    "\n",
    "window_size = oneday_sample//24\n",
    "output_size = 1"
   ]
  },
  {
   "cell_type": "code",
   "execution_count": 27,
   "metadata": {
    "execution": {
     "iopub.execute_input": "2020-07-28T03:48:52.829244Z",
     "iopub.status.busy": "2020-07-28T03:48:52.829244Z",
     "iopub.status.idle": "2020-07-28T03:48:52.843248Z",
     "shell.execute_reply": "2020-07-28T03:48:52.843248Z",
     "shell.execute_reply.started": "2020-07-28T03:48:52.829244Z"
    }
   },
   "outputs": [
    {
     "data": {
      "text/plain": [
       "60"
      ]
     },
     "execution_count": 27,
     "metadata": {},
     "output_type": "execute_result"
    }
   ],
   "source": [
    "window_size"
   ]
  },
  {
   "cell_type": "code",
   "execution_count": 28,
   "metadata": {
    "execution": {
     "iopub.execute_input": "2020-07-28T03:48:52.845249Z",
     "iopub.status.busy": "2020-07-28T03:48:52.844247Z",
     "iopub.status.idle": "2020-07-28T03:49:28.456008Z",
     "shell.execute_reply": "2020-07-28T03:49:28.456008Z",
     "shell.execute_reply.started": "2020-07-28T03:48:52.845249Z"
    }
   },
   "outputs": [],
   "source": [
    "X_train, Y_train = preprocess_timeseries.windowing_arr_X_Y(train[power_variable], \n",
    "                                                           window_size, output_size)"
   ]
  },
  {
   "cell_type": "code",
   "execution_count": 29,
   "metadata": {
    "execution": {
     "iopub.execute_input": "2020-07-28T03:49:28.457009Z",
     "iopub.status.busy": "2020-07-28T03:49:28.457009Z",
     "iopub.status.idle": "2020-07-28T03:49:32.352882Z",
     "shell.execute_reply": "2020-07-28T03:49:32.352882Z",
     "shell.execute_reply.started": "2020-07-28T03:49:28.457009Z"
    }
   },
   "outputs": [],
   "source": [
    "X_val, Y_val = preprocess_timeseries.windowing_arr_X_Y(val[power_variable], \n",
    "                                                           window_size, output_size)"
   ]
  },
  {
   "cell_type": "code",
   "execution_count": 30,
   "metadata": {
    "execution": {
     "iopub.execute_input": "2020-07-28T03:49:32.353890Z",
     "iopub.status.busy": "2020-07-28T03:49:32.353890Z",
     "iopub.status.idle": "2020-07-28T03:49:32.356883Z",
     "shell.execute_reply": "2020-07-28T03:49:32.356883Z",
     "shell.execute_reply.started": "2020-07-28T03:49:32.353890Z"
    }
   },
   "outputs": [
    {
     "data": {
      "text/plain": [
       "((135300, 60), (135300, 1))"
      ]
     },
     "execution_count": 30,
     "metadata": {},
     "output_type": "execute_result"
    }
   ],
   "source": [
    "X_train.shape, Y_train.shape"
   ]
  },
  {
   "cell_type": "code",
   "execution_count": 31,
   "metadata": {
    "execution": {
     "iopub.execute_input": "2020-07-28T03:49:32.358884Z",
     "iopub.status.busy": "2020-07-28T03:49:32.358884Z",
     "iopub.status.idle": "2020-07-28T03:49:32.373886Z",
     "shell.execute_reply": "2020-07-28T03:49:32.373886Z",
     "shell.execute_reply.started": "2020-07-28T03:49:32.358884Z"
    }
   },
   "outputs": [
    {
     "data": {
      "text/plain": [
       "((14340, 60), (14340, 1))"
      ]
     },
     "execution_count": 31,
     "metadata": {},
     "output_type": "execute_result"
    }
   ],
   "source": [
    "X_val.shape, Y_val.shape"
   ]
  },
  {
   "cell_type": "markdown",
   "metadata": {},
   "source": [
    "#### reshape for LSTM"
   ]
  },
  {
   "cell_type": "code",
   "execution_count": 32,
   "metadata": {
    "execution": {
     "iopub.execute_input": "2020-07-28T03:49:32.375887Z",
     "iopub.status.busy": "2020-07-28T03:49:32.374886Z",
     "iopub.status.idle": "2020-07-28T03:49:32.386889Z",
     "shell.execute_reply": "2020-07-28T03:49:32.386889Z",
     "shell.execute_reply.started": "2020-07-28T03:49:32.375887Z"
    }
   },
   "outputs": [],
   "source": [
    "X_train = X_train.reshape(X_train.shape[0], X_train.shape[1], -1)\n",
    "X_val = X_val.reshape(X_val.shape[0], X_val.shape[1], -1)"
   ]
  },
  {
   "cell_type": "code",
   "execution_count": 33,
   "metadata": {
    "execution": {
     "iopub.execute_input": "2020-07-28T03:49:32.388890Z",
     "iopub.status.busy": "2020-07-28T03:49:32.388890Z",
     "iopub.status.idle": "2020-07-28T03:49:32.402893Z",
     "shell.execute_reply": "2020-07-28T03:49:32.401892Z",
     "shell.execute_reply.started": "2020-07-28T03:49:32.388890Z"
    }
   },
   "outputs": [
    {
     "data": {
      "text/plain": [
       "((135300, 60, 1), (14340, 60, 1))"
      ]
     },
     "execution_count": 33,
     "metadata": {},
     "output_type": "execute_result"
    }
   ],
   "source": [
    "X_train.shape, X_val.shape"
   ]
  },
  {
   "cell_type": "markdown",
   "metadata": {},
   "source": [
    "## create model"
   ]
  },
  {
   "cell_type": "code",
   "execution_count": 34,
   "metadata": {
    "execution": {
     "iopub.execute_input": "2020-07-28T03:49:32.403893Z",
     "iopub.status.busy": "2020-07-28T03:49:32.403893Z",
     "iopub.status.idle": "2020-07-28T03:49:32.412896Z",
     "shell.execute_reply": "2020-07-28T03:49:32.411895Z",
     "shell.execute_reply.started": "2020-07-28T03:49:32.403893Z"
    }
   },
   "outputs": [],
   "source": [
    "class CustomCallback(keras.callbacks.Callback):\n",
    "    def __init__(self, n_epoch):\n",
    "        self.n_epoch = n_epoch\n",
    "    def on_epoch_end(self, epoch, logs=None):\n",
    "        \n",
    "        if epoch == 0 or (epoch+1)%self.n_epoch == 0:\n",
    "            print(f\"Epoch: {epoch+1}\")\n",
    "            for key, value in logs.items():\n",
    "                print(f\"{key}: {value:.4f}\", end=\" \\t \")\n",
    "            print()"
   ]
  },
  {
   "cell_type": "code",
   "execution_count": 35,
   "metadata": {
    "execution": {
     "iopub.execute_input": "2020-07-28T03:49:32.413896Z",
     "iopub.status.busy": "2020-07-28T03:49:32.413896Z",
     "iopub.status.idle": "2020-07-28T03:49:32.721642Z",
     "shell.execute_reply": "2020-07-28T03:49:32.721642Z",
     "shell.execute_reply.started": "2020-07-28T03:49:32.413896Z"
    }
   },
   "outputs": [],
   "source": [
    "model = Sequential()\n",
    "model.add(LSTM(1, input_shape=(window_size, 1), return_sequences=False))\n",
    "model.add(Dense(output_size))"
   ]
  },
  {
   "cell_type": "code",
   "execution_count": 36,
   "metadata": {
    "execution": {
     "iopub.execute_input": "2020-07-28T03:49:32.723632Z",
     "iopub.status.busy": "2020-07-28T03:49:32.722632Z",
     "iopub.status.idle": "2020-07-28T03:49:32.734637Z",
     "shell.execute_reply": "2020-07-28T03:49:32.733636Z",
     "shell.execute_reply.started": "2020-07-28T03:49:32.723632Z"
    }
   },
   "outputs": [],
   "source": [
    "optimizer = Adam(learning_rate=5e-3)\n",
    "model.compile(optimizer=optimizer, loss='mean_absolute_error')"
   ]
  },
  {
   "cell_type": "code",
   "execution_count": 37,
   "metadata": {
    "execution": {
     "iopub.execute_input": "2020-07-28T03:49:32.735635Z",
     "iopub.status.busy": "2020-07-28T03:49:32.735635Z",
     "iopub.status.idle": "2020-07-28T03:55:37.688462Z",
     "shell.execute_reply": "2020-07-28T03:55:37.688462Z",
     "shell.execute_reply.started": "2020-07-28T03:49:32.735635Z"
    }
   },
   "outputs": [
    {
     "name": "stdout",
     "output_type": "stream",
     "text": [
      "Epoch 1/10\n",
      "8457/8457 [==============================] - 36s 4ms/step - loss: 1069.8950 - val_loss: 981.7765\n",
      "Epoch 2/10\n",
      "8457/8457 [==============================] - 36s 4ms/step - loss: 985.3248 - val_loss: 897.2371\n",
      "Epoch 3/10\n",
      "8457/8457 [==============================] - 36s 4ms/step - loss: 900.7919 - val_loss: 812.7005\n",
      "Epoch 4/10\n",
      "8457/8457 [==============================] - 35s 4ms/step - loss: 816.2557 - val_loss: 728.1740\n",
      "Epoch 5/10\n",
      "8457/8457 [==============================] - 38s 4ms/step - loss: 733.3633 - val_loss: 649.3046\n",
      "Epoch 6/10\n",
      "8457/8457 [==============================] - 38s 4ms/step - loss: 662.2841 - val_loss: 586.5542\n",
      "Epoch 7/10\n",
      "8457/8457 [==============================] - 37s 4ms/step - loss: 607.9990 - val_loss: 547.6366\n",
      "Epoch 8/10\n",
      "8457/8457 [==============================] - 33s 4ms/step - loss: 576.3282 - val_loss: 524.7723\n",
      "Epoch 9/10\n",
      "8457/8457 [==============================] - 35s 4ms/step - loss: 560.3305 - val_loss: 516.6522\n",
      "Epoch 10/10\n",
      "8457/8457 [==============================] - 38s 4ms/step - loss: 555.2556 - val_loss: 513.9892\n"
     ]
    }
   ],
   "source": [
    "num_epochs = 10\n",
    "batch_size = 16\n",
    "hist = model.fit(X_train, Y_train, \n",
    "                 epochs=num_epochs, batch_size=batch_size, \n",
    "                 validation_data=(X_val, Y_val), verbose=1)"
   ]
  },
  {
   "cell_type": "code",
   "execution_count": 38,
   "metadata": {
    "execution": {
     "iopub.execute_input": "2020-07-28T03:55:37.689463Z",
     "iopub.status.busy": "2020-07-28T03:55:37.689463Z",
     "iopub.status.idle": "2020-07-28T03:55:37.924517Z",
     "shell.execute_reply": "2020-07-28T03:55:37.924517Z",
     "shell.execute_reply.started": "2020-07-28T03:55:37.689463Z"
    }
   },
   "outputs": [
    {
     "data": {
      "text/plain": [
       "<matplotlib.axes._subplots.AxesSubplot at 0x222a988deb0>"
      ]
     },
     "execution_count": 38,
     "metadata": {},
     "output_type": "execute_result"
    },
    {
     "data": {
      "image/png": "[encoded data removed]",
      "text/plain": [
       "<Figure size 800x500 with 1 Axes>"
      ]
     },
     "metadata": {},
     "output_type": "display_data"
    }
   ],
   "source": [
    "epochs = np.arange(1, num_epochs+1)\n",
    "\n",
    "sns.lineplot(epochs, hist.history['loss'], label=\"loss\")\n",
    "sns.lineplot(epochs, hist.history['val_loss'], label=\"validation loss\")"
   ]
  },
  {
   "cell_type": "code",
   "execution_count": 39,
   "metadata": {
    "execution": {
     "iopub.execute_input": "2020-07-28T03:55:37.925517Z",
     "iopub.status.busy": "2020-07-28T03:55:37.925517Z",
     "iopub.status.idle": "2020-07-28T03:55:38.342126Z",
     "shell.execute_reply": "2020-07-28T03:55:38.342126Z",
     "shell.execute_reply.started": "2020-07-28T03:55:37.925517Z"
    }
   },
   "outputs": [
    {
     "data": {
      "text/plain": [
       "array([[719.3785]], dtype=float32)"
      ]
     },
     "execution_count": 39,
     "metadata": {},
     "output_type": "execute_result"
    }
   ],
   "source": [
    "model.predict(np.array([X_val[0]]))"
   ]
  },
  {
   "cell_type": "code",
   "execution_count": 40,
   "metadata": {
    "execution": {
     "iopub.execute_input": "2020-07-28T03:55:38.343125Z",
     "iopub.status.busy": "2020-07-28T03:55:38.343125Z",
     "iopub.status.idle": "2020-07-28T03:55:38.347647Z",
     "shell.execute_reply": "2020-07-28T03:55:38.347130Z",
     "shell.execute_reply.started": "2020-07-28T03:55:38.343125Z"
    }
   },
   "outputs": [
    {
     "data": {
      "text/plain": [
       "array([776.])"
      ]
     },
     "execution_count": 40,
     "metadata": {},
     "output_type": "execute_result"
    }
   ],
   "source": [
    "Y_val[0]"
   ]
  },
  {
   "cell_type": "markdown",
   "metadata": {},
   "source": [
    "## Predict Validation set"
   ]
  },
  {
   "cell_type": "code",
   "execution_count": 41,
   "metadata": {
    "execution": {
     "iopub.execute_input": "2020-07-28T03:55:38.348641Z",
     "iopub.status.busy": "2020-07-28T03:55:38.348641Z",
     "iopub.status.idle": "2020-07-28T03:55:38.972781Z",
     "shell.execute_reply": "2020-07-28T03:55:38.972781Z",
     "shell.execute_reply.started": "2020-07-28T03:55:38.348641Z"
    }
   },
   "outputs": [],
   "source": [
    "predicted = model.predict(X_val)"
   ]
  },
  {
   "cell_type": "code",
   "execution_count": 42,
   "metadata": {
    "execution": {
     "iopub.execute_input": "2020-07-28T03:55:38.973781Z",
     "iopub.status.busy": "2020-07-28T03:55:38.973781Z",
     "iopub.status.idle": "2020-07-28T03:55:38.976854Z",
     "shell.execute_reply": "2020-07-28T03:55:38.976854Z",
     "shell.execute_reply.started": "2020-07-28T03:55:38.973781Z"
    }
   },
   "outputs": [],
   "source": [
    "time_x = np.arange(len(Y_val))"
   ]
  },
  {
   "cell_type": "code",
   "execution_count": 43,
   "metadata": {
    "execution": {
     "iopub.execute_input": "2020-07-28T03:55:38.978784Z",
     "iopub.status.busy": "2020-07-28T03:55:38.977782Z",
     "iopub.status.idle": "2020-07-28T03:55:41.381363Z",
     "shell.execute_reply": "2020-07-28T03:55:41.381363Z",
     "shell.execute_reply.started": "2020-07-28T03:55:38.978784Z"
    }
   },
   "outputs": [
    {
     "data": {
      "image/png": "[encoded data removed]",
      "text/plain": [
       "<Figure size 800x500 with 1 Axes>"
      ]
     },
     "metadata": {},
     "output_type": "display_data"
    }
   ],
   "source": [
    "sns.lineplot(time_x, Y_val.squeeze(), label=\"y val\")\n",
    "sns.lineplot(time_x, predicted.squeeze(), label=\"predicted y val\")\n",
    "\n",
    "\n",
    "plt.xlim([-5, oneday_sample*3])\n",
    "plt.show()"
   ]
  },
  {
   "cell_type": "code",
   "execution_count": 44,
   "metadata": {
    "execution": {
     "iopub.execute_input": "2020-07-28T03:55:41.382363Z",
     "iopub.status.busy": "2020-07-28T03:55:41.382363Z",
     "iopub.status.idle": "2020-07-28T03:55:43.778388Z",
     "shell.execute_reply": "2020-07-28T03:55:43.778388Z",
     "shell.execute_reply.started": "2020-07-28T03:55:41.382363Z"
    }
   },
   "outputs": [
    {
     "data": {
      "image/png": "[encoded data removed]",
      "text/plain": [
       "<Figure size 800x500 with 1 Axes>"
      ]
     },
     "metadata": {},
     "output_type": "display_data"
    }
   ],
   "source": [
    "sns.lineplot(time_x, Y_val.squeeze(), label=\"y val\")\n",
    "sns.lineplot(time_x, predicted.squeeze(), label=\"predicted y val\")\n",
    "\n",
    "\n",
    "plt.xlim([-5, oneday_sample*1])\n",
    "plt.show()"
   ]
  },
  {
   "cell_type": "markdown",
   "metadata": {},
   "source": [
    "### save model\n",
    "\n",
    "ลองเซฟโมเดลหลายๆ วิธี เพราะเคยเซฟแล้วมันไม่จำ weight"
   ]
  },
  {
   "cell_type": "code",
   "execution_count": 45,
   "metadata": {
    "execution": {
     "iopub.execute_input": "2020-07-28T03:55:43.779388Z",
     "iopub.status.busy": "2020-07-28T03:55:43.779388Z",
     "iopub.status.idle": "2020-07-28T03:55:52.673574Z",
     "shell.execute_reply": "2020-07-28T03:55:52.673574Z",
     "shell.execute_reply.started": "2020-07-28T03:55:43.779388Z"
    }
   },
   "outputs": [
    {
     "name": "stdout",
     "output_type": "stream",
     "text": [
      "WARNING:tensorflow:From c:\\users\\chuan\\appdata\\local\\programs\\python\\python38\\lib\\site-packages\\tensorflow\\python\\ops\\resource_variable_ops.py:1813: calling BaseResourceVariable.__init__ (from tensorflow.python.ops.resource_variable_ops) with constraint is deprecated and will be removed in a future version.\n",
      "Instructions for updating:\n",
      "If using Keras pass *_constraint arguments to layers.\n",
      "INFO:tensorflow:Assets written to: ./models/model_1_10epochs\\assets\n"
     ]
    }
   ],
   "source": [
    "model.save(f\"./models/model_1_{num_epochs}epochs\")"
   ]
  },
  {
   "cell_type": "code",
   "execution_count": 46,
   "metadata": {
    "execution": {
     "iopub.execute_input": "2020-07-28T03:55:52.674575Z",
     "iopub.status.busy": "2020-07-28T03:55:52.674575Z",
     "iopub.status.idle": "2020-07-28T03:55:52.717542Z",
     "shell.execute_reply": "2020-07-28T03:55:52.717542Z",
     "shell.execute_reply.started": "2020-07-28T03:55:52.674575Z"
    }
   },
   "outputs": [],
   "source": [
    "model.save(f\"./models/model_1_{num_epochs}epochs_h5_1.h5\")"
   ]
  },
  {
   "cell_type": "code",
   "execution_count": 47,
   "metadata": {
    "execution": {
     "iopub.execute_input": "2020-07-28T03:55:52.718542Z",
     "iopub.status.busy": "2020-07-28T03:55:52.718542Z",
     "iopub.status.idle": "2020-07-28T03:55:52.742548Z",
     "shell.execute_reply": "2020-07-28T03:55:52.742548Z",
     "shell.execute_reply.started": "2020-07-28T03:55:52.718542Z"
    }
   },
   "outputs": [],
   "source": [
    "model.save(f\"./models/model_1_{num_epochs}epochs_h5_2.h5\", save_format='h5')"
   ]
  },
  {
   "cell_type": "code",
   "execution_count": 48,
   "metadata": {
    "execution": {
     "iopub.execute_input": "2020-07-28T03:55:52.743548Z",
     "iopub.status.busy": "2020-07-28T03:55:52.743548Z",
     "iopub.status.idle": "2020-07-28T03:55:52.775555Z",
     "shell.execute_reply": "2020-07-28T03:55:52.775555Z",
     "shell.execute_reply.started": "2020-07-28T03:55:52.743548Z"
    }
   },
   "outputs": [],
   "source": [
    "model.save_weights(f\"./models/model_1_{num_epochs}epochs_weight.h5\")"
   ]
  },
  {
   "cell_type": "code",
   "execution_count": null,
   "metadata": {},
   "outputs": [],
   "source": []
  }
 ],
 "metadata": {
  "kernelspec": {
   "display_name": "Python 3",
   "language": "python",
   "name": "python3"
  },
  "language_info": {
   "codemirror_mode": {
    "name": "ipython",
    "version": 3
   },
   "file_extension": ".py",
   "mimetype": "text/x-python",
   "name": "python",
   "nbconvert_exporter": "python",
   "pygments_lexer": "ipython3",
   "version": "3.8.3"
  }
 },
 "nbformat": 4,
 "nbformat_minor": 4
}
