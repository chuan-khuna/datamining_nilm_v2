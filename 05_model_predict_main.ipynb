{
 "cells": [
  {
   "cell_type": "code",
   "execution_count": 1,
   "metadata": {
    "execution": {
     "iopub.execute_input": "2020-07-27T15:58:39.081686Z",
     "iopub.status.busy": "2020-07-27T15:58:39.081686Z",
     "iopub.status.idle": "2020-07-27T15:58:42.547476Z",
     "shell.execute_reply": "2020-07-27T15:58:42.547476Z",
     "shell.execute_reply.started": "2020-07-27T15:58:39.081686Z"
    }
   },
   "outputs": [],
   "source": [
    "import numpy as np\n",
    "import pandas as pd\n",
    "import seaborn as sns\n",
    "import matplotlib.pyplot as plt\n",
    "import datetime as dt\n",
    "\n",
    "sns.set(context=\"paper\", style=\"whitegrid\", \n",
    "       rc={\n",
    "           \"figure.figsize\": (8, 5),\n",
    "           \"figure.dpi\": 100\n",
    "       })\n",
    "google = [\"#4285F4\", \"#DB4437\", \"#F4B400\", \"#0F9D58\"]\n",
    "\n",
    "sns.set_palette(google)\n",
    "\n",
    "from preprocess_lib import preprocess_df, preprocess_timeseries\n",
    "\n",
    "seed_ = 20200218\n",
    "np.random.seed(seed_)\n",
    "\n",
    "import tensorflow as tf\n",
    "import keras\n",
    "from keras.models import Sequential\n",
    "from keras.layers import Dense, LSTM, Lambda, Conv1D\n",
    "from keras.optimizers import *\n",
    "tf.random.set_seed(seed_)\n",
    "# physical_devices = tf.config.list_physical_devices('GPU')\n",
    "# tf.config.experimental.set_memory_growth(physical_devices[0], enable=True)"
   ]
  },
  {
   "cell_type": "markdown",
   "metadata": {},
   "source": [
    "## Idea\n",
    "\n",
    "- forecast main meter `active power` from previous data"
   ]
  },
  {
   "cell_type": "markdown",
   "metadata": {},
   "source": [
    "## Problem\n",
    "\n",
    "- เหมือนมันทำ regression\n",
    "- คาดว่าเพราะข้อมูลไม่ได้มี period ที่แน่นอน?\n",
    "- หรือเพราะข้อมูลที่เป็น step? อยู่ๆก็พุ่งขึ้น?"
   ]
  },
  {
   "cell_type": "markdown",
   "metadata": {},
   "source": [
    "#### constant\n",
    "\n",
    "number of minute in one day and one week"
   ]
  },
  {
   "cell_type": "code",
   "execution_count": 2,
   "metadata": {
    "execution": {
     "iopub.execute_input": "2020-07-27T15:58:42.548468Z",
     "iopub.status.busy": "2020-07-27T15:58:42.548468Z",
     "iopub.status.idle": "2020-07-27T15:58:42.553470Z",
     "shell.execute_reply": "2020-07-27T15:58:42.552470Z",
     "shell.execute_reply.started": "2020-07-27T15:58:42.548468Z"
    }
   },
   "outputs": [],
   "source": [
    "ONEDAY_MIN = 24*60\n",
    "ONEWEEK_MIN = ONEDAY_MIN*7"
   ]
  },
  {
   "cell_type": "code",
   "execution_count": 3,
   "metadata": {
    "execution": {
     "iopub.execute_input": "2020-07-27T15:58:42.554471Z",
     "iopub.status.busy": "2020-07-27T15:58:42.554471Z",
     "iopub.status.idle": "2020-07-27T15:58:42.566473Z",
     "shell.execute_reply": "2020-07-27T15:58:42.566473Z",
     "shell.execute_reply.started": "2020-07-27T15:58:42.554471Z"
    }
   },
   "outputs": [
    {
     "data": {
      "text/plain": [
       "(1440, 10080)"
      ]
     },
     "execution_count": 3,
     "metadata": {},
     "output_type": "execute_result"
    }
   ],
   "source": [
    "ONEDAY_MIN, ONEWEEK_MIN"
   ]
  },
  {
   "cell_type": "markdown",
   "metadata": {},
   "source": [
    "## Load Meter Data\n",
    "\n",
    "### explore the dataframe"
   ]
  },
  {
   "cell_type": "code",
   "execution_count": 4,
   "metadata": {
    "execution": {
     "iopub.execute_input": "2020-07-27T15:58:42.568472Z",
     "iopub.status.busy": "2020-07-27T15:58:42.567472Z",
     "iopub.status.idle": "2020-07-27T15:58:43.626719Z",
     "shell.execute_reply": "2020-07-27T15:58:43.626719Z",
     "shell.execute_reply.started": "2020-07-27T15:58:42.568472Z"
    }
   },
   "outputs": [],
   "source": [
    "df = pd.read_csv(\"./data/raw_appliances/main_1.csv\")"
   ]
  },
  {
   "cell_type": "code",
   "execution_count": 5,
   "metadata": {
    "execution": {
     "iopub.execute_input": "2020-07-27T15:58:43.627720Z",
     "iopub.status.busy": "2020-07-27T15:58:43.627720Z",
     "iopub.status.idle": "2020-07-27T15:58:43.783746Z",
     "shell.execute_reply": "2020-07-27T15:58:43.783746Z",
     "shell.execute_reply.started": "2020-07-27T15:58:43.627720Z"
    }
   },
   "outputs": [
    {
     "name": "stdout",
     "output_type": "stream",
     "text": [
      "<class 'pandas.core.frame.DataFrame'>\n",
      "RangeIndex: 1051200 entries, 0 to 1051199\n",
      "Data columns (total 8 columns):\n",
      " #   Column                 Non-Null Count    Dtype  \n",
      "---  ------                 --------------    -----  \n",
      " 0   TIMESTAMP              1051200 non-null  object \n",
      " 1   power factor_apparent  1051200 non-null  float64\n",
      " 2   power_reactive         1051200 non-null  float64\n",
      " 3   power_active           1051200 non-null  float64\n",
      " 4   power_apparent         1051200 non-null  float64\n",
      " 5   appliances_type        1051200 non-null  object \n",
      " 6   appliances_id          1051200 non-null  int64  \n",
      " 7   appliances_name        1051200 non-null  object \n",
      "dtypes: float64(4), int64(1), object(3)\n",
      "memory usage: 64.2+ MB\n"
     ]
    }
   ],
   "source": [
    "df.info()"
   ]
  },
  {
   "cell_type": "code",
   "execution_count": 6,
   "metadata": {
    "execution": {
     "iopub.execute_input": "2020-07-27T15:58:43.784746Z",
     "iopub.status.busy": "2020-07-27T15:58:43.784746Z",
     "iopub.status.idle": "2020-07-27T15:58:43.799751Z",
     "shell.execute_reply": "2020-07-27T15:58:43.799751Z",
     "shell.execute_reply.started": "2020-07-27T15:58:43.784746Z"
    }
   },
   "outputs": [
    {
     "data": {
      "text/html": [
       "<div>\n",
       "<style scoped>\n",
       "    .dataframe tbody tr th:only-of-type {\n",
       "        vertical-align: middle;\n",
       "    }\n",
       "\n",
       "    .dataframe tbody tr th {\n",
       "        vertical-align: top;\n",
       "    }\n",
       "\n",
       "    .dataframe thead th {\n",
       "        text-align: right;\n",
       "    }\n",
       "</style>\n",
       "<table border=\"1\" class=\"dataframe\">\n",
       "  <thead>\n",
       "    <tr style=\"text-align: right;\">\n",
       "      <th></th>\n",
       "      <th>TIMESTAMP</th>\n",
       "      <th>power factor_apparent</th>\n",
       "      <th>power_reactive</th>\n",
       "      <th>power_active</th>\n",
       "      <th>power_apparent</th>\n",
       "      <th>appliances_type</th>\n",
       "      <th>appliances_id</th>\n",
       "      <th>appliances_name</th>\n",
       "    </tr>\n",
       "  </thead>\n",
       "  <tbody>\n",
       "    <tr>\n",
       "      <th>0</th>\n",
       "      <td>2012-04-01 00:00:00</td>\n",
       "      <td>0.93</td>\n",
       "      <td>141.0</td>\n",
       "      <td>918.0</td>\n",
       "      <td>1066.0</td>\n",
       "      <td>main</td>\n",
       "      <td>1</td>\n",
       "      <td>main 1</td>\n",
       "    </tr>\n",
       "    <tr>\n",
       "      <th>1</th>\n",
       "      <td>2012-04-01 00:01:00</td>\n",
       "      <td>0.93</td>\n",
       "      <td>141.0</td>\n",
       "      <td>913.0</td>\n",
       "      <td>1056.0</td>\n",
       "      <td>main</td>\n",
       "      <td>1</td>\n",
       "      <td>main 1</td>\n",
       "    </tr>\n",
       "    <tr>\n",
       "      <th>2</th>\n",
       "      <td>2012-04-01 00:02:00</td>\n",
       "      <td>0.93</td>\n",
       "      <td>139.0</td>\n",
       "      <td>872.0</td>\n",
       "      <td>1021.0</td>\n",
       "      <td>main</td>\n",
       "      <td>1</td>\n",
       "      <td>main 1</td>\n",
       "    </tr>\n",
       "    <tr>\n",
       "      <th>3</th>\n",
       "      <td>2012-04-01 00:03:00</td>\n",
       "      <td>0.93</td>\n",
       "      <td>141.0</td>\n",
       "      <td>872.0</td>\n",
       "      <td>1018.0</td>\n",
       "      <td>main</td>\n",
       "      <td>1</td>\n",
       "      <td>main 1</td>\n",
       "    </tr>\n",
       "    <tr>\n",
       "      <th>4</th>\n",
       "      <td>2012-04-01 00:04:00</td>\n",
       "      <td>0.89</td>\n",
       "      <td>140.0</td>\n",
       "      <td>772.0</td>\n",
       "      <td>1018.0</td>\n",
       "      <td>main</td>\n",
       "      <td>1</td>\n",
       "      <td>main 1</td>\n",
       "    </tr>\n",
       "  </tbody>\n",
       "</table>\n",
       "</div>"
      ],
      "text/plain": [
       "             TIMESTAMP  power factor_apparent  power_reactive  power_active  \\\n",
       "0  2012-04-01 00:00:00                   0.93           141.0         918.0   \n",
       "1  2012-04-01 00:01:00                   0.93           141.0         913.0   \n",
       "2  2012-04-01 00:02:00                   0.93           139.0         872.0   \n",
       "3  2012-04-01 00:03:00                   0.93           141.0         872.0   \n",
       "4  2012-04-01 00:04:00                   0.89           140.0         772.0   \n",
       "\n",
       "   power_apparent appliances_type  appliances_id appliances_name  \n",
       "0          1066.0            main              1          main 1  \n",
       "1          1056.0            main              1          main 1  \n",
       "2          1021.0            main              1          main 1  \n",
       "3          1018.0            main              1          main 1  \n",
       "4          1018.0            main              1          main 1  "
      ]
     },
     "execution_count": 6,
     "metadata": {},
     "output_type": "execute_result"
    }
   ],
   "source": [
    "df.head()"
   ]
  },
  {
   "cell_type": "markdown",
   "metadata": {},
   "source": [
    "#### column variable"
   ]
  },
  {
   "cell_type": "code",
   "execution_count": 7,
   "metadata": {
    "execution": {
     "iopub.execute_input": "2020-07-27T15:58:43.800750Z",
     "iopub.status.busy": "2020-07-27T15:58:43.800750Z",
     "iopub.status.idle": "2020-07-27T15:58:43.807751Z",
     "shell.execute_reply": "2020-07-27T15:58:43.807751Z",
     "shell.execute_reply.started": "2020-07-27T15:58:43.800750Z"
    }
   },
   "outputs": [],
   "source": [
    "timestamp_col = \"TIMESTAMP\""
   ]
  },
  {
   "cell_type": "markdown",
   "metadata": {},
   "source": [
    "### Preprocess data frame\n",
    "\n",
    "#### convert timestamp to datetime obj"
   ]
  },
  {
   "cell_type": "code",
   "execution_count": 8,
   "metadata": {
    "execution": {
     "iopub.execute_input": "2020-07-27T15:58:43.809752Z",
     "iopub.status.busy": "2020-07-27T15:58:43.809752Z",
     "iopub.status.idle": "2020-07-27T15:58:44.553919Z",
     "shell.execute_reply": "2020-07-27T15:58:44.553919Z",
     "shell.execute_reply.started": "2020-07-27T15:58:43.809752Z"
    }
   },
   "outputs": [],
   "source": [
    "preprocess_df.col_to_datetime(df, timestamp_col)"
   ]
  },
  {
   "cell_type": "code",
   "execution_count": 9,
   "metadata": {
    "execution": {
     "iopub.execute_input": "2020-07-27T15:58:44.555920Z",
     "iopub.status.busy": "2020-07-27T15:58:44.555920Z",
     "iopub.status.idle": "2020-07-27T15:58:44.661944Z",
     "shell.execute_reply": "2020-07-27T15:58:44.661944Z",
     "shell.execute_reply.started": "2020-07-27T15:58:44.555920Z"
    }
   },
   "outputs": [
    {
     "name": "stdout",
     "output_type": "stream",
     "text": [
      "<class 'pandas.core.frame.DataFrame'>\n",
      "RangeIndex: 1051200 entries, 0 to 1051199\n",
      "Data columns (total 8 columns):\n",
      " #   Column                 Non-Null Count    Dtype         \n",
      "---  ------                 --------------    -----         \n",
      " 0   TIMESTAMP              1051200 non-null  datetime64[ns]\n",
      " 1   power factor_apparent  1051200 non-null  float64       \n",
      " 2   power_reactive         1051200 non-null  float64       \n",
      " 3   power_active           1051200 non-null  float64       \n",
      " 4   power_apparent         1051200 non-null  float64       \n",
      " 5   appliances_type        1051200 non-null  object        \n",
      " 6   appliances_id          1051200 non-null  int64         \n",
      " 7   appliances_name        1051200 non-null  object        \n",
      "dtypes: datetime64[ns](1), float64(4), int64(1), object(2)\n",
      "memory usage: 64.2+ MB\n"
     ]
    }
   ],
   "source": [
    "df.info()"
   ]
  },
  {
   "cell_type": "markdown",
   "metadata": {},
   "source": [
    "#### add some new columns"
   ]
  },
  {
   "cell_type": "code",
   "execution_count": 10,
   "metadata": {
    "execution": {
     "iopub.execute_input": "2020-07-27T15:58:44.663944Z",
     "iopub.status.busy": "2020-07-27T15:58:44.663944Z",
     "iopub.status.idle": "2020-07-27T15:58:44.717957Z",
     "shell.execute_reply": "2020-07-27T15:58:44.717957Z",
     "shell.execute_reply.started": "2020-07-27T15:58:44.663944Z"
    }
   },
   "outputs": [],
   "source": [
    "preprocess_df.add_weekday_col(df, timestamp_col)"
   ]
  },
  {
   "cell_type": "code",
   "execution_count": 11,
   "metadata": {
    "execution": {
     "iopub.execute_input": "2020-07-27T15:58:44.718958Z",
     "iopub.status.busy": "2020-07-27T15:58:44.718958Z",
     "iopub.status.idle": "2020-07-27T15:58:44.853988Z",
     "shell.execute_reply": "2020-07-27T15:58:44.853988Z",
     "shell.execute_reply.started": "2020-07-27T15:58:44.718958Z"
    }
   },
   "outputs": [
    {
     "name": "stdout",
     "output_type": "stream",
     "text": [
      "<class 'pandas.core.frame.DataFrame'>\n",
      "RangeIndex: 1051200 entries, 0 to 1051199\n",
      "Data columns (total 9 columns):\n",
      " #   Column                 Non-Null Count    Dtype         \n",
      "---  ------                 --------------    -----         \n",
      " 0   TIMESTAMP              1051200 non-null  datetime64[ns]\n",
      " 1   power factor_apparent  1051200 non-null  float64       \n",
      " 2   power_reactive         1051200 non-null  float64       \n",
      " 3   power_active           1051200 non-null  float64       \n",
      " 4   power_apparent         1051200 non-null  float64       \n",
      " 5   appliances_type        1051200 non-null  object        \n",
      " 6   appliances_id          1051200 non-null  int64         \n",
      " 7   appliances_name        1051200 non-null  object        \n",
      " 8   weekday                1051200 non-null  int64         \n",
      "dtypes: datetime64[ns](1), float64(4), int64(2), object(2)\n",
      "memory usage: 72.2+ MB\n"
     ]
    }
   ],
   "source": [
    "df.info()"
   ]
  },
  {
   "cell_type": "markdown",
   "metadata": {},
   "source": [
    "### Dataset info"
   ]
  },
  {
   "cell_type": "code",
   "execution_count": 12,
   "metadata": {
    "execution": {
     "iopub.execute_input": "2020-07-27T15:58:44.854988Z",
     "iopub.status.busy": "2020-07-27T15:58:44.854988Z",
     "iopub.status.idle": "2020-07-27T15:58:44.975015Z",
     "shell.execute_reply": "2020-07-27T15:58:44.975015Z",
     "shell.execute_reply.started": "2020-07-27T15:58:44.854988Z"
    }
   },
   "outputs": [
    {
     "name": "stdout",
     "output_type": "stream",
     "text": [
      "<class 'pandas.core.frame.DataFrame'>\n",
      "RangeIndex: 1051200 entries, 0 to 1051199\n",
      "Data columns (total 9 columns):\n",
      " #   Column                 Non-Null Count    Dtype         \n",
      "---  ------                 --------------    -----         \n",
      " 0   TIMESTAMP              1051200 non-null  datetime64[ns]\n",
      " 1   power factor_apparent  1051200 non-null  float64       \n",
      " 2   power_reactive         1051200 non-null  float64       \n",
      " 3   power_active           1051200 non-null  float64       \n",
      " 4   power_apparent         1051200 non-null  float64       \n",
      " 5   appliances_type        1051200 non-null  object        \n",
      " 6   appliances_id          1051200 non-null  int64         \n",
      " 7   appliances_name        1051200 non-null  object        \n",
      " 8   weekday                1051200 non-null  int64         \n",
      "dtypes: datetime64[ns](1), float64(4), int64(2), object(2)\n",
      "memory usage: 72.2+ MB\n"
     ]
    }
   ],
   "source": [
    "df.info()"
   ]
  },
  {
   "cell_type": "code",
   "execution_count": 13,
   "metadata": {
    "execution": {
     "iopub.execute_input": "2020-07-27T15:58:44.976014Z",
     "iopub.status.busy": "2020-07-27T15:58:44.976014Z",
     "iopub.status.idle": "2020-07-27T15:58:44.979015Z",
     "shell.execute_reply": "2020-07-27T15:58:44.979015Z",
     "shell.execute_reply.started": "2020-07-27T15:58:44.976014Z"
    }
   },
   "outputs": [
    {
     "data": {
      "text/plain": [
       "(1051200, 9)"
      ]
     },
     "execution_count": 13,
     "metadata": {},
     "output_type": "execute_result"
    }
   ],
   "source": [
    "df.shape"
   ]
  },
  {
   "cell_type": "code",
   "execution_count": 14,
   "metadata": {
    "execution": {
     "iopub.execute_input": "2020-07-27T15:58:44.980016Z",
     "iopub.status.busy": "2020-07-27T15:58:44.980016Z",
     "iopub.status.idle": "2020-07-27T15:58:44.991020Z",
     "shell.execute_reply": "2020-07-27T15:58:44.991020Z",
     "shell.execute_reply.started": "2020-07-27T15:58:44.980016Z"
    }
   },
   "outputs": [
    {
     "name": "stdout",
     "output_type": "stream",
     "text": [
      "sampling period: 0 days 00:01:00\n",
      "sampling period: 60.0 sec\n"
     ]
    },
    {
     "data": {
      "text/plain": [
       "60.0"
      ]
     },
     "execution_count": 14,
     "metadata": {},
     "output_type": "execute_result"
    }
   ],
   "source": [
    "sampling_preriod = preprocess_df.get_sampling_period(df[timestamp_col])\n",
    "sampling_preriod"
   ]
  },
  {
   "cell_type": "markdown",
   "metadata": {},
   "source": [
    "### resample data"
   ]
  },
  {
   "cell_type": "code",
   "execution_count": 15,
   "metadata": {
    "execution": {
     "iopub.execute_input": "2020-07-27T15:58:44.992018Z",
     "iopub.status.busy": "2020-07-27T15:58:44.992018Z",
     "iopub.status.idle": "2020-07-27T15:58:45.344098Z",
     "shell.execute_reply": "2020-07-27T15:58:45.344098Z",
     "shell.execute_reply.started": "2020-07-27T15:58:44.992018Z"
    }
   },
   "outputs": [],
   "source": [
    "resampling_period = int(sampling_preriod*1)\n",
    "\n",
    "df.index = df[timestamp_col]\n",
    "df = df.resample(f\"{resampling_period}s\").mean()\n",
    "df = df.reset_index()"
   ]
  },
  {
   "cell_type": "code",
   "execution_count": 16,
   "metadata": {
    "execution": {
     "iopub.execute_input": "2020-07-27T15:58:45.345098Z",
     "iopub.status.busy": "2020-07-27T15:58:45.345098Z",
     "iopub.status.idle": "2020-07-27T15:58:45.359103Z",
     "shell.execute_reply": "2020-07-27T15:58:45.359103Z",
     "shell.execute_reply.started": "2020-07-27T15:58:45.345098Z"
    }
   },
   "outputs": [
    {
     "data": {
      "text/html": [
       "<div>\n",
       "<style scoped>\n",
       "    .dataframe tbody tr th:only-of-type {\n",
       "        vertical-align: middle;\n",
       "    }\n",
       "\n",
       "    .dataframe tbody tr th {\n",
       "        vertical-align: top;\n",
       "    }\n",
       "\n",
       "    .dataframe thead th {\n",
       "        text-align: right;\n",
       "    }\n",
       "</style>\n",
       "<table border=\"1\" class=\"dataframe\">\n",
       "  <thead>\n",
       "    <tr style=\"text-align: right;\">\n",
       "      <th></th>\n",
       "      <th>TIMESTAMP</th>\n",
       "      <th>power factor_apparent</th>\n",
       "      <th>power_reactive</th>\n",
       "      <th>power_active</th>\n",
       "      <th>power_apparent</th>\n",
       "      <th>appliances_id</th>\n",
       "      <th>weekday</th>\n",
       "    </tr>\n",
       "  </thead>\n",
       "  <tbody>\n",
       "    <tr>\n",
       "      <th>0</th>\n",
       "      <td>2012-04-01 00:00:00</td>\n",
       "      <td>0.93</td>\n",
       "      <td>141.0</td>\n",
       "      <td>918.0</td>\n",
       "      <td>1066.0</td>\n",
       "      <td>1</td>\n",
       "      <td>6</td>\n",
       "    </tr>\n",
       "    <tr>\n",
       "      <th>1</th>\n",
       "      <td>2012-04-01 00:01:00</td>\n",
       "      <td>0.93</td>\n",
       "      <td>141.0</td>\n",
       "      <td>913.0</td>\n",
       "      <td>1056.0</td>\n",
       "      <td>1</td>\n",
       "      <td>6</td>\n",
       "    </tr>\n",
       "    <tr>\n",
       "      <th>2</th>\n",
       "      <td>2012-04-01 00:02:00</td>\n",
       "      <td>0.93</td>\n",
       "      <td>139.0</td>\n",
       "      <td>872.0</td>\n",
       "      <td>1021.0</td>\n",
       "      <td>1</td>\n",
       "      <td>6</td>\n",
       "    </tr>\n",
       "    <tr>\n",
       "      <th>3</th>\n",
       "      <td>2012-04-01 00:03:00</td>\n",
       "      <td>0.93</td>\n",
       "      <td>141.0</td>\n",
       "      <td>872.0</td>\n",
       "      <td>1018.0</td>\n",
       "      <td>1</td>\n",
       "      <td>6</td>\n",
       "    </tr>\n",
       "    <tr>\n",
       "      <th>4</th>\n",
       "      <td>2012-04-01 00:04:00</td>\n",
       "      <td>0.89</td>\n",
       "      <td>140.0</td>\n",
       "      <td>772.0</td>\n",
       "      <td>1018.0</td>\n",
       "      <td>1</td>\n",
       "      <td>6</td>\n",
       "    </tr>\n",
       "    <tr>\n",
       "      <th>...</th>\n",
       "      <td>...</td>\n",
       "      <td>...</td>\n",
       "      <td>...</td>\n",
       "      <td>...</td>\n",
       "      <td>...</td>\n",
       "      <td>...</td>\n",
       "      <td>...</td>\n",
       "    </tr>\n",
       "    <tr>\n",
       "      <th>1051195</th>\n",
       "      <td>2014-03-31 23:55:00</td>\n",
       "      <td>0.85</td>\n",
       "      <td>169.0</td>\n",
       "      <td>534.0</td>\n",
       "      <td>766.0</td>\n",
       "      <td>1</td>\n",
       "      <td>0</td>\n",
       "    </tr>\n",
       "    <tr>\n",
       "      <th>1051196</th>\n",
       "      <td>2014-03-31 23:56:00</td>\n",
       "      <td>0.84</td>\n",
       "      <td>168.0</td>\n",
       "      <td>520.0</td>\n",
       "      <td>757.0</td>\n",
       "      <td>1</td>\n",
       "      <td>0</td>\n",
       "    </tr>\n",
       "    <tr>\n",
       "      <th>1051197</th>\n",
       "      <td>2014-03-31 23:57:00</td>\n",
       "      <td>0.83</td>\n",
       "      <td>168.0</td>\n",
       "      <td>525.0</td>\n",
       "      <td>766.0</td>\n",
       "      <td>1</td>\n",
       "      <td>0</td>\n",
       "    </tr>\n",
       "    <tr>\n",
       "      <th>1051198</th>\n",
       "      <td>2014-03-31 23:58:00</td>\n",
       "      <td>0.83</td>\n",
       "      <td>163.0</td>\n",
       "      <td>530.0</td>\n",
       "      <td>771.0</td>\n",
       "      <td>1</td>\n",
       "      <td>0</td>\n",
       "    </tr>\n",
       "    <tr>\n",
       "      <th>1051199</th>\n",
       "      <td>2014-03-31 23:59:00</td>\n",
       "      <td>0.84</td>\n",
       "      <td>161.0</td>\n",
       "      <td>530.0</td>\n",
       "      <td>771.0</td>\n",
       "      <td>1</td>\n",
       "      <td>0</td>\n",
       "    </tr>\n",
       "  </tbody>\n",
       "</table>\n",
       "<p>1051200 rows × 7 columns</p>\n",
       "</div>"
      ],
      "text/plain": [
       "                  TIMESTAMP  power factor_apparent  power_reactive  \\\n",
       "0       2012-04-01 00:00:00                   0.93           141.0   \n",
       "1       2012-04-01 00:01:00                   0.93           141.0   \n",
       "2       2012-04-01 00:02:00                   0.93           139.0   \n",
       "3       2012-04-01 00:03:00                   0.93           141.0   \n",
       "4       2012-04-01 00:04:00                   0.89           140.0   \n",
       "...                     ...                    ...             ...   \n",
       "1051195 2014-03-31 23:55:00                   0.85           169.0   \n",
       "1051196 2014-03-31 23:56:00                   0.84           168.0   \n",
       "1051197 2014-03-31 23:57:00                   0.83           168.0   \n",
       "1051198 2014-03-31 23:58:00                   0.83           163.0   \n",
       "1051199 2014-03-31 23:59:00                   0.84           161.0   \n",
       "\n",
       "         power_active  power_apparent  appliances_id  weekday  \n",
       "0               918.0          1066.0              1        6  \n",
       "1               913.0          1056.0              1        6  \n",
       "2               872.0          1021.0              1        6  \n",
       "3               872.0          1018.0              1        6  \n",
       "4               772.0          1018.0              1        6  \n",
       "...               ...             ...            ...      ...  \n",
       "1051195         534.0           766.0              1        0  \n",
       "1051196         520.0           757.0              1        0  \n",
       "1051197         525.0           766.0              1        0  \n",
       "1051198         530.0           771.0              1        0  \n",
       "1051199         530.0           771.0              1        0  \n",
       "\n",
       "[1051200 rows x 7 columns]"
      ]
     },
     "execution_count": 16,
     "metadata": {},
     "output_type": "execute_result"
    }
   ],
   "source": [
    "df"
   ]
  },
  {
   "cell_type": "markdown",
   "metadata": {
    "execution": {
     "iopub.execute_input": "2020-07-27T09:25:54.942530Z",
     "iopub.status.busy": "2020-07-27T09:25:54.942530Z",
     "iopub.status.idle": "2020-07-27T09:25:54.945529Z",
     "shell.execute_reply": "2020-07-27T09:25:54.945529Z",
     "shell.execute_reply.started": "2020-07-27T09:25:54.942530Z"
    }
   },
   "source": [
    "### visualize data"
   ]
  },
  {
   "cell_type": "code",
   "execution_count": 17,
   "metadata": {
    "execution": {
     "iopub.execute_input": "2020-07-27T15:58:45.360102Z",
     "iopub.status.busy": "2020-07-27T15:58:45.360102Z",
     "iopub.status.idle": "2020-07-27T15:58:45.368105Z",
     "shell.execute_reply": "2020-07-27T15:58:45.368105Z",
     "shell.execute_reply.started": "2020-07-27T15:58:45.360102Z"
    }
   },
   "outputs": [],
   "source": [
    "power_variable = \"power_active\""
   ]
  },
  {
   "cell_type": "code",
   "execution_count": 18,
   "metadata": {
    "execution": {
     "iopub.execute_input": "2020-07-27T15:58:45.370106Z",
     "iopub.status.busy": "2020-07-27T15:58:45.369105Z",
     "iopub.status.idle": "2020-07-27T15:58:45.681173Z",
     "shell.execute_reply": "2020-07-27T15:58:45.681173Z",
     "shell.execute_reply.started": "2020-07-27T15:58:45.370106Z"
    }
   },
   "outputs": [
    {
     "data": {
      "text/plain": [
       "<matplotlib.axes._subplots.AxesSubplot at 0x25085b60d60>"
      ]
     },
     "execution_count": 18,
     "metadata": {},
     "output_type": "execute_result"
    },
    {
     "data": {
      "image/png": "[encoded data removed]",
      "text/plain": [
       "<Figure size 800x500 with 1 Axes>"
      ]
     },
     "metadata": {},
     "output_type": "display_data"
    }
   ],
   "source": [
    "n = 500\n",
    "sns.lineplot(x=df[timestamp_col][:n], y=df[power_variable][:n])"
   ]
  },
  {
   "cell_type": "markdown",
   "metadata": {},
   "source": [
    "## \n",
    "# Model\n",
    "\n",
    "## Preprocess"
   ]
  },
  {
   "cell_type": "markdown",
   "metadata": {},
   "source": [
    "### split train/validation"
   ]
  },
  {
   "cell_type": "code",
   "execution_count": 19,
   "metadata": {
    "execution": {
     "iopub.execute_input": "2020-07-27T15:58:45.682173Z",
     "iopub.status.busy": "2020-07-27T15:58:45.682173Z",
     "iopub.status.idle": "2020-07-27T15:58:45.686175Z",
     "shell.execute_reply": "2020-07-27T15:58:45.686175Z",
     "shell.execute_reply.started": "2020-07-27T15:58:45.682173Z"
    }
   },
   "outputs": [],
   "source": [
    "val_day = 60\n",
    "oneday_sample = (ONEDAY_MIN*60)//resampling_period\n",
    "\n",
    "split_index = df.shape[0] - (oneday_sample*val_day)"
   ]
  },
  {
   "cell_type": "code",
   "execution_count": 20,
   "metadata": {
    "execution": {
     "iopub.execute_input": "2020-07-27T15:58:45.688175Z",
     "iopub.status.busy": "2020-07-27T15:58:45.687176Z",
     "iopub.status.idle": "2020-07-27T15:58:45.698180Z",
     "shell.execute_reply": "2020-07-27T15:58:45.698180Z",
     "shell.execute_reply.started": "2020-07-27T15:58:45.688175Z"
    }
   },
   "outputs": [],
   "source": [
    "train = df[:split_index]\n",
    "val = df[split_index:]"
   ]
  },
  {
   "cell_type": "code",
   "execution_count": 21,
   "metadata": {
    "execution": {
     "iopub.execute_input": "2020-07-27T15:58:45.699180Z",
     "iopub.status.busy": "2020-07-27T15:58:45.699180Z",
     "iopub.status.idle": "2020-07-27T15:58:45.713182Z",
     "shell.execute_reply": "2020-07-27T15:58:45.713182Z",
     "shell.execute_reply.started": "2020-07-27T15:58:45.699180Z"
    }
   },
   "outputs": [
    {
     "data": {
      "text/html": [
       "<div>\n",
       "<style scoped>\n",
       "    .dataframe tbody tr th:only-of-type {\n",
       "        vertical-align: middle;\n",
       "    }\n",
       "\n",
       "    .dataframe tbody tr th {\n",
       "        vertical-align: top;\n",
       "    }\n",
       "\n",
       "    .dataframe thead th {\n",
       "        text-align: right;\n",
       "    }\n",
       "</style>\n",
       "<table border=\"1\" class=\"dataframe\">\n",
       "  <thead>\n",
       "    <tr style=\"text-align: right;\">\n",
       "      <th></th>\n",
       "      <th>TIMESTAMP</th>\n",
       "      <th>power factor_apparent</th>\n",
       "      <th>power_reactive</th>\n",
       "      <th>power_active</th>\n",
       "      <th>power_apparent</th>\n",
       "      <th>appliances_id</th>\n",
       "      <th>weekday</th>\n",
       "    </tr>\n",
       "  </thead>\n",
       "  <tbody>\n",
       "    <tr>\n",
       "      <th>0</th>\n",
       "      <td>2012-04-01 00:00:00</td>\n",
       "      <td>0.93</td>\n",
       "      <td>141.0</td>\n",
       "      <td>918.0</td>\n",
       "      <td>1066.0</td>\n",
       "      <td>1</td>\n",
       "      <td>6</td>\n",
       "    </tr>\n",
       "    <tr>\n",
       "      <th>1</th>\n",
       "      <td>2012-04-01 00:01:00</td>\n",
       "      <td>0.93</td>\n",
       "      <td>141.0</td>\n",
       "      <td>913.0</td>\n",
       "      <td>1056.0</td>\n",
       "      <td>1</td>\n",
       "      <td>6</td>\n",
       "    </tr>\n",
       "    <tr>\n",
       "      <th>2</th>\n",
       "      <td>2012-04-01 00:02:00</td>\n",
       "      <td>0.93</td>\n",
       "      <td>139.0</td>\n",
       "      <td>872.0</td>\n",
       "      <td>1021.0</td>\n",
       "      <td>1</td>\n",
       "      <td>6</td>\n",
       "    </tr>\n",
       "    <tr>\n",
       "      <th>3</th>\n",
       "      <td>2012-04-01 00:03:00</td>\n",
       "      <td>0.93</td>\n",
       "      <td>141.0</td>\n",
       "      <td>872.0</td>\n",
       "      <td>1018.0</td>\n",
       "      <td>1</td>\n",
       "      <td>6</td>\n",
       "    </tr>\n",
       "    <tr>\n",
       "      <th>4</th>\n",
       "      <td>2012-04-01 00:04:00</td>\n",
       "      <td>0.89</td>\n",
       "      <td>140.0</td>\n",
       "      <td>772.0</td>\n",
       "      <td>1018.0</td>\n",
       "      <td>1</td>\n",
       "      <td>6</td>\n",
       "    </tr>\n",
       "  </tbody>\n",
       "</table>\n",
       "</div>"
      ],
      "text/plain": [
       "            TIMESTAMP  power factor_apparent  power_reactive  power_active  \\\n",
       "0 2012-04-01 00:00:00                   0.93           141.0         918.0   \n",
       "1 2012-04-01 00:01:00                   0.93           141.0         913.0   \n",
       "2 2012-04-01 00:02:00                   0.93           139.0         872.0   \n",
       "3 2012-04-01 00:03:00                   0.93           141.0         872.0   \n",
       "4 2012-04-01 00:04:00                   0.89           140.0         772.0   \n",
       "\n",
       "   power_apparent  appliances_id  weekday  \n",
       "0          1066.0              1        6  \n",
       "1          1056.0              1        6  \n",
       "2          1021.0              1        6  \n",
       "3          1018.0              1        6  \n",
       "4          1018.0              1        6  "
      ]
     },
     "execution_count": 21,
     "metadata": {},
     "output_type": "execute_result"
    }
   ],
   "source": [
    "train.head()"
   ]
  },
  {
   "cell_type": "code",
   "execution_count": 22,
   "metadata": {
    "execution": {
     "iopub.execute_input": "2020-07-27T15:58:45.714183Z",
     "iopub.status.busy": "2020-07-27T15:58:45.714183Z",
     "iopub.status.idle": "2020-07-27T15:58:45.730185Z",
     "shell.execute_reply": "2020-07-27T15:58:45.730185Z",
     "shell.execute_reply.started": "2020-07-27T15:58:45.714183Z"
    }
   },
   "outputs": [
    {
     "data": {
      "text/html": [
       "<div>\n",
       "<style scoped>\n",
       "    .dataframe tbody tr th:only-of-type {\n",
       "        vertical-align: middle;\n",
       "    }\n",
       "\n",
       "    .dataframe tbody tr th {\n",
       "        vertical-align: top;\n",
       "    }\n",
       "\n",
       "    .dataframe thead th {\n",
       "        text-align: right;\n",
       "    }\n",
       "</style>\n",
       "<table border=\"1\" class=\"dataframe\">\n",
       "  <thead>\n",
       "    <tr style=\"text-align: right;\">\n",
       "      <th></th>\n",
       "      <th>TIMESTAMP</th>\n",
       "      <th>power factor_apparent</th>\n",
       "      <th>power_reactive</th>\n",
       "      <th>power_active</th>\n",
       "      <th>power_apparent</th>\n",
       "      <th>appliances_id</th>\n",
       "      <th>weekday</th>\n",
       "    </tr>\n",
       "  </thead>\n",
       "  <tbody>\n",
       "    <tr>\n",
       "      <th>964800</th>\n",
       "      <td>2014-01-31 00:00:00</td>\n",
       "      <td>0.86</td>\n",
       "      <td>106.0</td>\n",
       "      <td>690.0</td>\n",
       "      <td>799.0</td>\n",
       "      <td>1</td>\n",
       "      <td>4</td>\n",
       "    </tr>\n",
       "    <tr>\n",
       "      <th>964801</th>\n",
       "      <td>2014-01-31 00:01:00</td>\n",
       "      <td>0.84</td>\n",
       "      <td>103.0</td>\n",
       "      <td>571.0</td>\n",
       "      <td>676.0</td>\n",
       "      <td>1</td>\n",
       "      <td>4</td>\n",
       "    </tr>\n",
       "    <tr>\n",
       "      <th>964802</th>\n",
       "      <td>2014-01-31 00:02:00</td>\n",
       "      <td>0.81</td>\n",
       "      <td>104.0</td>\n",
       "      <td>479.0</td>\n",
       "      <td>648.0</td>\n",
       "      <td>1</td>\n",
       "      <td>4</td>\n",
       "    </tr>\n",
       "    <tr>\n",
       "      <th>964803</th>\n",
       "      <td>2014-01-31 00:03:00</td>\n",
       "      <td>0.76</td>\n",
       "      <td>102.0</td>\n",
       "      <td>402.0</td>\n",
       "      <td>609.0</td>\n",
       "      <td>1</td>\n",
       "      <td>4</td>\n",
       "    </tr>\n",
       "    <tr>\n",
       "      <th>964804</th>\n",
       "      <td>2014-01-31 00:04:00</td>\n",
       "      <td>0.83</td>\n",
       "      <td>168.0</td>\n",
       "      <td>548.0</td>\n",
       "      <td>783.0</td>\n",
       "      <td>1</td>\n",
       "      <td>4</td>\n",
       "    </tr>\n",
       "  </tbody>\n",
       "</table>\n",
       "</div>"
      ],
      "text/plain": [
       "                 TIMESTAMP  power factor_apparent  power_reactive  \\\n",
       "964800 2014-01-31 00:00:00                   0.86           106.0   \n",
       "964801 2014-01-31 00:01:00                   0.84           103.0   \n",
       "964802 2014-01-31 00:02:00                   0.81           104.0   \n",
       "964803 2014-01-31 00:03:00                   0.76           102.0   \n",
       "964804 2014-01-31 00:04:00                   0.83           168.0   \n",
       "\n",
       "        power_active  power_apparent  appliances_id  weekday  \n",
       "964800         690.0           799.0              1        4  \n",
       "964801         571.0           676.0              1        4  \n",
       "964802         479.0           648.0              1        4  \n",
       "964803         402.0           609.0              1        4  \n",
       "964804         548.0           783.0              1        4  "
      ]
     },
     "execution_count": 22,
     "metadata": {},
     "output_type": "execute_result"
    }
   ],
   "source": [
    "val.head()"
   ]
  },
  {
   "cell_type": "code",
   "execution_count": 23,
   "metadata": {
    "execution": {
     "iopub.execute_input": "2020-07-27T15:58:45.732185Z",
     "iopub.status.busy": "2020-07-27T15:58:45.731186Z",
     "iopub.status.idle": "2020-07-27T15:58:45.737187Z",
     "shell.execute_reply": "2020-07-27T15:58:45.737187Z",
     "shell.execute_reply.started": "2020-07-27T15:58:45.732185Z"
    }
   },
   "outputs": [
    {
     "data": {
      "text/plain": [
       "((964800, 7), (86400, 7))"
      ]
     },
     "execution_count": 23,
     "metadata": {},
     "output_type": "execute_result"
    }
   ],
   "source": [
    "train.shape, val.shape"
   ]
  },
  {
   "cell_type": "markdown",
   "metadata": {},
   "source": [
    "### preprocess time series data"
   ]
  },
  {
   "cell_type": "code",
   "execution_count": 24,
   "metadata": {
    "execution": {
     "iopub.execute_input": "2020-07-27T15:58:45.738187Z",
     "iopub.status.busy": "2020-07-27T15:58:45.738187Z",
     "iopub.status.idle": "2020-07-27T15:58:45.745190Z",
     "shell.execute_reply": "2020-07-27T15:58:45.745190Z",
     "shell.execute_reply.started": "2020-07-27T15:58:45.738187Z"
    }
   },
   "outputs": [],
   "source": [
    "power_variable = \"power_active\"\n",
    "\n",
    "window_size = oneday_sample//4\n",
    "output_size = 1"
   ]
  },
  {
   "cell_type": "code",
   "execution_count": 25,
   "metadata": {
    "execution": {
     "iopub.execute_input": "2020-07-27T15:58:45.747189Z",
     "iopub.status.busy": "2020-07-27T15:58:45.746189Z",
     "iopub.status.idle": "2020-07-27T15:58:45.755190Z",
     "shell.execute_reply": "2020-07-27T15:58:45.755190Z",
     "shell.execute_reply.started": "2020-07-27T15:58:45.747189Z"
    }
   },
   "outputs": [
    {
     "data": {
      "text/plain": [
       "360"
      ]
     },
     "execution_count": 25,
     "metadata": {},
     "output_type": "execute_result"
    }
   ],
   "source": [
    "window_size"
   ]
  },
  {
   "cell_type": "code",
   "execution_count": 26,
   "metadata": {
    "execution": {
     "iopub.execute_input": "2020-07-27T15:58:45.759191Z",
     "iopub.status.busy": "2020-07-27T15:58:45.759191Z",
     "iopub.status.idle": "2020-07-27T16:06:15.757703Z",
     "shell.execute_reply": "2020-07-27T16:06:15.755703Z",
     "shell.execute_reply.started": "2020-07-27T15:58:45.759191Z"
    }
   },
   "outputs": [],
   "source": [
    "X_train, Y_train = preprocess_timeseries.windowing_arr_X_Y(train[power_variable], \n",
    "                                                           window_size, output_size)"
   ]
  },
  {
   "cell_type": "code",
   "execution_count": 27,
   "metadata": {
    "execution": {
     "iopub.execute_input": "2020-07-27T16:06:15.762704Z",
     "iopub.status.busy": "2020-07-27T16:06:15.762704Z",
     "iopub.status.idle": "2020-07-27T16:07:04.224390Z",
     "shell.execute_reply": "2020-07-27T16:07:04.223865Z",
     "shell.execute_reply.started": "2020-07-27T16:06:15.762704Z"
    }
   },
   "outputs": [],
   "source": [
    "X_val, Y_val = preprocess_timeseries.windowing_arr_X_Y(val[power_variable], \n",
    "                                                           window_size, output_size)"
   ]
  },
  {
   "cell_type": "code",
   "execution_count": 28,
   "metadata": {
    "execution": {
     "iopub.execute_input": "2020-07-27T16:07:04.225372Z",
     "iopub.status.busy": "2020-07-27T16:07:04.225372Z",
     "iopub.status.idle": "2020-07-27T16:07:04.231374Z",
     "shell.execute_reply": "2020-07-27T16:07:04.230374Z",
     "shell.execute_reply.started": "2020-07-27T16:07:04.225372Z"
    }
   },
   "outputs": [
    {
     "data": {
      "text/plain": [
       "((964440, 360), (964440, 1))"
      ]
     },
     "execution_count": 28,
     "metadata": {},
     "output_type": "execute_result"
    }
   ],
   "source": [
    "X_train.shape, Y_train.shape"
   ]
  },
  {
   "cell_type": "code",
   "execution_count": 29,
   "metadata": {
    "execution": {
     "iopub.execute_input": "2020-07-27T16:07:04.232375Z",
     "iopub.status.busy": "2020-07-27T16:07:04.231374Z",
     "iopub.status.idle": "2020-07-27T16:07:04.243376Z",
     "shell.execute_reply": "2020-07-27T16:07:04.243376Z",
     "shell.execute_reply.started": "2020-07-27T16:07:04.232375Z"
    }
   },
   "outputs": [
    {
     "data": {
      "text/plain": [
       "((86040, 360), (86040, 1))"
      ]
     },
     "execution_count": 29,
     "metadata": {},
     "output_type": "execute_result"
    }
   ],
   "source": [
    "X_val.shape, Y_val.shape"
   ]
  },
  {
   "cell_type": "markdown",
   "metadata": {},
   "source": [
    "#### reshape for LSTM"
   ]
  },
  {
   "cell_type": "code",
   "execution_count": 30,
   "metadata": {
    "execution": {
     "iopub.execute_input": "2020-07-27T16:07:04.245377Z",
     "iopub.status.busy": "2020-07-27T16:07:04.244376Z",
     "iopub.status.idle": "2020-07-27T16:07:04.253377Z",
     "shell.execute_reply": "2020-07-27T16:07:04.253377Z",
     "shell.execute_reply.started": "2020-07-27T16:07:04.245377Z"
    }
   },
   "outputs": [],
   "source": [
    "X_train = X_train.reshape(X_train.shape[0], X_train.shape[1], -1)\n",
    "X_val = X_val.reshape(X_val.shape[0], X_val.shape[1], -1)"
   ]
  },
  {
   "cell_type": "code",
   "execution_count": 31,
   "metadata": {
    "execution": {
     "iopub.execute_input": "2020-07-27T16:07:04.255379Z",
     "iopub.status.busy": "2020-07-27T16:07:04.254377Z",
     "iopub.status.idle": "2020-07-27T16:07:04.264380Z",
     "shell.execute_reply": "2020-07-27T16:07:04.264380Z",
     "shell.execute_reply.started": "2020-07-27T16:07:04.255379Z"
    }
   },
   "outputs": [
    {
     "data": {
      "text/plain": [
       "((964440, 360, 1), (86040, 360, 1))"
      ]
     },
     "execution_count": 31,
     "metadata": {},
     "output_type": "execute_result"
    }
   ],
   "source": [
    "X_train.shape, X_val.shape"
   ]
  },
  {
   "cell_type": "markdown",
   "metadata": {},
   "source": [
    "## create model"
   ]
  },
  {
   "cell_type": "code",
   "execution_count": 32,
   "metadata": {
    "execution": {
     "iopub.execute_input": "2020-07-27T16:07:04.265380Z",
     "iopub.status.busy": "2020-07-27T16:07:04.265380Z",
     "iopub.status.idle": "2020-07-27T16:07:04.277392Z",
     "shell.execute_reply": "2020-07-27T16:07:04.277392Z",
     "shell.execute_reply.started": "2020-07-27T16:07:04.265380Z"
    }
   },
   "outputs": [],
   "source": [
    "class CustomCallback(keras.callbacks.Callback):\n",
    "    def __init__(self, n_epoch):\n",
    "        self.n_epoch = n_epoch\n",
    "    def on_epoch_end(self, epoch, logs=None):\n",
    "        \n",
    "        if epoch == 0 or (epoch+1)%self.n_epoch == 0:\n",
    "            print(f\"Epoch: {epoch+1}\")\n",
    "            for key, value in logs.items():\n",
    "                print(f\"{key}: {value:.4f}\", end=\" \\t \")\n",
    "            print()"
   ]
  },
  {
   "cell_type": "code",
   "execution_count": 33,
   "metadata": {
    "execution": {
     "iopub.execute_input": "2020-07-27T16:07:04.278383Z",
     "iopub.status.busy": "2020-07-27T16:07:04.278383Z",
     "iopub.status.idle": "2020-07-27T16:07:04.652569Z",
     "shell.execute_reply": "2020-07-27T16:07:04.652569Z",
     "shell.execute_reply.started": "2020-07-27T16:07:04.278383Z"
    }
   },
   "outputs": [],
   "source": [
    "model = Sequential()\n",
    "model.add(LSTM(1, input_shape=(window_size, 1), return_sequences=False))\n",
    "model.add(Dense(output_size))"
   ]
  },
  {
   "cell_type": "code",
   "execution_count": 34,
   "metadata": {
    "execution": {
     "iopub.execute_input": "2020-07-27T16:07:04.653563Z",
     "iopub.status.busy": "2020-07-27T16:07:04.653563Z",
     "iopub.status.idle": "2020-07-27T16:07:04.666564Z",
     "shell.execute_reply": "2020-07-27T16:07:04.665564Z",
     "shell.execute_reply.started": "2020-07-27T16:07:04.653563Z"
    }
   },
   "outputs": [],
   "source": [
    "optimizer = Adam(learning_rate=5e-3)\n",
    "model.compile(optimizer=optimizer, loss='mean_squared_error')"
   ]
  },
  {
   "cell_type": "code",
   "execution_count": null,
   "metadata": {
    "execution": {
     "iopub.execute_input": "2020-07-27T16:07:04.667566Z",
     "iopub.status.busy": "2020-07-27T16:07:04.667566Z"
    }
   },
   "outputs": [
    {
     "name": "stdout",
     "output_type": "stream",
     "text": [
      "Epoch 1/10\n",
      "60278/60278 [==============================] - 700s 12ms/step - loss: 1591448.0000 - val_loss: 1305671.5000\n",
      "Epoch 2/10\n",
      "60278/60278 [==============================] - 697s 12ms/step - loss: 994091.4375 - val_loss: 986589.9375\n",
      "Epoch 3/10\n",
      "60278/60278 [==============================] - 702s 12ms/step - loss: 891536.9375 - val_loss: 966875.1875\n",
      "Epoch 4/10\n",
      "24429/60278 [===========>..................] - ETA: 6:42 - loss: 892235.0000"
     ]
    }
   ],
   "source": [
    "num_epochs = 10\n",
    "batch_size = 16\n",
    "hist = model.fit(X_train, Y_train, \n",
    "                 epochs=num_epochs, batch_size=batch_size, \n",
    "                 validation_data=(X_val, Y_val), verbose=1)"
   ]
  },
  {
   "cell_type": "code",
   "execution_count": null,
   "metadata": {},
   "outputs": [],
   "source": [
    "epochs = np.arange(1, num_epochs+1)\n",
    "\n",
    "sns.lineplot(epochs, hist.history['loss'], label=\"loss\")\n",
    "sns.lineplot(epochs, hist.history['val_loss'], label=\"validation loss\")"
   ]
  },
  {
   "cell_type": "code",
   "execution_count": null,
   "metadata": {},
   "outputs": [],
   "source": [
    "model.predict(np.array([X_val[0]]))"
   ]
  },
  {
   "cell_type": "code",
   "execution_count": null,
   "metadata": {},
   "outputs": [],
   "source": [
    "Y_val[0]"
   ]
  },
  {
   "cell_type": "markdown",
   "metadata": {},
   "source": [
    "## Predict Validation set"
   ]
  },
  {
   "cell_type": "code",
   "execution_count": null,
   "metadata": {},
   "outputs": [],
   "source": [
    "predicted = model.predict(X_val)"
   ]
  },
  {
   "cell_type": "code",
   "execution_count": null,
   "metadata": {},
   "outputs": [],
   "source": [
    "time_x = np.arange(len(Y_val))"
   ]
  },
  {
   "cell_type": "code",
   "execution_count": null,
   "metadata": {},
   "outputs": [],
   "source": [
    "sns.lineplot(time_x, Y_val.squeeze(), label=\"y val\")\n",
    "sns.lineplot(time_x, predicted.squeeze(), label=\"predicted y val\")\n",
    "\n",
    "\n",
    "plt.xlim([-5, oneday_sample*3])\n",
    "plt.show()"
   ]
  },
  {
   "cell_type": "code",
   "execution_count": null,
   "metadata": {},
   "outputs": [],
   "source": [
    "sns.lineplot(time_x, Y_val.squeeze(), label=\"y val\")\n",
    "sns.lineplot(time_x, predicted.squeeze(), label=\"predicted y val\")\n",
    "\n",
    "\n",
    "plt.xlim([-5, oneday_sample*1])\n",
    "plt.show()"
   ]
  },
  {
   "cell_type": "markdown",
   "metadata": {},
   "source": [
    "### save model\n",
    "\n",
    "ลองเซฟโมเดลหลายๆ วิธี เพราะเคยเซฟแล้วมันไม่จำ weight"
   ]
  },
  {
   "cell_type": "code",
   "execution_count": null,
   "metadata": {},
   "outputs": [],
   "source": [
    "model.save(f\"./models/model_1_{num_epochs}epochs\")"
   ]
  },
  {
   "cell_type": "code",
   "execution_count": null,
   "metadata": {},
   "outputs": [],
   "source": [
    "model.save(f\"./models/model_1_{num_epochs}epochs_h5_1.h5\")"
   ]
  },
  {
   "cell_type": "code",
   "execution_count": null,
   "metadata": {},
   "outputs": [],
   "source": [
    "model.save(f\"./models/model_1_{num_epochs}epochs_h5_2.h5\", save_format='h5')"
   ]
  },
  {
   "cell_type": "code",
   "execution_count": null,
   "metadata": {},
   "outputs": [],
   "source": [
    "model.save_weights(f\"./models/model_1_{num_epochs}epochs_weight.h5\")"
   ]
  },
  {
   "cell_type": "code",
   "execution_count": null,
   "metadata": {},
   "outputs": [],
   "source": []
  }
 ],
 "metadata": {
  "kernelspec": {
   "display_name": "Python 3",
   "language": "python",
   "name": "python3"
  },
  "language_info": {
   "codemirror_mode": {
    "name": "ipython",
    "version": 3
   },
   "file_extension": ".py",
   "mimetype": "text/x-python",
   "name": "python",
   "nbconvert_exporter": "python",
   "pygments_lexer": "ipython3",
   "version": "3.8.3"
  }
 },
 "nbformat": 4,
 "nbformat_minor": 4
}
